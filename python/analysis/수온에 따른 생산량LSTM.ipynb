{
 "cells": [
  {
   "cell_type": "code",
   "execution_count": 20,
   "metadata": {},
   "outputs": [],
   "source": [
    "import pandas as pd\n",
    "import random\n",
    "import matplotlib.pyplot as plt\n",
    "from sklearn.preprocessing import MinMaxScaler"
   ]
  },
  {
   "cell_type": "code",
   "execution_count": 21,
   "metadata": {},
   "outputs": [],
   "source": [
    "#한글 깨짐 방지\n",
    "from matplotlib import rc, font_manager\n",
    "font_path='../data/fonts/malgun.ttf'\n",
    "font_name=font_manager.FontProperties(fname=font_path).get_name()\n",
    "rc('font',family=font_name)\n",
    "#마이너스 깨짐 방지\n",
    "plt.rcParams['axes.unicode_minus']=False"
   ]
  },
  {
   "cell_type": "code",
   "execution_count": 22,
   "metadata": {},
   "outputs": [],
   "source": [
    "# temperature207=pd.read_csv('./data/temperature/207정선_월별.csv')\n",
    "temperature207=pd.read_csv('../data/temperature/207정선_월별(30,50m).csv')\n",
    "mackerel=pd.read_csv('../data/mackerel/부산_고등어_생산량(선어).csv',encoding='cp949')\n",
    "\n",
    "df=pd.merge(temperature207,mackerel,on=['년도','월'])\n",
    "# df.to_csv('data/merge/207_mackerel_product_final.csv',index=False,encoding='utf-8-sig')"
   ]
  },
  {
   "cell_type": "code",
   "execution_count": 23,
   "metadata": {},
   "outputs": [
    {
     "name": "stdout",
     "output_type": "stream",
     "text": [
      "<class 'pandas.core.frame.DataFrame'>\n",
      "DatetimeIndex: 138 entries, 2008-01-01 to 2022-12-01\n",
      "Data columns (total 4 columns):\n",
      " #   Column     Non-Null Count  Dtype  \n",
      "---  ------     --------------  -----  \n",
      " 0   수온(30m)    138 non-null    float64\n",
      " 1   염분(30m)    138 non-null    float64\n",
      " 2   용존산소(30m)  138 non-null    float64\n",
      " 3   생산량        138 non-null    int64  \n",
      "dtypes: float64(3), int64(1)\n",
      "memory usage: 5.4 KB\n"
     ]
    },
    {
     "data": {
      "text/html": [
       "<div>\n",
       "<style scoped>\n",
       "    .dataframe tbody tr th:only-of-type {\n",
       "        vertical-align: middle;\n",
       "    }\n",
       "\n",
       "    .dataframe tbody tr th {\n",
       "        vertical-align: top;\n",
       "    }\n",
       "\n",
       "    .dataframe thead th {\n",
       "        text-align: right;\n",
       "    }\n",
       "</style>\n",
       "<table border=\"1\" class=\"dataframe\">\n",
       "  <thead>\n",
       "    <tr style=\"text-align: right;\">\n",
       "      <th></th>\n",
       "      <th>수온(30m)</th>\n",
       "      <th>염분(30m)</th>\n",
       "      <th>용존산소(30m)</th>\n",
       "      <th>생산량</th>\n",
       "    </tr>\n",
       "    <tr>\n",
       "      <th>date</th>\n",
       "      <th></th>\n",
       "      <th></th>\n",
       "      <th></th>\n",
       "      <th></th>\n",
       "    </tr>\n",
       "  </thead>\n",
       "  <tbody>\n",
       "    <tr>\n",
       "      <th>2008-01-01</th>\n",
       "      <td>15.75</td>\n",
       "      <td>33.650</td>\n",
       "      <td>5.51500</td>\n",
       "      <td>7994</td>\n",
       "    </tr>\n",
       "    <tr>\n",
       "      <th>2008-02-01</th>\n",
       "      <td>14.80</td>\n",
       "      <td>34.010</td>\n",
       "      <td>5.82000</td>\n",
       "      <td>1430</td>\n",
       "    </tr>\n",
       "    <tr>\n",
       "      <th>2008-03-01</th>\n",
       "      <td>14.30</td>\n",
       "      <td>33.985</td>\n",
       "      <td>5.73500</td>\n",
       "      <td>3001</td>\n",
       "    </tr>\n",
       "    <tr>\n",
       "      <th>2008-07-01</th>\n",
       "      <td>15.10</td>\n",
       "      <td>33.940</td>\n",
       "      <td>5.13000</td>\n",
       "      <td>3946</td>\n",
       "    </tr>\n",
       "    <tr>\n",
       "      <th>2008-08-01</th>\n",
       "      <td>15.30</td>\n",
       "      <td>33.700</td>\n",
       "      <td>5.44000</td>\n",
       "      <td>7535</td>\n",
       "    </tr>\n",
       "    <tr>\n",
       "      <th>...</th>\n",
       "      <td>...</td>\n",
       "      <td>...</td>\n",
       "      <td>...</td>\n",
       "      <td>...</td>\n",
       "    </tr>\n",
       "    <tr>\n",
       "      <th>2022-08-01</th>\n",
       "      <td>20.00</td>\n",
       "      <td>32.820</td>\n",
       "      <td>3.87140</td>\n",
       "      <td>3900</td>\n",
       "    </tr>\n",
       "    <tr>\n",
       "      <th>2022-09-01</th>\n",
       "      <td>21.35</td>\n",
       "      <td>34.325</td>\n",
       "      <td>4.01425</td>\n",
       "      <td>5494</td>\n",
       "    </tr>\n",
       "    <tr>\n",
       "      <th>2022-10-01</th>\n",
       "      <td>21.70</td>\n",
       "      <td>33.030</td>\n",
       "      <td>4.45710</td>\n",
       "      <td>5339</td>\n",
       "    </tr>\n",
       "    <tr>\n",
       "      <th>2022-11-01</th>\n",
       "      <td>19.55</td>\n",
       "      <td>32.755</td>\n",
       "      <td>4.81425</td>\n",
       "      <td>12592</td>\n",
       "    </tr>\n",
       "    <tr>\n",
       "      <th>2022-12-01</th>\n",
       "      <td>16.40</td>\n",
       "      <td>33.128</td>\n",
       "      <td>4.17140</td>\n",
       "      <td>24533</td>\n",
       "    </tr>\n",
       "  </tbody>\n",
       "</table>\n",
       "<p>138 rows × 4 columns</p>\n",
       "</div>"
      ],
      "text/plain": [
       "            수온(30m)  염분(30m)  용존산소(30m)    생산량\n",
       "date                                          \n",
       "2008-01-01    15.75   33.650    5.51500   7994\n",
       "2008-02-01    14.80   34.010    5.82000   1430\n",
       "2008-03-01    14.30   33.985    5.73500   3001\n",
       "2008-07-01    15.10   33.940    5.13000   3946\n",
       "2008-08-01    15.30   33.700    5.44000   7535\n",
       "...             ...      ...        ...    ...\n",
       "2022-08-01    20.00   32.820    3.87140   3900\n",
       "2022-09-01    21.35   34.325    4.01425   5494\n",
       "2022-10-01    21.70   33.030    4.45710   5339\n",
       "2022-11-01    19.55   32.755    4.81425  12592\n",
       "2022-12-01    16.40   33.128    4.17140  24533\n",
       "\n",
       "[138 rows x 4 columns]"
      ]
     },
     "execution_count": 23,
     "metadata": {},
     "output_type": "execute_result"
    }
   ],
   "source": [
    "merge_207=pd.read_csv('../data/merge/207_mackerel_product_final.csv')\n",
    "# '%Y-%m' 형식으로 변환\n",
    "merge_207['date'] = pd.to_datetime(merge_207['date'], format='%Y-%m-%d')\n",
    "\n",
    "# 'date' 열을 인덱스로 설정\n",
    "merge_207.set_index('date', inplace=True)\n",
    "\n",
    "merge_207=merge_207[['수온(30m)','염분(30m)','용존산소(30m)','생산량']]\n",
    "merge_207=merge_207.dropna()\n",
    "merge_207.info()\n",
    "merge_207"
   ]
  },
  {
   "cell_type": "code",
   "execution_count": 24,
   "metadata": {},
   "outputs": [
    {
     "name": "stdout",
     "output_type": "stream",
     "text": [
      "(124, 4) (14, 4)\n"
     ]
    }
   ],
   "source": [
    "seq_length=3 # 3~7사이 값 설정\n",
    "\n",
    "train_size = int(len(merge_207)*0.9)\n",
    "train_set=merge_207[0:train_size]\n",
    "test_set=merge_207[train_size:]\n",
    "print(train_set.shape,test_set.shape)"
   ]
  },
  {
   "cell_type": "code",
   "execution_count": 25,
   "metadata": {},
   "outputs": [
    {
     "data": {
      "text/html": [
       "<div>\n",
       "<style scoped>\n",
       "    .dataframe tbody tr th:only-of-type {\n",
       "        vertical-align: middle;\n",
       "    }\n",
       "\n",
       "    .dataframe tbody tr th {\n",
       "        vertical-align: top;\n",
       "    }\n",
       "\n",
       "    .dataframe thead th {\n",
       "        text-align: right;\n",
       "    }\n",
       "</style>\n",
       "<table border=\"1\" class=\"dataframe\">\n",
       "  <thead>\n",
       "    <tr style=\"text-align: right;\">\n",
       "      <th></th>\n",
       "      <th>수온(30m)</th>\n",
       "      <th>염분(30m)</th>\n",
       "      <th>용존산소(30m)</th>\n",
       "      <th>생산량</th>\n",
       "    </tr>\n",
       "    <tr>\n",
       "      <th>date</th>\n",
       "      <th></th>\n",
       "      <th></th>\n",
       "      <th></th>\n",
       "      <th></th>\n",
       "    </tr>\n",
       "  </thead>\n",
       "  <tbody>\n",
       "    <tr>\n",
       "      <th>2008-01-01</th>\n",
       "      <td>15.75</td>\n",
       "      <td>33.650</td>\n",
       "      <td>5.515</td>\n",
       "      <td>7994</td>\n",
       "    </tr>\n",
       "    <tr>\n",
       "      <th>2008-02-01</th>\n",
       "      <td>14.80</td>\n",
       "      <td>34.010</td>\n",
       "      <td>5.820</td>\n",
       "      <td>1430</td>\n",
       "    </tr>\n",
       "    <tr>\n",
       "      <th>2008-03-01</th>\n",
       "      <td>14.30</td>\n",
       "      <td>33.985</td>\n",
       "      <td>5.735</td>\n",
       "      <td>3001</td>\n",
       "    </tr>\n",
       "    <tr>\n",
       "      <th>2008-07-01</th>\n",
       "      <td>15.10</td>\n",
       "      <td>33.940</td>\n",
       "      <td>5.130</td>\n",
       "      <td>3946</td>\n",
       "    </tr>\n",
       "    <tr>\n",
       "      <th>2008-08-01</th>\n",
       "      <td>15.30</td>\n",
       "      <td>33.700</td>\n",
       "      <td>5.440</td>\n",
       "      <td>7535</td>\n",
       "    </tr>\n",
       "  </tbody>\n",
       "</table>\n",
       "</div>"
      ],
      "text/plain": [
       "            수온(30m)  염분(30m)  용존산소(30m)   생산량\n",
       "date                                         \n",
       "2008-01-01    15.75   33.650      5.515  7994\n",
       "2008-02-01    14.80   34.010      5.820  1430\n",
       "2008-03-01    14.30   33.985      5.735  3001\n",
       "2008-07-01    15.10   33.940      5.130  3946\n",
       "2008-08-01    15.30   33.700      5.440  7535"
      ]
     },
     "execution_count": 25,
     "metadata": {},
     "output_type": "execute_result"
    }
   ],
   "source": [
    "train_set.head()"
   ]
  },
  {
   "cell_type": "code",
   "execution_count": 26,
   "metadata": {},
   "outputs": [],
   "source": [
    "#input scale\n",
    "scaler_x=MinMaxScaler()\n",
    "scaler_x.fit(train_set.iloc[:, :-1])\n",
    "\n",
    "train_set.iloc[:, :-1]=scaler_x.transform(train_set.iloc[:, :-1])\n",
    "test_set.iloc[:, :-1]=scaler_x.transform(test_set.iloc[:, :-1])\n",
    "\n",
    "# output scale\n",
    "scaler_y=MinMaxScaler()\n",
    "scaler_y.fit(train_set.iloc[:,[-1]])\n",
    "train_set.iloc[:, -1]=scaler_y.transform(train_set.iloc[:,[-1]])\n",
    "test_set.iloc[:, -1]=scaler_y.transform(test_set.iloc[:,[-1]])"
   ]
  },
  {
   "cell_type": "code",
   "execution_count": 27,
   "metadata": {},
   "outputs": [
    {
     "data": {
      "text/html": [
       "<div>\n",
       "<style scoped>\n",
       "    .dataframe tbody tr th:only-of-type {\n",
       "        vertical-align: middle;\n",
       "    }\n",
       "\n",
       "    .dataframe tbody tr th {\n",
       "        vertical-align: top;\n",
       "    }\n",
       "\n",
       "    .dataframe thead th {\n",
       "        text-align: right;\n",
       "    }\n",
       "</style>\n",
       "<table border=\"1\" class=\"dataframe\">\n",
       "  <thead>\n",
       "    <tr style=\"text-align: right;\">\n",
       "      <th></th>\n",
       "      <th>수온(30m)</th>\n",
       "      <th>염분(30m)</th>\n",
       "      <th>용존산소(30m)</th>\n",
       "      <th>생산량</th>\n",
       "    </tr>\n",
       "    <tr>\n",
       "      <th>date</th>\n",
       "      <th></th>\n",
       "      <th></th>\n",
       "      <th></th>\n",
       "      <th></th>\n",
       "    </tr>\n",
       "  </thead>\n",
       "  <tbody>\n",
       "    <tr>\n",
       "      <th>2021-08-01</th>\n",
       "      <td>0.518248</td>\n",
       "      <td>0.290657</td>\n",
       "      <td>0.185164</td>\n",
       "      <td>0.103563</td>\n",
       "    </tr>\n",
       "    <tr>\n",
       "      <th>2021-09-01</th>\n",
       "      <td>0.678832</td>\n",
       "      <td>0.486159</td>\n",
       "      <td>0.205329</td>\n",
       "      <td>0.278566</td>\n",
       "    </tr>\n",
       "    <tr>\n",
       "      <th>2021-10-01</th>\n",
       "      <td>0.766423</td>\n",
       "      <td>0.681661</td>\n",
       "      <td>0.507933</td>\n",
       "      <td>0.230392</td>\n",
       "    </tr>\n",
       "    <tr>\n",
       "      <th>2021-11-01</th>\n",
       "      <td>0.620438</td>\n",
       "      <td>0.747405</td>\n",
       "      <td>0.353672</td>\n",
       "      <td>0.338226</td>\n",
       "    </tr>\n",
       "    <tr>\n",
       "      <th>2021-12-01</th>\n",
       "      <td>0.401460</td>\n",
       "      <td>0.813149</td>\n",
       "      <td>0.448621</td>\n",
       "      <td>0.573654</td>\n",
       "    </tr>\n",
       "    <tr>\n",
       "      <th>2022-01-01</th>\n",
       "      <td>0.288321</td>\n",
       "      <td>0.858131</td>\n",
       "      <td>0.798700</td>\n",
       "      <td>0.275351</td>\n",
       "    </tr>\n",
       "    <tr>\n",
       "      <th>2022-02-01</th>\n",
       "      <td>0.175182</td>\n",
       "      <td>0.903114</td>\n",
       "      <td>0.733427</td>\n",
       "      <td>0.021648</td>\n",
       "    </tr>\n",
       "    <tr>\n",
       "      <th>2022-03-01</th>\n",
       "      <td>0.218978</td>\n",
       "      <td>0.885813</td>\n",
       "      <td>0.822437</td>\n",
       "      <td>0.048129</td>\n",
       "    </tr>\n",
       "    <tr>\n",
       "      <th>2022-07-01</th>\n",
       "      <td>0.554745</td>\n",
       "      <td>0.536332</td>\n",
       "      <td>0.413005</td>\n",
       "      <td>0.029403</td>\n",
       "    </tr>\n",
       "    <tr>\n",
       "      <th>2022-08-01</th>\n",
       "      <td>0.605839</td>\n",
       "      <td>0.342561</td>\n",
       "      <td>0.015451</td>\n",
       "      <td>0.060717</td>\n",
       "    </tr>\n",
       "    <tr>\n",
       "      <th>2022-09-01</th>\n",
       "      <td>0.704380</td>\n",
       "      <td>0.863322</td>\n",
       "      <td>0.074784</td>\n",
       "      <td>0.096549</td>\n",
       "    </tr>\n",
       "    <tr>\n",
       "      <th>2022-10-01</th>\n",
       "      <td>0.729927</td>\n",
       "      <td>0.415225</td>\n",
       "      <td>0.258722</td>\n",
       "      <td>0.093065</td>\n",
       "    </tr>\n",
       "    <tr>\n",
       "      <th>2022-11-01</th>\n",
       "      <td>0.572993</td>\n",
       "      <td>0.320069</td>\n",
       "      <td>0.407065</td>\n",
       "      <td>0.256109</td>\n",
       "    </tr>\n",
       "    <tr>\n",
       "      <th>2022-12-01</th>\n",
       "      <td>0.343066</td>\n",
       "      <td>0.449135</td>\n",
       "      <td>0.140056</td>\n",
       "      <td>0.524536</td>\n",
       "    </tr>\n",
       "  </tbody>\n",
       "</table>\n",
       "</div>"
      ],
      "text/plain": [
       "             수온(30m)   염분(30m)  용존산소(30m)       생산량\n",
       "date                                               \n",
       "2021-08-01  0.518248  0.290657   0.185164  0.103563\n",
       "2021-09-01  0.678832  0.486159   0.205329  0.278566\n",
       "2021-10-01  0.766423  0.681661   0.507933  0.230392\n",
       "2021-11-01  0.620438  0.747405   0.353672  0.338226\n",
       "2021-12-01  0.401460  0.813149   0.448621  0.573654\n",
       "2022-01-01  0.288321  0.858131   0.798700  0.275351\n",
       "2022-02-01  0.175182  0.903114   0.733427  0.021648\n",
       "2022-03-01  0.218978  0.885813   0.822437  0.048129\n",
       "2022-07-01  0.554745  0.536332   0.413005  0.029403\n",
       "2022-08-01  0.605839  0.342561   0.015451  0.060717\n",
       "2022-09-01  0.704380  0.863322   0.074784  0.096549\n",
       "2022-10-01  0.729927  0.415225   0.258722  0.093065\n",
       "2022-11-01  0.572993  0.320069   0.407065  0.256109\n",
       "2022-12-01  0.343066  0.449135   0.140056  0.524536"
      ]
     },
     "execution_count": 27,
     "metadata": {},
     "output_type": "execute_result"
    }
   ],
   "source": [
    "test_set[:]"
   ]
  },
  {
   "cell_type": "code",
   "execution_count": 28,
   "metadata": {},
   "outputs": [],
   "source": [
    "import torch\n",
    "import torch.nn as nn\n",
    "import torch.functional as F\n",
    "import torch.optim as optim\n",
    "from torch.utils.data import TensorDataset # 텐서데이터셋\n",
    "from torch.utils.data import DataLoader # 데이터로더\n",
    "import numpy as np"
   ]
  },
  {
   "cell_type": "code",
   "execution_count": 29,
   "metadata": {},
   "outputs": [],
   "source": [
    "device = torch.device('cuda:0' if torch.cuda.is_available() else 'cpu')\n",
    "torch.manual_seed(125)\n",
    "if torch.cuda.is_available() :\n",
    "    torch.cuda.manual_seed_all(125)"
   ]
  },
  {
   "cell_type": "code",
   "execution_count": 30,
   "metadata": {},
   "outputs": [
    {
     "data": {
      "text/plain": [
       "array([[0.103563  ],\n",
       "       [0.27856581],\n",
       "       [0.23039227],\n",
       "       [0.33822637],\n",
       "       [0.57365404],\n",
       "       [0.27535124],\n",
       "       [0.02164775],\n",
       "       [0.04812858],\n",
       "       [0.02940317],\n",
       "       [0.0607171 ],\n",
       "       [0.0965494 ],\n",
       "       [0.09306508],\n",
       "       [0.2561088 ],\n",
       "       [0.52453636]])"
      ]
     },
     "execution_count": 30,
     "metadata": {},
     "output_type": "execute_result"
    }
   ],
   "source": [
    "np.array(test_set)[:,[3]]"
   ]
  },
  {
   "cell_type": "code",
   "execution_count": 31,
   "metadata": {},
   "outputs": [],
   "source": [
    "def build_dataset(time_series, seq_length):\n",
    "    dataX=[]\n",
    "    dataY=[]\n",
    "    for i in range(0, len(time_series)-seq_length):\n",
    "        x_=time_series[i:i+seq_length, :]\n",
    "        y_=time_series[i+seq_length,[3]]\n",
    "        dataX.append(x_)\n",
    "        dataY.append(y_)\n",
    "    return np.array(dataX), np.array(dataY)"
   ]
  },
  {
   "cell_type": "code",
   "execution_count": 32,
   "metadata": {},
   "outputs": [
    {
     "name": "stdout",
     "output_type": "stream",
     "text": [
      "(121, 3, 4) (121, 1)\n",
      "(11, 3, 4) (11, 1)\n"
     ]
    }
   ],
   "source": [
    "trainX, trainY=build_dataset(np.array(train_set), seq_length)\n",
    "testX, testY=build_dataset(np.array(test_set),seq_length)\n",
    "\n",
    "print(trainX.shape, trainY.shape)\n",
    "print(testX.shape, testY.shape)"
   ]
  },
  {
   "cell_type": "code",
   "execution_count": 33,
   "metadata": {},
   "outputs": [
    {
     "name": "stdout",
     "output_type": "stream",
     "text": [
      "torch.Size([121, 3, 4]) torch.Size([121, 1])\n",
      "torch.Size([11, 3, 4]) torch.Size([11, 1])\n"
     ]
    }
   ],
   "source": [
    "trainX_tensor=torch.FloatTensor(trainX)\n",
    "trainY_tensor=torch.FloatTensor(trainY)\n",
    "testX_tensor=torch.FloatTensor(testX)\n",
    "testY_tensor=torch.FloatTensor(testY)\n",
    "\n",
    "\n",
    "print(trainX_tensor.size(), trainY_tensor.size())\n",
    "print(testX_tensor.size(), testY_tensor.size())"
   ]
  },
  {
   "cell_type": "code",
   "execution_count": 34,
   "metadata": {},
   "outputs": [],
   "source": [
    "train_dataset=TensorDataset(trainX_tensor, trainY_tensor)\n",
    "train_loader=DataLoader(train_dataset, shuffle=True,\n",
    "                        drop_last=True)"
   ]
  },
  {
   "cell_type": "code",
   "execution_count": 35,
   "metadata": {},
   "outputs": [],
   "source": [
    "data_dim=3\n",
    "hidden_dim=6\n",
    "output_dim=1\n",
    "learning_late=0.01\n",
    "epochs=2000"
   ]
  },
  {
   "cell_type": "code",
   "execution_count": 36,
   "metadata": {},
   "outputs": [],
   "source": [
    "class Net(nn.Module):\n",
    "  def __init__(self, input_dim, hidden_dim, seq_length, output_dim, layers):\n",
    "    super(Net, self).__init__()\n",
    "    self.hidden_dim=hidden_dim\n",
    "    self.seq_length=seq_length\n",
    "    self.output_dim=output_dim\n",
    "    self.layers=layers\n",
    "\n",
    "    self.lstm=nn.LSTM(input_dim, \n",
    "                      hidden_dim, \n",
    "                      num_layers=layers,\n",
    "                      batch_first=True)\n",
    "    \n",
    "    self.fc=nn.Linear(hidden_dim, output_dim, bias=True)\n",
    "    self.relu = nn.ReLU()\n",
    "\n",
    "  def reset_hidden_state(self):\n",
    "    self.hidden=(\n",
    "      torch.zeros(self.layers, self.seq_length, self.hidden_dim),\n",
    "      torch.zeros(self.layers, self.seq_length, self.hidden_dim)\n",
    "    )\n",
    "  def forward(self, x):\n",
    "    x, _status=self.lstm(x)\n",
    "    x=self.fc(x[:, -1])\n",
    "    x = self.relu(x)  # ReLU 추가\n",
    "    return x"
   ]
  },
  {
   "cell_type": "code",
   "execution_count": 37,
   "metadata": {},
   "outputs": [],
   "source": [
    "def train_model(model, train_df, epochs=None, lr=None, verbos=10, patience=10):\n",
    "  criterion=nn.MSELoss().to(device)\n",
    "  optimizer=optim.Adam(model.parameters())\n",
    "  n_epochs=epochs\n",
    "\n",
    "  train_hist=np.zeros(n_epochs)\n",
    "  for epoch in range(n_epochs):\n",
    "    avg_cost=0\n",
    "    total_batch=len(train_df)\n",
    "\n",
    "    for batch_idxm, sample in enumerate(train_df):\n",
    "      x_train, y_train=sample\n",
    "      model.reset_hidden_state()\n",
    "      output=model(x_train)\n",
    "      loss=criterion(output, y_train)\n",
    "      optimizer.zero_grad()\n",
    "      loss.backward()\n",
    "      optimizer.step()\n",
    "      avg_cost+=loss/total_batch\n",
    "    \n",
    "    train_hist[epoch]=avg_cost\n",
    "\n",
    "    if epoch % verbos==0:\n",
    "      print('Epoch:{}, train_loss:{}'.format(epoch, avg_cost.item()))\n",
    "\n",
    "    if(epoch % patience==0) & (epoch!=0):\n",
    "      if train_hist[epoch-patience] < train_hist[epoch]:\n",
    "        print(\"Early Stopping\")\n",
    "        break\n",
    "  return model.eval(), train_hist"
   ]
  },
  {
   "cell_type": "code",
   "execution_count": 38,
   "metadata": {},
   "outputs": [
    {
     "ename": "AttributeError",
     "evalue": "'Net' object has no attribute 'relu'",
     "output_type": "error",
     "traceback": [
      "\u001b[1;31m---------------------------------------------------------------------------\u001b[0m",
      "\u001b[1;31mAttributeError\u001b[0m                            Traceback (most recent call last)",
      "Cell \u001b[1;32mIn[38], line 2\u001b[0m\n\u001b[0;32m      1\u001b[0m net\u001b[38;5;241m=\u001b[39mNet(data_dim, hidden_dim, seq_length, output_dim, \u001b[38;5;241m1\u001b[39m)\n\u001b[1;32m----> 2\u001b[0m model, train_hist\u001b[38;5;241m=\u001b[39mtrain_model(net, train_loader, epochs\u001b[38;5;241m=\u001b[39mepochs,\n\u001b[0;32m      3\u001b[0m                               lr\u001b[38;5;241m=\u001b[39mlearning_late, verbos\u001b[38;5;241m=\u001b[39m\u001b[38;5;241m20\u001b[39m, patience\u001b[38;5;241m=\u001b[39m\u001b[38;5;241m100\u001b[39m)\n",
      "Cell \u001b[1;32mIn[37], line 14\u001b[0m, in \u001b[0;36mtrain_model\u001b[1;34m(model, train_df, epochs, lr, verbos, patience)\u001b[0m\n\u001b[0;32m     12\u001b[0m x_train, y_train\u001b[38;5;241m=\u001b[39msample\n\u001b[0;32m     13\u001b[0m model\u001b[38;5;241m.\u001b[39mreset_hidden_state()\n\u001b[1;32m---> 14\u001b[0m output\u001b[38;5;241m=\u001b[39mmodel(x_train)\n\u001b[0;32m     15\u001b[0m loss\u001b[38;5;241m=\u001b[39mcriterion(output, y_train)\n\u001b[0;32m     16\u001b[0m optimizer\u001b[38;5;241m.\u001b[39mzero_grad()\n",
      "File \u001b[1;32mc:\\Users\\leejaehyeon\\anaconda3\\Lib\\site-packages\\torch\\nn\\modules\\module.py:1511\u001b[0m, in \u001b[0;36mModule._wrapped_call_impl\u001b[1;34m(self, *args, **kwargs)\u001b[0m\n\u001b[0;32m   1509\u001b[0m     \u001b[38;5;28;01mreturn\u001b[39;00m \u001b[38;5;28mself\u001b[39m\u001b[38;5;241m.\u001b[39m_compiled_call_impl(\u001b[38;5;241m*\u001b[39margs, \u001b[38;5;241m*\u001b[39m\u001b[38;5;241m*\u001b[39mkwargs)  \u001b[38;5;66;03m# type: ignore[misc]\u001b[39;00m\n\u001b[0;32m   1510\u001b[0m \u001b[38;5;28;01melse\u001b[39;00m:\n\u001b[1;32m-> 1511\u001b[0m     \u001b[38;5;28;01mreturn\u001b[39;00m \u001b[38;5;28mself\u001b[39m\u001b[38;5;241m.\u001b[39m_call_impl(\u001b[38;5;241m*\u001b[39margs, \u001b[38;5;241m*\u001b[39m\u001b[38;5;241m*\u001b[39mkwargs)\n",
      "File \u001b[1;32mc:\\Users\\leejaehyeon\\anaconda3\\Lib\\site-packages\\torch\\nn\\modules\\module.py:1520\u001b[0m, in \u001b[0;36mModule._call_impl\u001b[1;34m(self, *args, **kwargs)\u001b[0m\n\u001b[0;32m   1515\u001b[0m \u001b[38;5;66;03m# If we don't have any hooks, we want to skip the rest of the logic in\u001b[39;00m\n\u001b[0;32m   1516\u001b[0m \u001b[38;5;66;03m# this function, and just call forward.\u001b[39;00m\n\u001b[0;32m   1517\u001b[0m \u001b[38;5;28;01mif\u001b[39;00m \u001b[38;5;129;01mnot\u001b[39;00m (\u001b[38;5;28mself\u001b[39m\u001b[38;5;241m.\u001b[39m_backward_hooks \u001b[38;5;129;01mor\u001b[39;00m \u001b[38;5;28mself\u001b[39m\u001b[38;5;241m.\u001b[39m_backward_pre_hooks \u001b[38;5;129;01mor\u001b[39;00m \u001b[38;5;28mself\u001b[39m\u001b[38;5;241m.\u001b[39m_forward_hooks \u001b[38;5;129;01mor\u001b[39;00m \u001b[38;5;28mself\u001b[39m\u001b[38;5;241m.\u001b[39m_forward_pre_hooks\n\u001b[0;32m   1518\u001b[0m         \u001b[38;5;129;01mor\u001b[39;00m _global_backward_pre_hooks \u001b[38;5;129;01mor\u001b[39;00m _global_backward_hooks\n\u001b[0;32m   1519\u001b[0m         \u001b[38;5;129;01mor\u001b[39;00m _global_forward_hooks \u001b[38;5;129;01mor\u001b[39;00m _global_forward_pre_hooks):\n\u001b[1;32m-> 1520\u001b[0m     \u001b[38;5;28;01mreturn\u001b[39;00m forward_call(\u001b[38;5;241m*\u001b[39margs, \u001b[38;5;241m*\u001b[39m\u001b[38;5;241m*\u001b[39mkwargs)\n\u001b[0;32m   1522\u001b[0m \u001b[38;5;28;01mtry\u001b[39;00m:\n\u001b[0;32m   1523\u001b[0m     result \u001b[38;5;241m=\u001b[39m \u001b[38;5;28;01mNone\u001b[39;00m\n",
      "Cell \u001b[1;32mIn[36], line 24\u001b[0m, in \u001b[0;36mNet.forward\u001b[1;34m(self, x)\u001b[0m\n\u001b[0;32m     22\u001b[0m x, _status\u001b[38;5;241m=\u001b[39m\u001b[38;5;28mself\u001b[39m\u001b[38;5;241m.\u001b[39mlstm(x)\n\u001b[0;32m     23\u001b[0m x\u001b[38;5;241m=\u001b[39m\u001b[38;5;28mself\u001b[39m\u001b[38;5;241m.\u001b[39mfc(x[:, \u001b[38;5;241m-\u001b[39m\u001b[38;5;241m1\u001b[39m])\n\u001b[1;32m---> 24\u001b[0m x \u001b[38;5;241m=\u001b[39m \u001b[38;5;28mself\u001b[39m\u001b[38;5;241m.\u001b[39mrelu(x)  \u001b[38;5;66;03m# ReLU 추가\u001b[39;00m\n\u001b[0;32m     25\u001b[0m \u001b[38;5;28;01mreturn\u001b[39;00m x\n",
      "File \u001b[1;32mc:\\Users\\leejaehyeon\\anaconda3\\Lib\\site-packages\\torch\\nn\\modules\\module.py:1688\u001b[0m, in \u001b[0;36mModule.__getattr__\u001b[1;34m(self, name)\u001b[0m\n\u001b[0;32m   1686\u001b[0m     \u001b[38;5;28;01mif\u001b[39;00m name \u001b[38;5;129;01min\u001b[39;00m modules:\n\u001b[0;32m   1687\u001b[0m         \u001b[38;5;28;01mreturn\u001b[39;00m modules[name]\n\u001b[1;32m-> 1688\u001b[0m \u001b[38;5;28;01mraise\u001b[39;00m \u001b[38;5;167;01mAttributeError\u001b[39;00m(\u001b[38;5;124mf\u001b[39m\u001b[38;5;124m\"\u001b[39m\u001b[38;5;124m'\u001b[39m\u001b[38;5;132;01m{\u001b[39;00m\u001b[38;5;28mtype\u001b[39m(\u001b[38;5;28mself\u001b[39m)\u001b[38;5;241m.\u001b[39m\u001b[38;5;18m__name__\u001b[39m\u001b[38;5;132;01m}\u001b[39;00m\u001b[38;5;124m'\u001b[39m\u001b[38;5;124m object has no attribute \u001b[39m\u001b[38;5;124m'\u001b[39m\u001b[38;5;132;01m{\u001b[39;00mname\u001b[38;5;132;01m}\u001b[39;00m\u001b[38;5;124m'\u001b[39m\u001b[38;5;124m\"\u001b[39m)\n",
      "\u001b[1;31mAttributeError\u001b[0m: 'Net' object has no attribute 'relu'"
     ]
    }
   ],
   "source": [
    "net=Net(data_dim, hidden_dim, seq_length, output_dim, 1)\n",
    "model, train_hist=train_model(net, train_loader, epochs=epochs,\n",
    "                              lr=learning_late, verbos=20, patience=100)"
   ]
  },
  {
   "cell_type": "code",
   "execution_count": null,
   "metadata": {},
   "outputs": [
    {
     "data": {
      "image/png": "[encoded data removed]",
      "text/plain": [
       "<Figure size 1000x600 with 1 Axes>"
      ]
     },
     "metadata": {},
     "output_type": "display_data"
    }
   ],
   "source": [
    "fig=plt.figure(figsize=(10, 6))\n",
    "plt.plot(train_hist, label='Training loss')\n",
    "plt.legend()\n",
    "plt.show()"
   ]
  },
  {
   "cell_type": "code",
   "execution_count": null,
   "metadata": {},
   "outputs": [],
   "source": [
    "# path=\"../model/product_final.pth\"\n",
    "\n",
    "# torch.save(model.state_dict(), path)"
   ]
  },
  {
   "cell_type": "code",
   "execution_count": null,
   "metadata": {},
   "outputs": [
    {
     "data": {
      "text/plain": [
       "Net(\n",
       "  (lstm): LSTM(7, 14, batch_first=True)\n",
       "  (fc): Linear(in_features=14, out_features=1, bias=True)\n",
       "  (relu): ReLU()\n",
       ")"
      ]
     },
     "execution_count": 105,
     "metadata": {},
     "output_type": "execute_result"
    }
   ],
   "source": [
    "# model=Net(data_dim, hidden_dim, seq_length, output_dim, 1).to(device)\n",
    "# model.load_state_dict(torch.load(path), strict=False)\n",
    "# model.eval()"
   ]
  },
  {
   "cell_type": "code",
   "execution_count": null,
   "metadata": {},
   "outputs": [
    {
     "name": "stdout",
     "output_type": "stream",
     "text": [
      "MAe SCORE: 1387.7369481147348\n"
     ]
    }
   ],
   "source": [
    "\n",
    "with torch.no_grad():\n",
    "    pred=[]\n",
    "    for pr in range(len(testX_tensor)):\n",
    "        model.reset_hidden_state()\n",
    "        predicted=model(torch.unsqueeze(testX_tensor[pr],0))\n",
    "        predicted=torch.flatten(predicted).item()\n",
    "        pred.append(predicted)\n",
    "\n",
    "    pred_inverse=scaler_y.inverse_transform(np.array(pred).reshape(-1, 1))\n",
    "    testY_inverse=scaler_y.inverse_transform(testY_tensor)\n",
    "\n",
    "def MAE(true, pred):\n",
    "    return np.mean(np.abs(true-pred))\n",
    "\n",
    "\n",
    "print('MAe SCORE:', MAE(pred_inverse, testY_inverse))"
   ]
  },
  {
   "cell_type": "code",
   "execution_count": null,
   "metadata": {},
   "outputs": [
    {
     "data": {
      "text/plain": [
       "DatetimeIndex(['2021-11-01', '2021-12-01', '2022-01-01', '2022-02-01',\n",
       "               '2022-03-01', '2022-07-01', '2022-08-01', '2022-09-01',\n",
       "               '2022-10-01', '2022-11-01', '2022-12-01'],\n",
       "              dtype='datetime64[ns]', name='date', freq=None)"
      ]
     },
     "execution_count": 107,
     "metadata": {},
     "output_type": "execute_result"
    }
   ],
   "source": [
    "test_set.index[seq_length:]"
   ]
  },
  {
   "cell_type": "code",
   "execution_count": null,
   "metadata": {},
   "outputs": [],
   "source": [
    "date=['2021-10','2021-11', '2021-12','2022-01', '2022-02', \n",
    "      '2022-03','2022-08', '2022-09', '2022-10', '2022-11','2022-12']"
   ]
  },
  {
   "cell_type": "code",
   "execution_count": null,
   "metadata": {},
   "outputs": [
    {
     "data": {
      "image/png": "[encoded data removed]",
      "text/plain": [
       "<Figure size 1600x600 with 1 Axes>"
      ]
     },
     "metadata": {},
     "output_type": "display_data"
    }
   ],
   "source": [
    "fig=plt.figure(figsize=(16,6))\n",
    "plt.title('수온,염분,용존산소에 따른 고등어 생산량 예측')\n",
    "plt.plot(np.arange(len(pred_inverse)), pred_inverse, label='pred')\n",
    "plt.plot(np.arange(len(testY_inverse)), testY_inverse, label='true')\n",
    "plt.xlabel('년도')\n",
    "plt.ylabel('생산량')\n",
    "\n",
    "plt.xticks(np.arange(len(pred_inverse)),date)\n",
    "plt.legend()\n",
    "plt.show()"
   ]
  },
  {
   "cell_type": "code",
   "execution_count": null,
   "metadata": {},
   "outputs": [
    {
     "data": {
      "text/plain": [
       "array([[15851.88716227],\n",
       "       [28674.71356982],\n",
       "       [11085.11244686],\n",
       "       [ 3038.58830245],\n",
       "       [ 4785.59042425],\n",
       "       [ 4975.8894852 ],\n",
       "       [ 4554.41166745],\n",
       "       [ 6724.9186884 ],\n",
       "       [ 5889.1340688 ],\n",
       "       [10585.05042376],\n",
       "       [23214.09036839]])"
      ]
     },
     "execution_count": 110,
     "metadata": {},
     "output_type": "execute_result"
    }
   ],
   "source": [
    "pred_inverse"
   ]
  },
  {
   "cell_type": "markdown",
   "metadata": {},
   "source": [
    "# 모델활용 미래 예측\n",
    " - 수온에 따른 고등어 생산량(23~24) 예측"
   ]
  },
  {
   "cell_type": "code",
   "execution_count": null,
   "metadata": {},
   "outputs": [
    {
     "data": {
      "text/html": [
       "<div>\n",
       "<style scoped>\n",
       "    .dataframe tbody tr th:only-of-type {\n",
       "        vertical-align: middle;\n",
       "    }\n",
       "\n",
       "    .dataframe tbody tr th {\n",
       "        vertical-align: top;\n",
       "    }\n",
       "\n",
       "    .dataframe thead th {\n",
       "        text-align: right;\n",
       "    }\n",
       "</style>\n",
       "<table border=\"1\" class=\"dataframe\">\n",
       "  <thead>\n",
       "    <tr style=\"text-align: right;\">\n",
       "      <th></th>\n",
       "      <th>수온(30m)</th>\n",
       "      <th>염분(30m)</th>\n",
       "      <th>용존산소(30m)</th>\n",
       "      <th>수온(50m)</th>\n",
       "      <th>염분(50m)</th>\n",
       "      <th>용존산소(50m)</th>\n",
       "    </tr>\n",
       "    <tr>\n",
       "      <th>date</th>\n",
       "      <th></th>\n",
       "      <th></th>\n",
       "      <th></th>\n",
       "      <th></th>\n",
       "      <th></th>\n",
       "      <th></th>\n",
       "    </tr>\n",
       "  </thead>\n",
       "  <tbody>\n",
       "    <tr>\n",
       "      <th>2023-10-01</th>\n",
       "      <td>20.798988</td>\n",
       "      <td>33.406807</td>\n",
       "      <td>4.851332</td>\n",
       "      <td>22.469068</td>\n",
       "      <td>33.502672</td>\n",
       "      <td>4.395779</td>\n",
       "    </tr>\n",
       "    <tr>\n",
       "      <th>2023-11-01</th>\n",
       "      <td>19.373635</td>\n",
       "      <td>33.949312</td>\n",
       "      <td>5.027594</td>\n",
       "      <td>19.891051</td>\n",
       "      <td>33.757995</td>\n",
       "      <td>4.687205</td>\n",
       "    </tr>\n",
       "    <tr>\n",
       "      <th>2023-12-01</th>\n",
       "      <td>18.191672</td>\n",
       "      <td>34.440692</td>\n",
       "      <td>5.227121</td>\n",
       "      <td>17.208053</td>\n",
       "      <td>34.018400</td>\n",
       "      <td>4.941705</td>\n",
       "    </tr>\n",
       "    <tr>\n",
       "      <th>2024-01-01</th>\n",
       "      <td>16.847143</td>\n",
       "      <td>34.500956</td>\n",
       "      <td>5.559471</td>\n",
       "      <td>15.561030</td>\n",
       "      <td>34.273341</td>\n",
       "      <td>5.513203</td>\n",
       "    </tr>\n",
       "    <tr>\n",
       "      <th>2024-02-01</th>\n",
       "      <td>15.351883</td>\n",
       "      <td>34.693340</td>\n",
       "      <td>6.007755</td>\n",
       "      <td>14.003451</td>\n",
       "      <td>34.530587</td>\n",
       "      <td>6.031051</td>\n",
       "    </tr>\n",
       "    <tr>\n",
       "      <th>2024-03-01</th>\n",
       "      <td>16.113682</td>\n",
       "      <td>34.636485</td>\n",
       "      <td>5.985635</td>\n",
       "      <td>14.308045</td>\n",
       "      <td>34.507189</td>\n",
       "      <td>5.844387</td>\n",
       "    </tr>\n",
       "    <tr>\n",
       "      <th>2024-07-01</th>\n",
       "      <td>18.218405</td>\n",
       "      <td>33.826171</td>\n",
       "      <td>4.961626</td>\n",
       "      <td>16.719163</td>\n",
       "      <td>34.101989</td>\n",
       "      <td>4.423673</td>\n",
       "    </tr>\n",
       "    <tr>\n",
       "      <th>2024-08-01</th>\n",
       "      <td>19.224562</td>\n",
       "      <td>33.677034</td>\n",
       "      <td>4.610592</td>\n",
       "      <td>18.867211</td>\n",
       "      <td>34.117744</td>\n",
       "      <td>4.067731</td>\n",
       "    </tr>\n",
       "    <tr>\n",
       "      <th>2024-09-01</th>\n",
       "      <td>19.656216</td>\n",
       "      <td>33.256991</td>\n",
       "      <td>4.516618</td>\n",
       "      <td>19.931958</td>\n",
       "      <td>33.988613</td>\n",
       "      <td>3.947314</td>\n",
       "    </tr>\n",
       "    <tr>\n",
       "      <th>2024-10-01</th>\n",
       "      <td>21.594169</td>\n",
       "      <td>33.481916</td>\n",
       "      <td>4.616445</td>\n",
       "      <td>20.928415</td>\n",
       "      <td>33.863370</td>\n",
       "      <td>3.859861</td>\n",
       "    </tr>\n",
       "    <tr>\n",
       "      <th>2024-11-01</th>\n",
       "      <td>19.967610</td>\n",
       "      <td>33.938375</td>\n",
       "      <td>4.693922</td>\n",
       "      <td>18.860738</td>\n",
       "      <td>33.944947</td>\n",
       "      <td>4.371965</td>\n",
       "    </tr>\n",
       "    <tr>\n",
       "      <th>2024-12-01</th>\n",
       "      <td>17.769799</td>\n",
       "      <td>34.222374</td>\n",
       "      <td>4.850792</td>\n",
       "      <td>16.840088</td>\n",
       "      <td>34.034953</td>\n",
       "      <td>4.835727</td>\n",
       "    </tr>\n",
       "  </tbody>\n",
       "</table>\n",
       "</div>"
      ],
      "text/plain": [
       "              수온(30m)    염분(30m)  용존산소(30m)    수온(50m)    염분(50m)  용존산소(50m)\n",
       "date                                                                        \n",
       "2023-10-01  20.798988  33.406807   4.851332  22.469068  33.502672   4.395779\n",
       "2023-11-01  19.373635  33.949312   5.027594  19.891051  33.757995   4.687205\n",
       "2023-12-01  18.191672  34.440692   5.227121  17.208053  34.018400   4.941705\n",
       "2024-01-01  16.847143  34.500956   5.559471  15.561030  34.273341   5.513203\n",
       "2024-02-01  15.351883  34.693340   6.007755  14.003451  34.530587   6.031051\n",
       "2024-03-01  16.113682  34.636485   5.985635  14.308045  34.507189   5.844387\n",
       "2024-07-01  18.218405  33.826171   4.961626  16.719163  34.101989   4.423673\n",
       "2024-08-01  19.224562  33.677034   4.610592  18.867211  34.117744   4.067731\n",
       "2024-09-01  19.656216  33.256991   4.516618  19.931958  33.988613   3.947314\n",
       "2024-10-01  21.594169  33.481916   4.616445  20.928415  33.863370   3.859861\n",
       "2024-11-01  19.967610  33.938375   4.693922  18.860738  33.944947   4.371965\n",
       "2024-12-01  17.769799  34.222374   4.850792  16.840088  34.034953   4.835727"
      ]
     },
     "execution_count": 124,
     "metadata": {},
     "output_type": "execute_result"
    }
   ],
   "source": [
    "# 데이터 불러오기\n",
    "pred_product=pd.read_csv('../data/merge/product_pred_values.csv')\n",
    "\n",
    "pred_product['date'] = pd.to_datetime(pred_product['date'], format='%Y-%m-%d')\n",
    "\n",
    "# 'date' 열을 인덱스로 설정\n",
    "pred_product.set_index('date', inplace=True)\n",
    "pred_product=pred_product[['수온(30m)','염분(30m)','용존산소(30m)','수온(50m)','염분(50m)','용존산소(50m)']]\n",
    "pred_product"
   ]
  },
  {
   "cell_type": "code",
   "execution_count": null,
   "metadata": {},
   "outputs": [],
   "source": [
    "#input scale\n",
    "pred_product=scaler_x.transform(pred_product)"
   ]
  },
  {
   "cell_type": "code",
   "execution_count": null,
   "metadata": {},
   "outputs": [],
   "source": [
    "def build_pred_dataset(time_series, seq_length):\n",
    "    dataX=[]\n",
    "    for i in range(0, len(time_series)-seq_length):\n",
    "        x_=time_series[i:i+seq_length, :]\n",
    "        dataX.append(x_)\n",
    "    return np.array(dataX)"
   ]
  },
  {
   "cell_type": "code",
   "execution_count": null,
   "metadata": {},
   "outputs": [
    {
     "data": {
      "text/plain": [
       "(12, 3, 6)"
      ]
     },
     "execution_count": 127,
     "metadata": {},
     "output_type": "execute_result"
    }
   ],
   "source": [
    "predX=build_pred_dataset(np.array(pred_product),seq_length)\n",
    "predX.shape"
   ]
  },
  {
   "cell_type": "code",
   "execution_count": null,
   "metadata": {},
   "outputs": [],
   "source": [
    "predX_tensor=torch.FloatTensor(predX)"
   ]
  },
  {
   "cell_type": "code",
   "execution_count": null,
   "metadata": {},
   "outputs": [
    {
     "data": {
      "text/plain": [
       "Net(\n",
       "  (lstm): LSTM(7, 14, batch_first=True)\n",
       "  (fc): Linear(in_features=14, out_features=1, bias=True)\n",
       "  (relu): ReLU()\n",
       ")"
      ]
     },
     "execution_count": 310,
     "metadata": {},
     "output_type": "execute_result"
    }
   ],
   "source": [
    "# path=\"../model/product_final.pth\"\n",
    "# model=Net(data_dim, hidden_dim, seq_length, output_dim, 1).to(device)\n",
    "# model.load_state_dict(torch.load(path), strict=False)\n",
    "# model.eval()"
   ]
  },
  {
   "cell_type": "code",
   "execution_count": null,
   "metadata": {},
   "outputs": [],
   "source": [
    "with torch.no_grad():\n",
    "    pred=[]\n",
    "    for pr in range(len(predX_tensor)):\n",
    "        model.reset_hidden_state()\n",
    "        predicted=model(torch.unsqueeze(predX_tensor[pr],0))\n",
    "        predicted=torch.flatten(predicted).item()\n",
    "        pred.append(predicted)\n",
    "\n",
    "    pred_inverse=scaler_y.inverse_transform(np.array(pred).reshape(-1, 1))"
   ]
  },
  {
   "cell_type": "code",
   "execution_count": null,
   "metadata": {},
   "outputs": [],
   "source": [
    "date=['2023-07','2023-08','2023-09','2023-10','2023-11','2023-12',\n",
    "      '2024-01','2024-02', '2024-03','2023-04','2024-05','2024-06',\n",
    "      ]"
   ]
  },
  {
   "cell_type": "code",
   "execution_count": null,
   "metadata": {},
   "outputs": [
    {
     "data": {
      "image/png": "[encoded data removed]",
      "text/plain": [
       "<Figure size 2000x1000 with 1 Axes>"
      ]
     },
     "metadata": {},
     "output_type": "display_data"
    }
   ],
   "source": [
    "fig=plt.figure(figsize=(20,10))\n",
    "plt.title('23~24년 고등어 생산량 예측')\n",
    "plt.plot(np.arange(len(pred_inverse)), pred_inverse, label='pred')\n",
    "plt.xlabel('년도')\n",
    "plt.ylabel('생산량')\n",
    "\n",
    "plt.xticks(np.arange(len(pred_inverse)),date)\n",
    "plt.legend()\n",
    "plt.show()"
   ]
  },
  {
   "cell_type": "code",
   "execution_count": null,
   "metadata": {},
   "outputs": [
    {
     "data": {
      "text/plain": [
       "array([[20914.8948338 ],\n",
       "       [17031.57429481],\n",
       "       [ 5503.72809166],\n",
       "       [ 1199.        ],\n",
       "       [ 1199.        ],\n",
       "       [ 1199.        ],\n",
       "       [ 1199.        ],\n",
       "       [ 1199.        ],\n",
       "       [ 8351.39166379],\n",
       "       [12549.69731906],\n",
       "       [11265.32051364],\n",
       "       [ 4956.46118933],\n",
       "       [ 1199.        ],\n",
       "       [ 1199.        ],\n",
       "       [ 1199.        ]])"
      ]
     },
     "execution_count": 77,
     "metadata": {},
     "output_type": "execute_result"
    }
   ],
   "source": [
    "pred_inverse"
   ]
  },
  {
   "cell_type": "code",
   "execution_count": null,
   "metadata": {},
   "outputs": [],
   "source": [
    "pd.DataFrame(pred_inverse).to_csv('../data/pred/product_pred.csv',index=False,encoding='utf-8-sig')"
   ]
  }
 ],
 "metadata": {
  "kernelspec": {
   "display_name": "Python 3",
   "language": "python",
   "name": "python3"
  },
  "language_info": {
   "codemirror_mode": {
    "name": "ipython",
    "version": 3
   },
   "file_extension": ".py",
   "mimetype": "text/x-python",
   "name": "python",
   "nbconvert_exporter": "python",
   "pygments_lexer": "ipython3",
   "version": "3.12.0"
  }
 },
 "nbformat": 4,
 "nbformat_minor": 2
}
