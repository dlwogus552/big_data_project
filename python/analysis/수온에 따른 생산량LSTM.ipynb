{
 "cells": [
  {
   "cell_type": "code",
   "execution_count": 60,
   "metadata": {},
   "outputs": [],
   "source": [
    "import pandas as pd\n",
    "import random\n",
    "import matplotlib.pyplot as plt\n",
    "from sklearn.preprocessing import MinMaxScaler"
   ]
  },
  {
   "cell_type": "code",
   "execution_count": 61,
   "metadata": {},
   "outputs": [],
   "source": [
    "#한글 깨짐 방지\n",
    "from matplotlib import rc, font_manager\n",
    "font_path='../data/fonts/malgun.ttf'\n",
    "font_name=font_manager.FontProperties(fname=font_path).get_name()\n",
    "rc('font',family=font_name)\n",
    "#마이너스 깨짐 방지\n",
    "plt.rcParams['axes.unicode_minus']=False"
   ]
  },
  {
   "cell_type": "code",
   "execution_count": 62,
   "metadata": {},
   "outputs": [],
   "source": [
    "# temperature207=pd.read_csv('./data/temperature/207정선_월별.csv')\n",
    "temperature207=pd.read_csv('../data/temperature/207정선_월별(30,50m).csv')\n",
    "mackerel=pd.read_csv('../data/mackerel/부산_고등어_생산량(선어).csv',encoding='cp949')\n",
    "\n",
    "df=pd.merge(temperature207,mackerel,on=['년도','월'])\n",
    "# df.to_csv('data/merge/207_mackerel_product_final.csv',index=False,encoding='utf-8-sig')"
   ]
  },
  {
   "cell_type": "code",
   "execution_count": 63,
   "metadata": {},
   "outputs": [
    {
     "name": "stdout",
     "output_type": "stream",
     "text": [
      "<class 'pandas.core.frame.DataFrame'>\n",
      "DatetimeIndex: 138 entries, 2008-01-01 to 2022-12-01\n",
      "Data columns (total 7 columns):\n",
      " #   Column     Non-Null Count  Dtype  \n",
      "---  ------     --------------  -----  \n",
      " 0   수온(30m)    138 non-null    float64\n",
      " 1   염분(30m)    138 non-null    float64\n",
      " 2   용존산소(30m)  138 non-null    float64\n",
      " 3   수온(50m)    138 non-null    float64\n",
      " 4   염분(50m)    138 non-null    float64\n",
      " 5   용존산소(50m)  138 non-null    float64\n",
      " 6   생산량        138 non-null    int64  \n",
      "dtypes: float64(6), int64(1)\n",
      "memory usage: 8.6 KB\n"
     ]
    },
    {
     "data": {
      "text/html": [
       "<div>\n",
       "<style scoped>\n",
       "    .dataframe tbody tr th:only-of-type {\n",
       "        vertical-align: middle;\n",
       "    }\n",
       "\n",
       "    .dataframe tbody tr th {\n",
       "        vertical-align: top;\n",
       "    }\n",
       "\n",
       "    .dataframe thead th {\n",
       "        text-align: right;\n",
       "    }\n",
       "</style>\n",
       "<table border=\"1\" class=\"dataframe\">\n",
       "  <thead>\n",
       "    <tr style=\"text-align: right;\">\n",
       "      <th></th>\n",
       "      <th>수온(30m)</th>\n",
       "      <th>염분(30m)</th>\n",
       "      <th>용존산소(30m)</th>\n",
       "      <th>수온(50m)</th>\n",
       "      <th>염분(50m)</th>\n",
       "      <th>용존산소(50m)</th>\n",
       "      <th>생산량</th>\n",
       "    </tr>\n",
       "    <tr>\n",
       "      <th>date</th>\n",
       "      <th></th>\n",
       "      <th></th>\n",
       "      <th></th>\n",
       "      <th></th>\n",
       "      <th></th>\n",
       "      <th></th>\n",
       "      <th></th>\n",
       "    </tr>\n",
       "  </thead>\n",
       "  <tbody>\n",
       "    <tr>\n",
       "      <th>2008-01-01</th>\n",
       "      <td>15.75</td>\n",
       "      <td>33.650</td>\n",
       "      <td>5.51500</td>\n",
       "      <td>15.0</td>\n",
       "      <td>33.610</td>\n",
       "      <td>5.075</td>\n",
       "      <td>7994</td>\n",
       "    </tr>\n",
       "    <tr>\n",
       "      <th>2008-02-01</th>\n",
       "      <td>14.80</td>\n",
       "      <td>34.010</td>\n",
       "      <td>5.82000</td>\n",
       "      <td>14.4</td>\n",
       "      <td>33.990</td>\n",
       "      <td>5.420</td>\n",
       "      <td>1430</td>\n",
       "    </tr>\n",
       "    <tr>\n",
       "      <th>2008-03-01</th>\n",
       "      <td>14.30</td>\n",
       "      <td>33.985</td>\n",
       "      <td>5.73500</td>\n",
       "      <td>13.3</td>\n",
       "      <td>33.950</td>\n",
       "      <td>5.460</td>\n",
       "      <td>3001</td>\n",
       "    </tr>\n",
       "    <tr>\n",
       "      <th>2008-07-01</th>\n",
       "      <td>15.10</td>\n",
       "      <td>33.940</td>\n",
       "      <td>5.13000</td>\n",
       "      <td>14.3</td>\n",
       "      <td>34.360</td>\n",
       "      <td>4.335</td>\n",
       "      <td>3946</td>\n",
       "    </tr>\n",
       "    <tr>\n",
       "      <th>2008-08-01</th>\n",
       "      <td>15.30</td>\n",
       "      <td>33.700</td>\n",
       "      <td>5.44000</td>\n",
       "      <td>14.5</td>\n",
       "      <td>34.420</td>\n",
       "      <td>4.300</td>\n",
       "      <td>7535</td>\n",
       "    </tr>\n",
       "    <tr>\n",
       "      <th>...</th>\n",
       "      <td>...</td>\n",
       "      <td>...</td>\n",
       "      <td>...</td>\n",
       "      <td>...</td>\n",
       "      <td>...</td>\n",
       "      <td>...</td>\n",
       "      <td>...</td>\n",
       "    </tr>\n",
       "    <tr>\n",
       "      <th>2022-08-01</th>\n",
       "      <td>20.00</td>\n",
       "      <td>32.820</td>\n",
       "      <td>3.87140</td>\n",
       "      <td>19.5</td>\n",
       "      <td>34.340</td>\n",
       "      <td>3.700</td>\n",
       "      <td>3900</td>\n",
       "    </tr>\n",
       "    <tr>\n",
       "      <th>2022-09-01</th>\n",
       "      <td>21.35</td>\n",
       "      <td>34.325</td>\n",
       "      <td>4.01425</td>\n",
       "      <td>20.9</td>\n",
       "      <td>34.145</td>\n",
       "      <td>4.400</td>\n",
       "      <td>5494</td>\n",
       "    </tr>\n",
       "    <tr>\n",
       "      <th>2022-10-01</th>\n",
       "      <td>21.70</td>\n",
       "      <td>33.030</td>\n",
       "      <td>4.45710</td>\n",
       "      <td>22.3</td>\n",
       "      <td>33.550</td>\n",
       "      <td>3.700</td>\n",
       "      <td>5339</td>\n",
       "    </tr>\n",
       "    <tr>\n",
       "      <th>2022-11-01</th>\n",
       "      <td>19.55</td>\n",
       "      <td>32.755</td>\n",
       "      <td>4.81425</td>\n",
       "      <td>19.0</td>\n",
       "      <td>32.755</td>\n",
       "      <td>4.300</td>\n",
       "      <td>12592</td>\n",
       "    </tr>\n",
       "    <tr>\n",
       "      <th>2022-12-01</th>\n",
       "      <td>16.40</td>\n",
       "      <td>33.128</td>\n",
       "      <td>4.17140</td>\n",
       "      <td>15.7</td>\n",
       "      <td>34.160</td>\n",
       "      <td>4.200</td>\n",
       "      <td>24533</td>\n",
       "    </tr>\n",
       "  </tbody>\n",
       "</table>\n",
       "<p>138 rows × 7 columns</p>\n",
       "</div>"
      ],
      "text/plain": [
       "            수온(30m)  염분(30m)  용존산소(30m)  수온(50m)  염분(50m)  용존산소(50m)    생산량\n",
       "date                                                                       \n",
       "2008-01-01    15.75   33.650    5.51500     15.0   33.610      5.075   7994\n",
       "2008-02-01    14.80   34.010    5.82000     14.4   33.990      5.420   1430\n",
       "2008-03-01    14.30   33.985    5.73500     13.3   33.950      5.460   3001\n",
       "2008-07-01    15.10   33.940    5.13000     14.3   34.360      4.335   3946\n",
       "2008-08-01    15.30   33.700    5.44000     14.5   34.420      4.300   7535\n",
       "...             ...      ...        ...      ...      ...        ...    ...\n",
       "2022-08-01    20.00   32.820    3.87140     19.5   34.340      3.700   3900\n",
       "2022-09-01    21.35   34.325    4.01425     20.9   34.145      4.400   5494\n",
       "2022-10-01    21.70   33.030    4.45710     22.3   33.550      3.700   5339\n",
       "2022-11-01    19.55   32.755    4.81425     19.0   32.755      4.300  12592\n",
       "2022-12-01    16.40   33.128    4.17140     15.7   34.160      4.200  24533\n",
       "\n",
       "[138 rows x 7 columns]"
      ]
     },
     "execution_count": 63,
     "metadata": {},
     "output_type": "execute_result"
    }
   ],
   "source": [
    "merge_207=pd.read_csv('../data/merge/207_mackerel_product_final.csv')\n",
    "# '%Y-%m' 형식으로 변환\n",
    "merge_207['date'] = pd.to_datetime(merge_207['date'], format='%Y-%m-%d')\n",
    "\n",
    "# 'date' 열을 인덱스로 설정\n",
    "merge_207.set_index('date', inplace=True)\n",
    "\n",
    "merge_207=merge_207.dropna()\n",
    "merge_207.info()\n",
    "merge_207"
   ]
  },
  {
   "cell_type": "code",
   "execution_count": 64,
   "metadata": {},
   "outputs": [
    {
     "name": "stdout",
     "output_type": "stream",
     "text": [
      "(124, 7) (14, 7)\n"
     ]
    }
   ],
   "source": [
    "seq_length=3 # 3~7사이 값 설정\n",
    "\n",
    "train_size = int(len(merge_207)*0.9)\n",
    "train_set=merge_207[0:train_size]\n",
    "test_set=merge_207[train_size:]\n",
    "print(train_set.shape,test_set.shape)"
   ]
  },
  {
   "cell_type": "code",
   "execution_count": 65,
   "metadata": {},
   "outputs": [
    {
     "data": {
      "text/html": [
       "<div>\n",
       "<style scoped>\n",
       "    .dataframe tbody tr th:only-of-type {\n",
       "        vertical-align: middle;\n",
       "    }\n",
       "\n",
       "    .dataframe tbody tr th {\n",
       "        vertical-align: top;\n",
       "    }\n",
       "\n",
       "    .dataframe thead th {\n",
       "        text-align: right;\n",
       "    }\n",
       "</style>\n",
       "<table border=\"1\" class=\"dataframe\">\n",
       "  <thead>\n",
       "    <tr style=\"text-align: right;\">\n",
       "      <th></th>\n",
       "      <th>수온(30m)</th>\n",
       "      <th>염분(30m)</th>\n",
       "      <th>용존산소(30m)</th>\n",
       "      <th>수온(50m)</th>\n",
       "      <th>염분(50m)</th>\n",
       "      <th>용존산소(50m)</th>\n",
       "      <th>생산량</th>\n",
       "    </tr>\n",
       "    <tr>\n",
       "      <th>date</th>\n",
       "      <th></th>\n",
       "      <th></th>\n",
       "      <th></th>\n",
       "      <th></th>\n",
       "      <th></th>\n",
       "      <th></th>\n",
       "      <th></th>\n",
       "    </tr>\n",
       "  </thead>\n",
       "  <tbody>\n",
       "    <tr>\n",
       "      <th>2008-01-01</th>\n",
       "      <td>15.75</td>\n",
       "      <td>33.650</td>\n",
       "      <td>5.515</td>\n",
       "      <td>15.0</td>\n",
       "      <td>33.61</td>\n",
       "      <td>5.075</td>\n",
       "      <td>7994</td>\n",
       "    </tr>\n",
       "    <tr>\n",
       "      <th>2008-02-01</th>\n",
       "      <td>14.80</td>\n",
       "      <td>34.010</td>\n",
       "      <td>5.820</td>\n",
       "      <td>14.4</td>\n",
       "      <td>33.99</td>\n",
       "      <td>5.420</td>\n",
       "      <td>1430</td>\n",
       "    </tr>\n",
       "    <tr>\n",
       "      <th>2008-03-01</th>\n",
       "      <td>14.30</td>\n",
       "      <td>33.985</td>\n",
       "      <td>5.735</td>\n",
       "      <td>13.3</td>\n",
       "      <td>33.95</td>\n",
       "      <td>5.460</td>\n",
       "      <td>3001</td>\n",
       "    </tr>\n",
       "    <tr>\n",
       "      <th>2008-07-01</th>\n",
       "      <td>15.10</td>\n",
       "      <td>33.940</td>\n",
       "      <td>5.130</td>\n",
       "      <td>14.3</td>\n",
       "      <td>34.36</td>\n",
       "      <td>4.335</td>\n",
       "      <td>3946</td>\n",
       "    </tr>\n",
       "    <tr>\n",
       "      <th>2008-08-01</th>\n",
       "      <td>15.30</td>\n",
       "      <td>33.700</td>\n",
       "      <td>5.440</td>\n",
       "      <td>14.5</td>\n",
       "      <td>34.42</td>\n",
       "      <td>4.300</td>\n",
       "      <td>7535</td>\n",
       "    </tr>\n",
       "  </tbody>\n",
       "</table>\n",
       "</div>"
      ],
      "text/plain": [
       "            수온(30m)  염분(30m)  용존산소(30m)  수온(50m)  염분(50m)  용존산소(50m)   생산량\n",
       "date                                                                      \n",
       "2008-01-01    15.75   33.650      5.515     15.0    33.61      5.075  7994\n",
       "2008-02-01    14.80   34.010      5.820     14.4    33.99      5.420  1430\n",
       "2008-03-01    14.30   33.985      5.735     13.3    33.95      5.460  3001\n",
       "2008-07-01    15.10   33.940      5.130     14.3    34.36      4.335  3946\n",
       "2008-08-01    15.30   33.700      5.440     14.5    34.42      4.300  7535"
      ]
     },
     "execution_count": 65,
     "metadata": {},
     "output_type": "execute_result"
    }
   ],
   "source": [
    "train_set.head()"
   ]
  },
  {
   "cell_type": "code",
   "execution_count": 66,
   "metadata": {},
   "outputs": [],
   "source": [
    "#input scale\n",
    "scaler_x=MinMaxScaler()\n",
    "scaler_x.fit(train_set.iloc[:, :-1])\n",
    "\n",
    "train_set.iloc[:, :-1]=scaler_x.transform(train_set.iloc[:, :-1])\n",
    "test_set.iloc[:, :-1]=scaler_x.transform(test_set.iloc[:, :-1])\n",
    "\n",
    "# output scale\n",
    "scaler_y=MinMaxScaler()\n",
    "scaler_y.fit(train_set.iloc[:,[-1]])\n",
    "train_set.iloc[:, -1]=scaler_y.transform(train_set.iloc[:,[-1]])\n",
    "test_set.iloc[:, -1]=scaler_y.transform(test_set.iloc[:,[-1]])"
   ]
  },
  {
   "cell_type": "code",
   "execution_count": 67,
   "metadata": {},
   "outputs": [
    {
     "data": {
      "text/html": [
       "<div>\n",
       "<style scoped>\n",
       "    .dataframe tbody tr th:only-of-type {\n",
       "        vertical-align: middle;\n",
       "    }\n",
       "\n",
       "    .dataframe tbody tr th {\n",
       "        vertical-align: top;\n",
       "    }\n",
       "\n",
       "    .dataframe thead th {\n",
       "        text-align: right;\n",
       "    }\n",
       "</style>\n",
       "<table border=\"1\" class=\"dataframe\">\n",
       "  <thead>\n",
       "    <tr style=\"text-align: right;\">\n",
       "      <th></th>\n",
       "      <th>수온(30m)</th>\n",
       "      <th>염분(30m)</th>\n",
       "      <th>용존산소(30m)</th>\n",
       "      <th>수온(50m)</th>\n",
       "      <th>염분(50m)</th>\n",
       "      <th>용존산소(50m)</th>\n",
       "      <th>생산량</th>\n",
       "    </tr>\n",
       "    <tr>\n",
       "      <th>date</th>\n",
       "      <th></th>\n",
       "      <th></th>\n",
       "      <th></th>\n",
       "      <th></th>\n",
       "      <th></th>\n",
       "      <th></th>\n",
       "      <th></th>\n",
       "    </tr>\n",
       "  </thead>\n",
       "  <tbody>\n",
       "    <tr>\n",
       "      <th>2021-08-01</th>\n",
       "      <td>0.518248</td>\n",
       "      <td>0.290657</td>\n",
       "      <td>0.185164</td>\n",
       "      <td>0.387931</td>\n",
       "      <td>0.648515</td>\n",
       "      <td>0.331508</td>\n",
       "      <td>0.103563</td>\n",
       "    </tr>\n",
       "    <tr>\n",
       "      <th>2021-09-01</th>\n",
       "      <td>0.678832</td>\n",
       "      <td>0.486159</td>\n",
       "      <td>0.205329</td>\n",
       "      <td>0.637931</td>\n",
       "      <td>0.519802</td>\n",
       "      <td>0.277812</td>\n",
       "      <td>0.278566</td>\n",
       "    </tr>\n",
       "    <tr>\n",
       "      <th>2021-10-01</th>\n",
       "      <td>0.766423</td>\n",
       "      <td>0.681661</td>\n",
       "      <td>0.507933</td>\n",
       "      <td>0.887931</td>\n",
       "      <td>0.391089</td>\n",
       "      <td>0.444473</td>\n",
       "      <td>0.230392</td>\n",
       "    </tr>\n",
       "    <tr>\n",
       "      <th>2021-11-01</th>\n",
       "      <td>0.620438</td>\n",
       "      <td>0.747405</td>\n",
       "      <td>0.353672</td>\n",
       "      <td>0.676724</td>\n",
       "      <td>0.571782</td>\n",
       "      <td>0.361143</td>\n",
       "      <td>0.338226</td>\n",
       "    </tr>\n",
       "    <tr>\n",
       "      <th>2021-12-01</th>\n",
       "      <td>0.401460</td>\n",
       "      <td>0.813149</td>\n",
       "      <td>0.448621</td>\n",
       "      <td>0.465517</td>\n",
       "      <td>0.752475</td>\n",
       "      <td>0.643572</td>\n",
       "      <td>0.573654</td>\n",
       "    </tr>\n",
       "    <tr>\n",
       "      <th>2022-01-01</th>\n",
       "      <td>0.288321</td>\n",
       "      <td>0.858131</td>\n",
       "      <td>0.798700</td>\n",
       "      <td>0.318966</td>\n",
       "      <td>0.789604</td>\n",
       "      <td>0.785184</td>\n",
       "      <td>0.275351</td>\n",
       "    </tr>\n",
       "    <tr>\n",
       "      <th>2022-02-01</th>\n",
       "      <td>0.175182</td>\n",
       "      <td>0.903114</td>\n",
       "      <td>0.733427</td>\n",
       "      <td>0.172414</td>\n",
       "      <td>0.826733</td>\n",
       "      <td>0.745326</td>\n",
       "      <td>0.021648</td>\n",
       "    </tr>\n",
       "    <tr>\n",
       "      <th>2022-03-01</th>\n",
       "      <td>0.218978</td>\n",
       "      <td>0.885813</td>\n",
       "      <td>0.822437</td>\n",
       "      <td>0.172414</td>\n",
       "      <td>0.722772</td>\n",
       "      <td>0.810185</td>\n",
       "      <td>0.048129</td>\n",
       "    </tr>\n",
       "    <tr>\n",
       "      <th>2022-07-01</th>\n",
       "      <td>0.554745</td>\n",
       "      <td>0.536332</td>\n",
       "      <td>0.413005</td>\n",
       "      <td>0.521552</td>\n",
       "      <td>0.757426</td>\n",
       "      <td>0.398166</td>\n",
       "      <td>0.029403</td>\n",
       "    </tr>\n",
       "    <tr>\n",
       "      <th>2022-08-01</th>\n",
       "      <td>0.605839</td>\n",
       "      <td>0.342561</td>\n",
       "      <td>0.015451</td>\n",
       "      <td>0.681034</td>\n",
       "      <td>0.816832</td>\n",
       "      <td>0.143556</td>\n",
       "      <td>0.060717</td>\n",
       "    </tr>\n",
       "    <tr>\n",
       "      <th>2022-09-01</th>\n",
       "      <td>0.704380</td>\n",
       "      <td>0.863322</td>\n",
       "      <td>0.074784</td>\n",
       "      <td>0.801724</td>\n",
       "      <td>0.720297</td>\n",
       "      <td>0.370394</td>\n",
       "      <td>0.096549</td>\n",
       "    </tr>\n",
       "    <tr>\n",
       "      <th>2022-10-01</th>\n",
       "      <td>0.729927</td>\n",
       "      <td>0.415225</td>\n",
       "      <td>0.258722</td>\n",
       "      <td>0.922414</td>\n",
       "      <td>0.425743</td>\n",
       "      <td>0.143556</td>\n",
       "      <td>0.093065</td>\n",
       "    </tr>\n",
       "    <tr>\n",
       "      <th>2022-11-01</th>\n",
       "      <td>0.572993</td>\n",
       "      <td>0.320069</td>\n",
       "      <td>0.407065</td>\n",
       "      <td>0.637931</td>\n",
       "      <td>0.032178</td>\n",
       "      <td>0.337989</td>\n",
       "      <td>0.256109</td>\n",
       "    </tr>\n",
       "    <tr>\n",
       "      <th>2022-12-01</th>\n",
       "      <td>0.343066</td>\n",
       "      <td>0.449135</td>\n",
       "      <td>0.140056</td>\n",
       "      <td>0.353448</td>\n",
       "      <td>0.727723</td>\n",
       "      <td>0.305583</td>\n",
       "      <td>0.524536</td>\n",
       "    </tr>\n",
       "  </tbody>\n",
       "</table>\n",
       "</div>"
      ],
      "text/plain": [
       "             수온(30m)   염분(30m)  용존산소(30m)   수온(50m)   염분(50m)  용존산소(50m)  \\\n",
       "date                                                                       \n",
       "2021-08-01  0.518248  0.290657   0.185164  0.387931  0.648515   0.331508   \n",
       "2021-09-01  0.678832  0.486159   0.205329  0.637931  0.519802   0.277812   \n",
       "2021-10-01  0.766423  0.681661   0.507933  0.887931  0.391089   0.444473   \n",
       "2021-11-01  0.620438  0.747405   0.353672  0.676724  0.571782   0.361143   \n",
       "2021-12-01  0.401460  0.813149   0.448621  0.465517  0.752475   0.643572   \n",
       "2022-01-01  0.288321  0.858131   0.798700  0.318966  0.789604   0.785184   \n",
       "2022-02-01  0.175182  0.903114   0.733427  0.172414  0.826733   0.745326   \n",
       "2022-03-01  0.218978  0.885813   0.822437  0.172414  0.722772   0.810185   \n",
       "2022-07-01  0.554745  0.536332   0.413005  0.521552  0.757426   0.398166   \n",
       "2022-08-01  0.605839  0.342561   0.015451  0.681034  0.816832   0.143556   \n",
       "2022-09-01  0.704380  0.863322   0.074784  0.801724  0.720297   0.370394   \n",
       "2022-10-01  0.729927  0.415225   0.258722  0.922414  0.425743   0.143556   \n",
       "2022-11-01  0.572993  0.320069   0.407065  0.637931  0.032178   0.337989   \n",
       "2022-12-01  0.343066  0.449135   0.140056  0.353448  0.727723   0.305583   \n",
       "\n",
       "                 생산량  \n",
       "date                  \n",
       "2021-08-01  0.103563  \n",
       "2021-09-01  0.278566  \n",
       "2021-10-01  0.230392  \n",
       "2021-11-01  0.338226  \n",
       "2021-12-01  0.573654  \n",
       "2022-01-01  0.275351  \n",
       "2022-02-01  0.021648  \n",
       "2022-03-01  0.048129  \n",
       "2022-07-01  0.029403  \n",
       "2022-08-01  0.060717  \n",
       "2022-09-01  0.096549  \n",
       "2022-10-01  0.093065  \n",
       "2022-11-01  0.256109  \n",
       "2022-12-01  0.524536  "
      ]
     },
     "execution_count": 67,
     "metadata": {},
     "output_type": "execute_result"
    }
   ],
   "source": [
    "test_set[:]"
   ]
  },
  {
   "cell_type": "code",
   "execution_count": 68,
   "metadata": {},
   "outputs": [],
   "source": [
    "import torch\n",
    "import torch.nn as nn\n",
    "import torch.functional as F\n",
    "import torch.optim as optim\n",
    "from torch.utils.data import TensorDataset # 텐서데이터셋\n",
    "from torch.utils.data import DataLoader # 데이터로더\n",
    "import numpy as np"
   ]
  },
  {
   "cell_type": "code",
   "execution_count": 69,
   "metadata": {},
   "outputs": [],
   "source": [
    "device = torch.device('cuda:0' if torch.cuda.is_available() else 'cpu')\n",
    "torch.manual_seed(125)\n",
    "if torch.cuda.is_available() :\n",
    "    torch.cuda.manual_seed_all(125)"
   ]
  },
  {
   "cell_type": "code",
   "execution_count": 70,
   "metadata": {},
   "outputs": [
    {
     "data": {
      "text/plain": [
       "array([[0.103563  ],\n",
       "       [0.27856581],\n",
       "       [0.23039227],\n",
       "       [0.33822637],\n",
       "       [0.57365404],\n",
       "       [0.27535124],\n",
       "       [0.02164775],\n",
       "       [0.04812858],\n",
       "       [0.02940317],\n",
       "       [0.0607171 ],\n",
       "       [0.0965494 ],\n",
       "       [0.09306508],\n",
       "       [0.2561088 ],\n",
       "       [0.52453636]])"
      ]
     },
     "execution_count": 70,
     "metadata": {},
     "output_type": "execute_result"
    }
   ],
   "source": [
    "np.array(test_set)[:,[6]]"
   ]
  },
  {
   "cell_type": "code",
   "execution_count": 71,
   "metadata": {},
   "outputs": [],
   "source": [
    "def build_dataset(time_series, seq_length):\n",
    "    dataX=[]\n",
    "    dataY=[]\n",
    "    for i in range(0, len(time_series)-seq_length):\n",
    "        x_=time_series[i:i+seq_length, :]\n",
    "        y_=time_series[i+seq_length,[6]]\n",
    "        dataX.append(x_)\n",
    "        dataY.append(y_)\n",
    "    return np.array(dataX), np.array(dataY)"
   ]
  },
  {
   "cell_type": "code",
   "execution_count": 72,
   "metadata": {},
   "outputs": [
    {
     "name": "stdout",
     "output_type": "stream",
     "text": [
      "(121, 3, 7) (121, 1)\n",
      "(11, 3, 7) (11, 1)\n"
     ]
    }
   ],
   "source": [
    "trainX, trainY=build_dataset(np.array(train_set), seq_length)\n",
    "testX, testY=build_dataset(np.array(test_set),seq_length)\n",
    "\n",
    "print(trainX.shape, trainY.shape)\n",
    "print(testX.shape, testY.shape)"
   ]
  },
  {
   "cell_type": "code",
   "execution_count": 73,
   "metadata": {},
   "outputs": [
    {
     "name": "stdout",
     "output_type": "stream",
     "text": [
      "torch.Size([121, 3, 7]) torch.Size([121, 1])\n",
      "torch.Size([11, 3, 7]) torch.Size([11, 1])\n"
     ]
    }
   ],
   "source": [
    "trainX_tensor=torch.FloatTensor(trainX)\n",
    "trainY_tensor=torch.FloatTensor(trainY)\n",
    "testX_tensor=torch.FloatTensor(testX)\n",
    "testY_tensor=torch.FloatTensor(testY)\n",
    "\n",
    "\n",
    "print(trainX_tensor.size(), trainY_tensor.size())\n",
    "print(testX_tensor.size(), testY_tensor.size())"
   ]
  },
  {
   "cell_type": "code",
   "execution_count": 74,
   "metadata": {},
   "outputs": [],
   "source": [
    "train_dataset=TensorDataset(trainX_tensor, trainY_tensor)\n",
    "train_loader=DataLoader(train_dataset, shuffle=True,\n",
    "                        drop_last=True)"
   ]
  },
  {
   "cell_type": "code",
   "execution_count": 75,
   "metadata": {},
   "outputs": [],
   "source": [
    "data_dim=7\n",
    "hidden_dim=14\n",
    "output_dim=1\n",
    "learning_late=0.01\n",
    "epochs=2000"
   ]
  },
  {
   "cell_type": "code",
   "execution_count": 76,
   "metadata": {},
   "outputs": [],
   "source": [
    "class Net(nn.Module):\n",
    "  def __init__(self, input_dim, hidden_dim, seq_length, output_dim, layers):\n",
    "    super(Net, self).__init__()\n",
    "    self.hidden_dim=hidden_dim\n",
    "    self.seq_length=seq_length\n",
    "    self.output_dim=output_dim\n",
    "    self.layers=layers\n",
    "\n",
    "    self.lstm=nn.LSTM(input_dim, \n",
    "                      hidden_dim, \n",
    "                      num_layers=layers,\n",
    "                      batch_first=True)\n",
    "    \n",
    "    self.fc=nn.Linear(hidden_dim, output_dim, bias=True)\n",
    "\n",
    "\n",
    "  def reset_hidden_state(self):\n",
    "    self.hidden=(\n",
    "      torch.zeros(self.layers, self.seq_length, self.hidden_dim),\n",
    "      torch.zeros(self.layers, self.seq_length, self.hidden_dim)\n",
    "    )\n",
    "  def forward(self, x):\n",
    "    x, _status=self.lstm(x)\n",
    "    x=self.fc(x[:, -1])\n",
    "    return x"
   ]
  },
  {
   "cell_type": "code",
   "execution_count": 77,
   "metadata": {},
   "outputs": [],
   "source": [
    "def train_model(model, train_df, epochs=None, lr=None, verbos=10, patience=10):\n",
    "  criterion=nn.MSELoss().to(device)\n",
    "  optimizer=optim.Adam(model.parameters())\n",
    "  n_epochs=epochs\n",
    "\n",
    "  train_hist=np.zeros(n_epochs)\n",
    "  for epoch in range(n_epochs):\n",
    "    avg_cost=0\n",
    "    total_batch=len(train_df)\n",
    "\n",
    "    for batch_idxm, sample in enumerate(train_df):\n",
    "      x_train, y_train=sample\n",
    "      model.reset_hidden_state()\n",
    "      output=model(x_train)\n",
    "      loss=criterion(output, y_train)\n",
    "      optimizer.zero_grad()\n",
    "      loss.backward()\n",
    "      optimizer.step()\n",
    "      avg_cost+=loss/total_batch\n",
    "    \n",
    "    train_hist[epoch]=avg_cost\n",
    "\n",
    "    if epoch % verbos==0:\n",
    "      print('Epoch:{}, train_loss:{}'.format(epoch, avg_cost.item()))\n",
    "\n",
    "    if(epoch % patience==0) & (epoch!=0):\n",
    "      if train_hist[epoch-patience] < train_hist[epoch]:\n",
    "        print(\"Early Stopping\")\n",
    "        break\n",
    "  return model.eval(), train_hist"
   ]
  },
  {
   "cell_type": "code",
   "execution_count": 78,
   "metadata": {},
   "outputs": [
    {
     "name": "stdout",
     "output_type": "stream",
     "text": [
      "Epoch:0, train_loss:0.0334671251475811\n"
     ]
    },
    {
     "name": "stdout",
     "output_type": "stream",
     "text": [
      "Epoch:20, train_loss:0.02208339050412178\n",
      "Epoch:40, train_loss:0.02077488601207733\n",
      "Epoch:60, train_loss:0.018236210569739342\n",
      "Epoch:80, train_loss:0.017330119386315346\n",
      "Epoch:100, train_loss:0.014937193132936954\n",
      "Epoch:120, train_loss:0.013157647103071213\n",
      "Epoch:140, train_loss:0.012146935798227787\n",
      "Epoch:160, train_loss:0.010859165340662003\n",
      "Epoch:180, train_loss:0.009869308210909367\n",
      "Epoch:200, train_loss:0.007895239628851414\n",
      "Epoch:220, train_loss:0.006418596021831036\n",
      "Epoch:240, train_loss:0.005023878533393145\n",
      "Epoch:260, train_loss:0.003818583209067583\n",
      "Epoch:280, train_loss:0.0029883976094424725\n",
      "Epoch:300, train_loss:0.0022193307522684336\n",
      "Epoch:320, train_loss:0.0018865932943299413\n",
      "Epoch:340, train_loss:0.001611528918147087\n",
      "Epoch:360, train_loss:0.0017869012663140893\n",
      "Epoch:380, train_loss:0.0014015956548973918\n",
      "Epoch:400, train_loss:0.001462808228097856\n",
      "Epoch:420, train_loss:0.0013040760532021523\n",
      "Epoch:440, train_loss:0.0014304082142189145\n",
      "Epoch:460, train_loss:0.001168514252640307\n",
      "Epoch:480, train_loss:0.0011428312864154577\n",
      "Epoch:500, train_loss:0.0010978389764204621\n",
      "Epoch:520, train_loss:0.001165661495178938\n",
      "Epoch:540, train_loss:0.0010586199350655079\n",
      "Epoch:560, train_loss:0.0008528027101419866\n",
      "Epoch:580, train_loss:0.0009047580533660948\n",
      "Epoch:600, train_loss:0.0007602513651363552\n",
      "Epoch:620, train_loss:0.001016736845485866\n",
      "Epoch:640, train_loss:0.00103667879011482\n",
      "Epoch:660, train_loss:0.000749319966416806\n",
      "Epoch:680, train_loss:0.000660024001263082\n",
      "Epoch:700, train_loss:0.0007699060370214283\n",
      "Early Stopping\n"
     ]
    }
   ],
   "source": [
    "net=Net(data_dim, hidden_dim, seq_length, output_dim, 1)\n",
    "model, train_hist=train_model(net, train_loader, epochs=epochs,\n",
    "                              lr=learning_late, verbos=20, patience=100)"
   ]
  },
  {
   "cell_type": "code",
   "execution_count": 79,
   "metadata": {},
   "outputs": [
    {
     "data": {
      "image/png": "[encoded data removed]",
      "text/plain": [
       "<Figure size 1000x600 with 1 Axes>"
      ]
     },
     "metadata": {},
     "output_type": "display_data"
    }
   ],
   "source": [
    "fig=plt.figure(figsize=(10, 6))\n",
    "plt.plot(train_hist, label='Training loss')\n",
    "plt.legend()\n",
    "plt.show()"
   ]
  },
  {
   "cell_type": "code",
   "execution_count": 80,
   "metadata": {},
   "outputs": [],
   "source": [
    "path=\"../model/product_final.pth\"\n",
    "\n",
    "torch.save(model.state_dict(), path)"
   ]
  },
  {
   "cell_type": "code",
   "execution_count": 81,
   "metadata": {},
   "outputs": [
    {
     "data": {
      "text/plain": [
       "Net(\n",
       "  (lstm): LSTM(7, 14, batch_first=True)\n",
       "  (fc): Linear(in_features=14, out_features=1, bias=True)\n",
       ")"
      ]
     },
     "execution_count": 81,
     "metadata": {},
     "output_type": "execute_result"
    }
   ],
   "source": [
    "model=Net(data_dim, hidden_dim, seq_length, output_dim, 1).to(device)\n",
    "model.load_state_dict(torch.load(path), strict=False)\n",
    "model.eval()"
   ]
  },
  {
   "cell_type": "code",
   "execution_count": 82,
   "metadata": {},
   "outputs": [
    {
     "name": "stdout",
     "output_type": "stream",
     "text": [
      "MAe SCORE: 1387.7369481147348\n"
     ]
    }
   ],
   "source": [
    "\n",
    "with torch.no_grad():\n",
    "    pred=[]\n",
    "    for pr in range(len(testX_tensor)):\n",
    "        model.reset_hidden_state()\n",
    "        predicted=model(torch.unsqueeze(testX_tensor[pr],0))\n",
    "        predicted=torch.flatten(predicted).item()\n",
    "        pred.append(predicted)\n",
    "\n",
    "    pred_inverse=scaler_y.inverse_transform(np.array(pred).reshape(-1, 1))\n",
    "    testY_inverse=scaler_y.inverse_transform(testY_tensor)\n",
    "\n",
    "def MAE(true, pred):\n",
    "    return np.mean(np.abs(true-pred))\n",
    "\n",
    "\n",
    "print('MAe SCORE:', MAE(pred_inverse, testY_inverse))"
   ]
  },
  {
   "cell_type": "code",
   "execution_count": 83,
   "metadata": {},
   "outputs": [
    {
     "data": {
      "text/plain": [
       "DatetimeIndex(['2021-11-01', '2021-12-01', '2022-01-01', '2022-02-01',\n",
       "               '2022-03-01', '2022-07-01', '2022-08-01', '2022-09-01',\n",
       "               '2022-10-01', '2022-11-01', '2022-12-01'],\n",
       "              dtype='datetime64[ns]', name='date', freq=None)"
      ]
     },
     "execution_count": 83,
     "metadata": {},
     "output_type": "execute_result"
    }
   ],
   "source": [
    "test_set.index[seq_length:]"
   ]
  },
  {
   "cell_type": "code",
   "execution_count": 84,
   "metadata": {},
   "outputs": [],
   "source": [
    "date=['2021-11', '2021-12','2022-01', '2022-02', \n",
    "      '2022-03','2022-07','2022-08', '2022-09', '2022-10', '2022-11','2022-12']"
   ]
  },
  {
   "cell_type": "code",
   "execution_count": 85,
   "metadata": {},
   "outputs": [
    {
     "data": {
      "image/png": "[encoded data removed]",
      "text/plain": [
       "<Figure size 1600x600 with 1 Axes>"
      ]
     },
     "metadata": {},
     "output_type": "display_data"
    }
   ],
   "source": [
    "fig=plt.figure(figsize=(16,6))\n",
    "plt.title('수온,염분,용존산소에 따른 고등어 생산량 예측')\n",
    "plt.plot(np.arange(len(pred_inverse)), pred_inverse, label='pred')\n",
    "plt.plot(np.arange(len(testY_inverse)), testY_inverse, label='true')\n",
    "plt.xlabel('년도')\n",
    "plt.ylabel('생산량')\n",
    "\n",
    "plt.xticks(np.arange(len(pred_inverse)),date)\n",
    "plt.legend()\n",
    "plt.show()"
   ]
  },
  {
   "cell_type": "code",
   "execution_count": 86,
   "metadata": {},
   "outputs": [
    {
     "data": {
      "text/plain": [
       "array([[15851.88716227],\n",
       "       [28674.71356982],\n",
       "       [11085.11244686],\n",
       "       [ 3038.58830245],\n",
       "       [ 4785.59042425],\n",
       "       [ 4975.8894852 ],\n",
       "       [ 4554.41166745],\n",
       "       [ 6724.9186884 ],\n",
       "       [ 5889.1340688 ],\n",
       "       [10585.05042376],\n",
       "       [23214.09036839]])"
      ]
     },
     "execution_count": 86,
     "metadata": {},
     "output_type": "execute_result"
    }
   ],
   "source": [
    "pred_inverse"
   ]
  },
  {
   "cell_type": "markdown",
   "metadata": {},
   "source": [
    "# 모델활용 미래 예측\n",
    " - 수온에 따른 고등어 생산량(23~24) 예측"
   ]
  },
  {
   "cell_type": "code",
   "execution_count": 87,
   "metadata": {},
   "outputs": [
    {
     "data": {
      "text/html": [
       "<div>\n",
       "<style scoped>\n",
       "    .dataframe tbody tr th:only-of-type {\n",
       "        vertical-align: middle;\n",
       "    }\n",
       "\n",
       "    .dataframe tbody tr th {\n",
       "        vertical-align: top;\n",
       "    }\n",
       "\n",
       "    .dataframe thead th {\n",
       "        text-align: right;\n",
       "    }\n",
       "</style>\n",
       "<table border=\"1\" class=\"dataframe\">\n",
       "  <thead>\n",
       "    <tr style=\"text-align: right;\">\n",
       "      <th></th>\n",
       "      <th>수온(30m)</th>\n",
       "      <th>염분(30m)</th>\n",
       "      <th>용존산소(30m)</th>\n",
       "      <th>수온(50m)</th>\n",
       "      <th>염분(50m)</th>\n",
       "      <th>용존산소(50m)</th>\n",
       "    </tr>\n",
       "    <tr>\n",
       "      <th>date</th>\n",
       "      <th></th>\n",
       "      <th></th>\n",
       "      <th></th>\n",
       "      <th></th>\n",
       "      <th></th>\n",
       "      <th></th>\n",
       "    </tr>\n",
       "  </thead>\n",
       "  <tbody>\n",
       "    <tr>\n",
       "      <th>2023-01-01</th>\n",
       "      <td>14.511343</td>\n",
       "      <td>34.540796</td>\n",
       "      <td>5.625323</td>\n",
       "      <td>14.561705</td>\n",
       "      <td>34.336701</td>\n",
       "      <td>5.082781</td>\n",
       "    </tr>\n",
       "    <tr>\n",
       "      <th>2023-02-01</th>\n",
       "      <td>14.040472</td>\n",
       "      <td>34.543689</td>\n",
       "      <td>6.074028</td>\n",
       "      <td>13.308127</td>\n",
       "      <td>34.511686</td>\n",
       "      <td>5.152043</td>\n",
       "    </tr>\n",
       "    <tr>\n",
       "      <th>2023-03-01</th>\n",
       "      <td>15.218406</td>\n",
       "      <td>34.482914</td>\n",
       "      <td>6.006842</td>\n",
       "      <td>14.554814</td>\n",
       "      <td>34.502973</td>\n",
       "      <td>5.477194</td>\n",
       "    </tr>\n",
       "    <tr>\n",
       "      <th>2023-04-01</th>\n",
       "      <td>15.915558</td>\n",
       "      <td>34.289275</td>\n",
       "      <td>6.054815</td>\n",
       "      <td>15.956488</td>\n",
       "      <td>34.488197</td>\n",
       "      <td>5.771078</td>\n",
       "    </tr>\n",
       "    <tr>\n",
       "      <th>2023-05-01</th>\n",
       "      <td>16.578329</td>\n",
       "      <td>34.124423</td>\n",
       "      <td>5.781481</td>\n",
       "      <td>15.845456</td>\n",
       "      <td>34.252513</td>\n",
       "      <td>5.321406</td>\n",
       "    </tr>\n",
       "  </tbody>\n",
       "</table>\n",
       "</div>"
      ],
      "text/plain": [
       "              수온(30m)    염분(30m)  용존산소(30m)    수온(50m)    염분(50m)  용존산소(50m)\n",
       "date                                                                        \n",
       "2023-01-01  14.511343  34.540796   5.625323  14.561705  34.336701   5.082781\n",
       "2023-02-01  14.040472  34.543689   6.074028  13.308127  34.511686   5.152043\n",
       "2023-03-01  15.218406  34.482914   6.006842  14.554814  34.502973   5.477194\n",
       "2023-04-01  15.915558  34.289275   6.054815  15.956488  34.488197   5.771078\n",
       "2023-05-01  16.578329  34.124423   5.781481  15.845456  34.252513   5.321406"
      ]
     },
     "execution_count": 87,
     "metadata": {},
     "output_type": "execute_result"
    }
   ],
   "source": [
    "# 데이터 불러오기\n",
    "pred_product=pd.read_csv('../data/merge/product_pred_values.csv')\n",
    "\n",
    "pred_product['date'] = pd.to_datetime(pred_product['date'], format='%Y-%m-%d')\n",
    "\n",
    "# 'date' 열을 인덱스로 설정\n",
    "pred_product.set_index('date', inplace=True)\n",
    "pred_product=pred_product[['수온(30m)','염분(30m)','용존산소(30m)','수온(50m)','염분(50m)','용존산소(50m)']]\n",
    "pred_product.head()"
   ]
  },
  {
   "cell_type": "code",
   "execution_count": 88,
   "metadata": {},
   "outputs": [],
   "source": [
    "def build_pred_dataset(time_series, seq_length):\n",
    "    dataX=[]\n",
    "    for i in range(0, len(time_series)-seq_length):\n",
    "        x_=time_series[i:i+seq_length, :]\n",
    "        dataX.append(x_)\n",
    "    return np.array(dataX)"
   ]
  },
  {
   "cell_type": "code",
   "execution_count": 89,
   "metadata": {},
   "outputs": [
    {
     "data": {
      "text/plain": [
       "(21, 3, 6)"
      ]
     },
     "execution_count": 89,
     "metadata": {},
     "output_type": "execute_result"
    }
   ],
   "source": [
    "predX=build_pred_dataset(np.array(pred_product),seq_length)\n",
    "predX.shape"
   ]
  },
  {
   "cell_type": "code",
   "execution_count": 90,
   "metadata": {},
   "outputs": [],
   "source": [
    "predX_tensor=torch.FloatTensor(predX)"
   ]
  },
  {
   "cell_type": "code",
   "execution_count": 91,
   "metadata": {},
   "outputs": [
    {
     "data": {
      "text/plain": [
       "Net(\n",
       "  (lstm): LSTM(7, 14, batch_first=True)\n",
       "  (fc): Linear(in_features=14, out_features=1, bias=True)\n",
       ")"
      ]
     },
     "execution_count": 91,
     "metadata": {},
     "output_type": "execute_result"
    }
   ],
   "source": [
    "path=\"../model/product_final_ReLU.pth\"\n",
    "model=Net(data_dim, hidden_dim, seq_length, output_dim, 1).to(device)\n",
    "model.load_state_dict(torch.load(path), strict=False)\n",
    "model.eval()"
   ]
  },
  {
   "cell_type": "code",
   "execution_count": 92,
   "metadata": {},
   "outputs": [],
   "source": [
    "with torch.no_grad():\n",
    "    pred=[]\n",
    "    for pr in range(len(predX_tensor)):\n",
    "        model.reset_hidden_state()\n",
    "        predicted=model(torch.unsqueeze(predX_tensor[pr],0))\n",
    "        predicted=torch.flatten(predicted).item()\n",
    "        pred.append(predicted)\n",
    "\n",
    "    pred_inverse=scaler_y.inverse_transform(np.array(pred).reshape(-1, 1))"
   ]
  },
  {
   "cell_type": "code",
   "execution_count": 93,
   "metadata": {},
   "outputs": [],
   "source": [
    "date=['2023-04','2023-05','2023-06',\n",
    "      '2023-07','2023-08', '2023-09','2023-10','2023-11','2023-12',\n",
    "      '2024-01','2024-02', '2024-03','2023-04','2024-05','2024-06',\n",
    "      '2024-07','2024-08', '2024-09','2023-10','2024-11','2024-12']"
   ]
  },
  {
   "cell_type": "code",
   "execution_count": 94,
   "metadata": {},
   "outputs": [
    {
     "data": {
      "image/png": "[encoded data removed]",
      "text/plain": [
       "<Figure size 2000x1000 with 1 Axes>"
      ]
     },
     "metadata": {},
     "output_type": "display_data"
    }
   ],
   "source": [
    "fig=plt.figure(figsize=(20,10))\n",
    "plt.title('23~24년 고등어 생산량 예측')\n",
    "plt.plot(np.arange(len(pred_inverse)), pred_inverse, label='pred')\n",
    "plt.xlabel('년도')\n",
    "plt.ylabel('생산량')\n",
    "\n",
    "plt.xticks(np.arange(len(pred_inverse)),date)\n",
    "plt.legend()\n",
    "plt.show()"
   ]
  },
  {
   "cell_type": "code",
   "execution_count": 95,
   "metadata": {},
   "outputs": [],
   "source": [
    "pd.DataFrame(pred_inverse).to_csv('../data/pred/product_pred.csv',index=False,encoding='utf-8-sig')"
   ]
  }
 ],
 "metadata": {
  "kernelspec": {
   "display_name": "Python 3",
   "language": "python",
   "name": "python3"
  },
  "language_info": {
   "codemirror_mode": {
    "name": "ipython",
    "version": 3
   },
   "file_extension": ".py",
   "mimetype": "text/x-python",
   "name": "python",
   "nbconvert_exporter": "python",
   "pygments_lexer": "ipython3",
   "version": "3.12.0"
  }
 },
 "nbformat": 4,
 "nbformat_minor": 2
}
