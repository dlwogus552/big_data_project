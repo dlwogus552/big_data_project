{
 "cells": [
  {
   "cell_type": "code",
   "execution_count": 1,
   "metadata": {},
   "outputs": [],
   "source": [
    "import pandas as pd\n",
    "import random\n",
    "import matplotlib.pyplot as plt\n",
    "from sklearn.preprocessing import MinMaxScaler"
   ]
  },
  {
   "cell_type": "code",
   "execution_count": 2,
   "metadata": {},
   "outputs": [],
   "source": [
    "#한글 깨짐 방지\n",
    "from matplotlib import rc, font_manager\n",
    "font_path='../data/fonts/malgun.ttf'\n",
    "font_name=font_manager.FontProperties(fname=font_path).get_name()\n",
    "rc('font',family=font_name)\n",
    "#마이너스 깨짐 방지\n",
    "plt.rcParams['axes.unicode_minus']=False"
   ]
  },
  {
   "cell_type": "code",
   "execution_count": 3,
   "metadata": {},
   "outputs": [
    {
     "name": "stdout",
     "output_type": "stream",
     "text": [
      "<class 'pandas.core.frame.DataFrame'>\n",
      "DatetimeIndex: 108 entries, 2014-01-01 to 2022-12-01\n",
      "Data columns (total 6 columns):\n",
      " #   Column  Non-Null Count  Dtype\n",
      "---  ------  --------------  -----\n",
      " 0   생산량     108 non-null    int64\n",
      " 1   갈치      108 non-null    int64\n",
      " 2   참조기     108 non-null    int64\n",
      " 3   수입      108 non-null    int64\n",
      " 4   수출      108 non-null    int64\n",
      " 5   가격 (원)  108 non-null    int64\n",
      "dtypes: int64(6)\n",
      "memory usage: 5.9 KB\n"
     ]
    },
    {
     "data": {
      "text/html": [
       "<div>\n",
       "<style scoped>\n",
       "    .dataframe tbody tr th:only-of-type {\n",
       "        vertical-align: middle;\n",
       "    }\n",
       "\n",
       "    .dataframe tbody tr th {\n",
       "        vertical-align: top;\n",
       "    }\n",
       "\n",
       "    .dataframe thead th {\n",
       "        text-align: right;\n",
       "    }\n",
       "</style>\n",
       "<table border=\"1\" class=\"dataframe\">\n",
       "  <thead>\n",
       "    <tr style=\"text-align: right;\">\n",
       "      <th></th>\n",
       "      <th>생산량</th>\n",
       "      <th>갈치</th>\n",
       "      <th>참조기</th>\n",
       "      <th>수입</th>\n",
       "      <th>수출</th>\n",
       "      <th>가격 (원)</th>\n",
       "    </tr>\n",
       "    <tr>\n",
       "      <th>date</th>\n",
       "      <th></th>\n",
       "      <th></th>\n",
       "      <th></th>\n",
       "      <th></th>\n",
       "      <th></th>\n",
       "      <th></th>\n",
       "    </tr>\n",
       "  </thead>\n",
       "  <tbody>\n",
       "    <tr>\n",
       "      <th>2014-01-01</th>\n",
       "      <td>5663</td>\n",
       "      <td>2805</td>\n",
       "      <td>3</td>\n",
       "      <td>3476</td>\n",
       "      <td>4840</td>\n",
       "      <td>3422</td>\n",
       "    </tr>\n",
       "    <tr>\n",
       "      <th>2014-02-01</th>\n",
       "      <td>3565</td>\n",
       "      <td>1436</td>\n",
       "      <td>1</td>\n",
       "      <td>1101</td>\n",
       "      <td>3402</td>\n",
       "      <td>4073</td>\n",
       "    </tr>\n",
       "    <tr>\n",
       "      <th>2014-03-01</th>\n",
       "      <td>2620</td>\n",
       "      <td>2740</td>\n",
       "      <td>1</td>\n",
       "      <td>2011</td>\n",
       "      <td>2033</td>\n",
       "      <td>3891</td>\n",
       "    </tr>\n",
       "    <tr>\n",
       "      <th>2014-04-01</th>\n",
       "      <td>1525</td>\n",
       "      <td>2894</td>\n",
       "      <td>6</td>\n",
       "      <td>2454</td>\n",
       "      <td>2122</td>\n",
       "      <td>4259</td>\n",
       "    </tr>\n",
       "    <tr>\n",
       "      <th>2014-05-01</th>\n",
       "      <td>412</td>\n",
       "      <td>908</td>\n",
       "      <td>3</td>\n",
       "      <td>1995</td>\n",
       "      <td>755</td>\n",
       "      <td>3512</td>\n",
       "    </tr>\n",
       "    <tr>\n",
       "      <th>...</th>\n",
       "      <td>...</td>\n",
       "      <td>...</td>\n",
       "      <td>...</td>\n",
       "      <td>...</td>\n",
       "      <td>...</td>\n",
       "      <td>...</td>\n",
       "    </tr>\n",
       "    <tr>\n",
       "      <th>2022-08-01</th>\n",
       "      <td>3900</td>\n",
       "      <td>682</td>\n",
       "      <td>28</td>\n",
       "      <td>2056</td>\n",
       "      <td>613</td>\n",
       "      <td>3543</td>\n",
       "    </tr>\n",
       "    <tr>\n",
       "      <th>2022-09-01</th>\n",
       "      <td>5494</td>\n",
       "      <td>1809</td>\n",
       "      <td>10</td>\n",
       "      <td>2194</td>\n",
       "      <td>1996</td>\n",
       "      <td>3333</td>\n",
       "    </tr>\n",
       "    <tr>\n",
       "      <th>2022-10-01</th>\n",
       "      <td>5339</td>\n",
       "      <td>987</td>\n",
       "      <td>239</td>\n",
       "      <td>679</td>\n",
       "      <td>6242</td>\n",
       "      <td>3175</td>\n",
       "    </tr>\n",
       "    <tr>\n",
       "      <th>2022-11-01</th>\n",
       "      <td>12592</td>\n",
       "      <td>2495</td>\n",
       "      <td>612</td>\n",
       "      <td>563</td>\n",
       "      <td>8125</td>\n",
       "      <td>3289</td>\n",
       "    </tr>\n",
       "    <tr>\n",
       "      <th>2022-12-01</th>\n",
       "      <td>24533</td>\n",
       "      <td>1178</td>\n",
       "      <td>51</td>\n",
       "      <td>9590</td>\n",
       "      <td>14690</td>\n",
       "      <td>3103</td>\n",
       "    </tr>\n",
       "  </tbody>\n",
       "</table>\n",
       "<p>108 rows × 6 columns</p>\n",
       "</div>"
      ],
      "text/plain": [
       "              생산량    갈치  참조기    수입     수출  가격 (원)\n",
       "date                                             \n",
       "2014-01-01   5663  2805    3  3476   4840    3422\n",
       "2014-02-01   3565  1436    1  1101   3402    4073\n",
       "2014-03-01   2620  2740    1  2011   2033    3891\n",
       "2014-04-01   1525  2894    6  2454   2122    4259\n",
       "2014-05-01    412   908    3  1995    755    3512\n",
       "...           ...   ...  ...   ...    ...     ...\n",
       "2022-08-01   3900   682   28  2056    613    3543\n",
       "2022-09-01   5494  1809   10  2194   1996    3333\n",
       "2022-10-01   5339   987  239   679   6242    3175\n",
       "2022-11-01  12592  2495  612   563   8125    3289\n",
       "2022-12-01  24533  1178   51  9590  14690    3103\n",
       "\n",
       "[108 rows x 6 columns]"
      ]
     },
     "execution_count": 3,
     "metadata": {},
     "output_type": "execute_result"
    }
   ],
   "source": [
    "# mackerel=pd.read_csv('../data/merge/mackerel_price.csv')\n",
    "mackerel=pd.read_csv('../data/merge/mackerel_price_trade.csv')\n",
    "\n",
    "# '%Y-%m' 형식으로 변환\n",
    "mackerel['date'] = pd.to_datetime(mackerel['date'], format='%Y-%m-%d')\n",
    "\n",
    "# 'date' 열을 인덱스로 설정\n",
    "mackerel.set_index('date', inplace=True)\n",
    "mackerel=mackerel[['생산량','갈치','참조기','수입','수출','가격 (원)']]\n",
    "# mackerel=mackerel[[,'생산량','가격 (원)']]\n",
    "mackerel.info()\n",
    "mackerel"
   ]
  },
  {
   "cell_type": "code",
   "execution_count": 4,
   "metadata": {},
   "outputs": [
    {
     "name": "stdout",
     "output_type": "stream",
     "text": [
      "(96, 6) (15, 6)\n"
     ]
    }
   ],
   "source": [
    "seq_length=3 # 3~7사이 값 설정\n",
    "train_size = int(len(mackerel)-12)\n",
    "train_set=mackerel[0:train_size]\n",
    "test_set=mackerel[train_size-seq_length:]\n",
    "print(train_set.shape,test_set.shape)\n"
   ]
  },
  {
   "cell_type": "code",
   "execution_count": 5,
   "metadata": {},
   "outputs": [
    {
     "data": {
      "text/html": [
       "<div>\n",
       "<style scoped>\n",
       "    .dataframe tbody tr th:only-of-type {\n",
       "        vertical-align: middle;\n",
       "    }\n",
       "\n",
       "    .dataframe tbody tr th {\n",
       "        vertical-align: top;\n",
       "    }\n",
       "\n",
       "    .dataframe thead th {\n",
       "        text-align: right;\n",
       "    }\n",
       "</style>\n",
       "<table border=\"1\" class=\"dataframe\">\n",
       "  <thead>\n",
       "    <tr style=\"text-align: right;\">\n",
       "      <th></th>\n",
       "      <th>생산량</th>\n",
       "      <th>갈치</th>\n",
       "      <th>참조기</th>\n",
       "      <th>수입</th>\n",
       "      <th>수출</th>\n",
       "      <th>가격 (원)</th>\n",
       "    </tr>\n",
       "    <tr>\n",
       "      <th>date</th>\n",
       "      <th></th>\n",
       "      <th></th>\n",
       "      <th></th>\n",
       "      <th></th>\n",
       "      <th></th>\n",
       "      <th></th>\n",
       "    </tr>\n",
       "  </thead>\n",
       "  <tbody>\n",
       "    <tr>\n",
       "      <th>2014-01-01</th>\n",
       "      <td>5663</td>\n",
       "      <td>2805</td>\n",
       "      <td>3</td>\n",
       "      <td>3476</td>\n",
       "      <td>4840</td>\n",
       "      <td>3422</td>\n",
       "    </tr>\n",
       "    <tr>\n",
       "      <th>2014-02-01</th>\n",
       "      <td>3565</td>\n",
       "      <td>1436</td>\n",
       "      <td>1</td>\n",
       "      <td>1101</td>\n",
       "      <td>3402</td>\n",
       "      <td>4073</td>\n",
       "    </tr>\n",
       "    <tr>\n",
       "      <th>2014-03-01</th>\n",
       "      <td>2620</td>\n",
       "      <td>2740</td>\n",
       "      <td>1</td>\n",
       "      <td>2011</td>\n",
       "      <td>2033</td>\n",
       "      <td>3891</td>\n",
       "    </tr>\n",
       "    <tr>\n",
       "      <th>2014-04-01</th>\n",
       "      <td>1525</td>\n",
       "      <td>2894</td>\n",
       "      <td>6</td>\n",
       "      <td>2454</td>\n",
       "      <td>2122</td>\n",
       "      <td>4259</td>\n",
       "    </tr>\n",
       "    <tr>\n",
       "      <th>2014-05-01</th>\n",
       "      <td>412</td>\n",
       "      <td>908</td>\n",
       "      <td>3</td>\n",
       "      <td>1995</td>\n",
       "      <td>755</td>\n",
       "      <td>3512</td>\n",
       "    </tr>\n",
       "  </tbody>\n",
       "</table>\n",
       "</div>"
      ],
      "text/plain": [
       "             생산량    갈치  참조기    수입    수출  가격 (원)\n",
       "date                                           \n",
       "2014-01-01  5663  2805    3  3476  4840    3422\n",
       "2014-02-01  3565  1436    1  1101  3402    4073\n",
       "2014-03-01  2620  2740    1  2011  2033    3891\n",
       "2014-04-01  1525  2894    6  2454  2122    4259\n",
       "2014-05-01   412   908    3  1995   755    3512"
      ]
     },
     "execution_count": 5,
     "metadata": {},
     "output_type": "execute_result"
    }
   ],
   "source": [
    "train_set.head()"
   ]
  },
  {
   "cell_type": "code",
   "execution_count": 6,
   "metadata": {},
   "outputs": [],
   "source": [
    "#input scale\n",
    "scaler_x=MinMaxScaler()\n",
    "scaler_x.fit(train_set.iloc[:, :-1])\n",
    "\n",
    "train_set.iloc[:, :-1]=scaler_x.transform(train_set.iloc[:, :-1])\n",
    "test_set.iloc[:, :-1]=scaler_x.transform(test_set.iloc[:, :-1])\n",
    "\n",
    "# output scale\n",
    "scaler_y=MinMaxScaler()\n",
    "scaler_y.fit(train_set.iloc[:,[-1]])\n",
    "train_set.iloc[:, -1]=scaler_y.transform(train_set.iloc[:,[-1]])\n",
    "test_set.iloc[:, -1]=scaler_y.transform(test_set.iloc[:,[-1]])"
   ]
  },
  {
   "cell_type": "code",
   "execution_count": 7,
   "metadata": {},
   "outputs": [
    {
     "data": {
      "text/html": [
       "<div>\n",
       "<style scoped>\n",
       "    .dataframe tbody tr th:only-of-type {\n",
       "        vertical-align: middle;\n",
       "    }\n",
       "\n",
       "    .dataframe tbody tr th {\n",
       "        vertical-align: top;\n",
       "    }\n",
       "\n",
       "    .dataframe thead th {\n",
       "        text-align: right;\n",
       "    }\n",
       "</style>\n",
       "<table border=\"1\" class=\"dataframe\">\n",
       "  <thead>\n",
       "    <tr style=\"text-align: right;\">\n",
       "      <th></th>\n",
       "      <th>생산량</th>\n",
       "      <th>갈치</th>\n",
       "      <th>참조기</th>\n",
       "      <th>수입</th>\n",
       "      <th>수출</th>\n",
       "      <th>가격 (원)</th>\n",
       "    </tr>\n",
       "    <tr>\n",
       "      <th>date</th>\n",
       "      <th></th>\n",
       "      <th></th>\n",
       "      <th></th>\n",
       "      <th></th>\n",
       "      <th></th>\n",
       "      <th></th>\n",
       "    </tr>\n",
       "  </thead>\n",
       "  <tbody>\n",
       "    <tr>\n",
       "      <th>2021-10-01</th>\n",
       "      <td>0.348104</td>\n",
       "      <td>0.316959</td>\n",
       "      <td>0.323162</td>\n",
       "      <td>0.036125</td>\n",
       "      <td>0.363671</td>\n",
       "      <td>0.429224</td>\n",
       "    </tr>\n",
       "    <tr>\n",
       "      <th>2021-11-01</th>\n",
       "      <td>0.493993</td>\n",
       "      <td>0.491581</td>\n",
       "      <td>0.876560</td>\n",
       "      <td>0.098553</td>\n",
       "      <td>0.357424</td>\n",
       "      <td>0.463318</td>\n",
       "    </tr>\n",
       "    <tr>\n",
       "      <th>2021-12-01</th>\n",
       "      <td>0.812506</td>\n",
       "      <td>0.530463</td>\n",
       "      <td>0.428571</td>\n",
       "      <td>0.839544</td>\n",
       "      <td>0.577391</td>\n",
       "      <td>0.407002</td>\n",
       "    </tr>\n",
       "    <tr>\n",
       "      <th>2022-01-01</th>\n",
       "      <td>0.408929</td>\n",
       "      <td>0.353411</td>\n",
       "      <td>0.023578</td>\n",
       "      <td>0.867690</td>\n",
       "      <td>0.863961</td>\n",
       "      <td>0.511111</td>\n",
       "    </tr>\n",
       "    <tr>\n",
       "      <th>2022-02-01</th>\n",
       "      <td>0.065691</td>\n",
       "      <td>0.177226</td>\n",
       "      <td>0.004161</td>\n",
       "      <td>0.746076</td>\n",
       "      <td>0.639871</td>\n",
       "      <td>0.592694</td>\n",
       "    </tr>\n",
       "    <tr>\n",
       "      <th>2022-03-01</th>\n",
       "      <td>0.101518</td>\n",
       "      <td>0.342822</td>\n",
       "      <td>0.012483</td>\n",
       "      <td>0.679000</td>\n",
       "      <td>0.486506</td>\n",
       "      <td>0.595129</td>\n",
       "    </tr>\n",
       "    <tr>\n",
       "      <th>2022-04-01</th>\n",
       "      <td>0.004531</td>\n",
       "      <td>0.224440</td>\n",
       "      <td>0.004161</td>\n",
       "      <td>0.069619</td>\n",
       "      <td>0.165862</td>\n",
       "      <td>0.683714</td>\n",
       "    </tr>\n",
       "    <tr>\n",
       "      <th>2022-05-01</th>\n",
       "      <td>0.006995</td>\n",
       "      <td>0.024996</td>\n",
       "      <td>0.006935</td>\n",
       "      <td>0.312407</td>\n",
       "      <td>0.278905</td>\n",
       "      <td>0.790563</td>\n",
       "    </tr>\n",
       "    <tr>\n",
       "      <th>2022-06-01</th>\n",
       "      <td>0.017731</td>\n",
       "      <td>0.063531</td>\n",
       "      <td>0.004161</td>\n",
       "      <td>0.222885</td>\n",
       "      <td>0.176618</td>\n",
       "      <td>0.833486</td>\n",
       "    </tr>\n",
       "    <tr>\n",
       "      <th>2022-07-01</th>\n",
       "      <td>0.076184</td>\n",
       "      <td>0.074987</td>\n",
       "      <td>0.006935</td>\n",
       "      <td>0.307760</td>\n",
       "      <td>0.166312</td>\n",
       "      <td>0.619787</td>\n",
       "    </tr>\n",
       "    <tr>\n",
       "      <th>2022-08-01</th>\n",
       "      <td>0.118549</td>\n",
       "      <td>0.112480</td>\n",
       "      <td>0.038835</td>\n",
       "      <td>0.158702</td>\n",
       "      <td>0.028213</td>\n",
       "      <td>0.500152</td>\n",
       "    </tr>\n",
       "    <tr>\n",
       "      <th>2022-09-01</th>\n",
       "      <td>0.167027</td>\n",
       "      <td>0.308106</td>\n",
       "      <td>0.013870</td>\n",
       "      <td>0.170802</td>\n",
       "      <td>0.117295</td>\n",
       "      <td>0.436225</td>\n",
       "    </tr>\n",
       "    <tr>\n",
       "      <th>2022-10-01</th>\n",
       "      <td>0.162313</td>\n",
       "      <td>0.165423</td>\n",
       "      <td>0.331484</td>\n",
       "      <td>0.037966</td>\n",
       "      <td>0.390789</td>\n",
       "      <td>0.388128</td>\n",
       "    </tr>\n",
       "    <tr>\n",
       "      <th>2022-11-01</th>\n",
       "      <td>0.382896</td>\n",
       "      <td>0.427183</td>\n",
       "      <td>0.848821</td>\n",
       "      <td>0.027795</td>\n",
       "      <td>0.512077</td>\n",
       "      <td>0.422831</td>\n",
       "    </tr>\n",
       "    <tr>\n",
       "      <th>2022-12-01</th>\n",
       "      <td>0.746054</td>\n",
       "      <td>0.198577</td>\n",
       "      <td>0.070735</td>\n",
       "      <td>0.819290</td>\n",
       "      <td>0.934944</td>\n",
       "      <td>0.366210</td>\n",
       "    </tr>\n",
       "  </tbody>\n",
       "</table>\n",
       "</div>"
      ],
      "text/plain": [
       "                 생산량        갈치       참조기        수입        수출    가격 (원)\n",
       "date                                                                  \n",
       "2021-10-01  0.348104  0.316959  0.323162  0.036125  0.363671  0.429224\n",
       "2021-11-01  0.493993  0.491581  0.876560  0.098553  0.357424  0.463318\n",
       "2021-12-01  0.812506  0.530463  0.428571  0.839544  0.577391  0.407002\n",
       "2022-01-01  0.408929  0.353411  0.023578  0.867690  0.863961  0.511111\n",
       "2022-02-01  0.065691  0.177226  0.004161  0.746076  0.639871  0.592694\n",
       "2022-03-01  0.101518  0.342822  0.012483  0.679000  0.486506  0.595129\n",
       "2022-04-01  0.004531  0.224440  0.004161  0.069619  0.165862  0.683714\n",
       "2022-05-01  0.006995  0.024996  0.006935  0.312407  0.278905  0.790563\n",
       "2022-06-01  0.017731  0.063531  0.004161  0.222885  0.176618  0.833486\n",
       "2022-07-01  0.076184  0.074987  0.006935  0.307760  0.166312  0.619787\n",
       "2022-08-01  0.118549  0.112480  0.038835  0.158702  0.028213  0.500152\n",
       "2022-09-01  0.167027  0.308106  0.013870  0.170802  0.117295  0.436225\n",
       "2022-10-01  0.162313  0.165423  0.331484  0.037966  0.390789  0.388128\n",
       "2022-11-01  0.382896  0.427183  0.848821  0.027795  0.512077  0.422831\n",
       "2022-12-01  0.746054  0.198577  0.070735  0.819290  0.934944  0.366210"
      ]
     },
     "execution_count": 7,
     "metadata": {},
     "output_type": "execute_result"
    }
   ],
   "source": [
    "test_set[:]"
   ]
  },
  {
   "cell_type": "code",
   "execution_count": 8,
   "metadata": {},
   "outputs": [],
   "source": [
    "import torch\n",
    "import torch.nn as nn\n",
    "import torch.functional as F\n",
    "import torch.optim as optim\n",
    "from torch.utils.data import TensorDataset # 텐서데이터셋\n",
    "from torch.utils.data import DataLoader # 데이터로더\n",
    "import numpy as np"
   ]
  },
  {
   "cell_type": "code",
   "execution_count": 9,
   "metadata": {},
   "outputs": [],
   "source": [
    "device = torch.device('cuda:0' if torch.cuda.is_available() else 'cpu')\n",
    "torch.manual_seed(125)\n",
    "if torch.cuda.is_available() :\n",
    "    torch.cuda.manual_seed_all(125)"
   ]
  },
  {
   "cell_type": "code",
   "execution_count": 10,
   "metadata": {},
   "outputs": [],
   "source": [
    "def build_dataset(time_series, seq_length):\n",
    "    dataX=[]\n",
    "    dataY=[]\n",
    "    for i in range(0, len(time_series)-seq_length):\n",
    "        x_=time_series[i:i+seq_length, :]\n",
    "        y_=time_series[i+seq_length,[5]]\n",
    "        dataX.append(x_)\n",
    "        dataY.append(y_)\n",
    "    return np.array(dataX), np.array(dataY)"
   ]
  },
  {
   "cell_type": "code",
   "execution_count": 11,
   "metadata": {},
   "outputs": [
    {
     "name": "stdout",
     "output_type": "stream",
     "text": [
      "(93, 3, 6) (93, 1)\n",
      "(12, 3, 6) (12, 1)\n"
     ]
    }
   ],
   "source": [
    "trainX, trainY=build_dataset(np.array(train_set), seq_length)\n",
    "testX, testY=build_dataset(np.array(test_set),seq_length)\n",
    "\n",
    "print(trainX.shape, trainY.shape)\n",
    "print(testX.shape, testY.shape)"
   ]
  },
  {
   "cell_type": "code",
   "execution_count": 12,
   "metadata": {},
   "outputs": [
    {
     "name": "stdout",
     "output_type": "stream",
     "text": [
      "torch.Size([93, 3, 6]) torch.Size([93, 1])\n",
      "torch.Size([12, 3, 6]) torch.Size([12, 1])\n"
     ]
    }
   ],
   "source": [
    "trainX_tensor=torch.FloatTensor(trainX)\n",
    "trainY_tensor=torch.FloatTensor(trainY)\n",
    "testX_tensor=torch.FloatTensor(testX)\n",
    "testY_tensor=torch.FloatTensor(testY)\n",
    "\n",
    "print(trainX_tensor.size(), trainY_tensor.size())\n",
    "print(testX_tensor.size(), testY_tensor.size())"
   ]
  },
  {
   "cell_type": "code",
   "execution_count": 13,
   "metadata": {},
   "outputs": [],
   "source": [
    "train_dataset=TensorDataset(trainX_tensor, trainY_tensor)\n",
    "train_loader=DataLoader(train_dataset, shuffle=True,\n",
    "                        drop_last=True)"
   ]
  },
  {
   "cell_type": "code",
   "execution_count": 14,
   "metadata": {},
   "outputs": [],
   "source": [
    "# 수정 필요\n",
    "\n",
    "data_dim=6\n",
    "hidden_dim=12\n",
    "output_dim=1\n",
    "learning_late=0.01\n",
    "epochs=1000"
   ]
  },
  {
   "cell_type": "code",
   "execution_count": 15,
   "metadata": {},
   "outputs": [],
   "source": [
    "class Net(nn.Module):\n",
    "  def __init__(self, input_dim, hidden_dim, seq_length, output_dim, layers):\n",
    "    super(Net, self).__init__()\n",
    "    self.hidden_dim=hidden_dim\n",
    "    self.seq_length=seq_length\n",
    "    self.output_dim=output_dim\n",
    "    self.layers=layers\n",
    "\n",
    "    self.lstm=nn.LSTM(input_dim, \n",
    "                      hidden_dim, \n",
    "                      num_layers=layers,\n",
    "                      batch_first=True)\n",
    "    self.fc=nn.Linear(hidden_dim, output_dim, bias=True)\n",
    "\n",
    "  def reset_hidden_state(self):\n",
    "    self.hidden=(\n",
    "      torch.zeros(self.layers, self.seq_length, self.hidden_dim),\n",
    "      torch.zeros(self.layers, self.seq_length, self.hidden_dim)\n",
    "    )\n",
    "  def forward(self, x):\n",
    "    x, _status=self.lstm(x)\n",
    "    x=self.fc(x[:, -1])\n",
    "    return x"
   ]
  },
  {
   "cell_type": "code",
   "execution_count": 16,
   "metadata": {},
   "outputs": [],
   "source": [
    "def train_model(model, train_df, epochs=None, lr=None, verbos=10, patience=10):\n",
    "  criterion=nn.MSELoss().to(device)\n",
    "  optimizer=optim.Adam(model.parameters(),lr=learning_late)\n",
    "  n_epochs=epochs\n",
    "\n",
    "  train_hist=np.zeros(n_epochs)\n",
    "  for epoch in range(n_epochs):\n",
    "    avg_cost=0\n",
    "    total_batch=len(train_df)\n",
    "\n",
    "    for batch_idxm, sample in enumerate(train_df):\n",
    "      x_train, y_train=sample\n",
    "      model.reset_hidden_state()\n",
    "      output=model(x_train)\n",
    "      loss=criterion(output, y_train)\n",
    "      optimizer.zero_grad()\n",
    "      loss.backward()\n",
    "      optimizer.step()\n",
    "      avg_cost+=loss/total_batch\n",
    "    \n",
    "    train_hist[epoch]=avg_cost\n",
    "\n",
    "    if epoch % verbos==0:\n",
    "      print('Epoch:{}, train_loss:{}'.format(epoch, avg_cost.item()))\n",
    "\n",
    "    if(epoch % patience==0) & (epoch!=0):\n",
    "      if train_hist[epoch-patience] < train_hist[epoch]:\n",
    "        print(\"Early Stopping\")\n",
    "        break\n",
    "  return model.eval(), train_hist\n",
    "\n",
    "# best loss / model 추가"
   ]
  },
  {
   "cell_type": "code",
   "execution_count": 17,
   "metadata": {},
   "outputs": [],
   "source": [
    "# net=Net(data_dim, hidden_dim, seq_length, output_dim, 1)\n",
    "# model, train_hist=train_model(net, train_loader, epochs=epochs,\n",
    "#                               lr=learning_late, verbos=20, patience=100)"
   ]
  },
  {
   "cell_type": "code",
   "execution_count": 18,
   "metadata": {},
   "outputs": [],
   "source": [
    "# path=\"../model/price_수입_수출_갈치.pth\"\n",
    "path=\"../model/price_final.pth\"\n",
    "# torch.save(model.state_dict(), path)"
   ]
  },
  {
   "cell_type": "code",
   "execution_count": 19,
   "metadata": {},
   "outputs": [
    {
     "data": {
      "text/plain": [
       "Net(\n",
       "  (lstm): LSTM(6, 12, batch_first=True)\n",
       "  (fc): Linear(in_features=12, out_features=1, bias=True)\n",
       ")"
      ]
     },
     "execution_count": 19,
     "metadata": {},
     "output_type": "execute_result"
    }
   ],
   "source": [
    "model=Net(data_dim, hidden_dim, seq_length, output_dim, 1).to(device)\n",
    "model.load_state_dict(torch.load(path), strict=False)\n",
    "model.eval()"
   ]
  },
  {
   "cell_type": "code",
   "execution_count": 20,
   "metadata": {},
   "outputs": [],
   "source": [
    "# fig=plt.figure(figsize=(10, 6))\n",
    "# plt.plot(train_hist, label='Training loss')\n",
    "# plt.legend()\n",
    "# plt.show()"
   ]
  },
  {
   "cell_type": "code",
   "execution_count": 21,
   "metadata": {},
   "outputs": [
    {
     "name": "stdout",
     "output_type": "stream",
     "text": [
      "MAe SCORE: 262.51510329544544\n"
     ]
    }
   ],
   "source": [
    "with torch.no_grad():\n",
    "    pred=[]\n",
    "    for pr in range(len(testX_tensor)):\n",
    "        model.reset_hidden_state()\n",
    "        predicted=model(torch.unsqueeze(testX_tensor[pr],0))\n",
    "        predicted=torch.flatten(predicted).item()\n",
    "        pred.append(predicted)\n",
    "\n",
    "    pred_inverse=scaler_y.inverse_transform(np.array(pred).reshape(-1, 1))\n",
    "    testY_inverse=scaler_y.inverse_transform(testY_tensor)\n",
    "\n",
    "def MAE(true, pred):\n",
    "    return np.mean(np.abs(true-pred))\n",
    "\n",
    "\n",
    "print('MAe SCORE:', MAE(pred_inverse, testY_inverse))"
   ]
  },
  {
   "cell_type": "code",
   "execution_count": 22,
   "metadata": {},
   "outputs": [
    {
     "data": {
      "text/plain": [
       "DatetimeIndex(['2022-01-01', '2022-02-01', '2022-03-01', '2022-04-01',\n",
       "               '2022-05-01', '2022-06-01', '2022-07-01', '2022-08-01',\n",
       "               '2022-09-01', '2022-10-01', '2022-11-01', '2022-12-01'],\n",
       "              dtype='datetime64[ns]', name='date', freq=None)"
      ]
     },
     "execution_count": 22,
     "metadata": {},
     "output_type": "execute_result"
    }
   ],
   "source": [
    "test_set.index[seq_length:]"
   ]
  },
  {
   "cell_type": "code",
   "execution_count": 23,
   "metadata": {},
   "outputs": [],
   "source": [
    "date=['2022-01','2022-02', '2022-03', '2022-04',\n",
    "    '2022-05', '2022-06', '2022-07', '2022-08',\n",
    "    '2022-09', '2022-10', '2022-11', '2022-12']"
   ]
  },
  {
   "cell_type": "code",
   "execution_count": 24,
   "metadata": {},
   "outputs": [
    {
     "data": {
      "image/png": "[encoded data removed]",
      "text/plain": [
       "<Figure size 1600x600 with 1 Axes>"
      ]
     },
     "metadata": {},
     "output_type": "display_data"
    }
   ],
   "source": [
    "fig=plt.figure(figsize=(16,6))\n",
    "plt.title('생산량 및 수입량에 따른 고등어 가격 예측')\n",
    "plt.plot(np.arange(len(pred_inverse)), pred_inverse, label='pred')\n",
    "plt.plot(np.arange(len(testY_inverse)), testY_inverse, label='true')\n",
    "plt.xlabel('년도')\n",
    "plt.ylabel('가격 (원)')\n",
    "\n",
    "plt.xticks(np.arange(len(pred_inverse)),date)\n",
    "plt.legend()\n",
    "plt.show()"
   ]
  },
  {
   "cell_type": "code",
   "execution_count": 25,
   "metadata": {},
   "outputs": [
    {
     "data": {
      "text/plain": [
       "array([[3295.77151999],\n",
       "       [3388.72004151],\n",
       "       [3735.12144566],\n",
       "       [3668.32149684],\n",
       "       [3928.32559586],\n",
       "       [4552.68646598],\n",
       "       [3384.95987415],\n",
       "       [3289.72194642],\n",
       "       [3388.16357434],\n",
       "       [3351.17338806],\n",
       "       [3266.71431959],\n",
       "       [3202.18684018]])"
      ]
     },
     "execution_count": 25,
     "metadata": {},
     "output_type": "execute_result"
    }
   ],
   "source": [
    "pred_inverse"
   ]
  },
  {
   "cell_type": "markdown",
   "metadata": {},
   "source": [
    "# 모델활용 미래 예측\n",
    " - 생산량에 따른 고등어 가격(24) 예측"
   ]
  },
  {
   "cell_type": "code",
   "execution_count": 26,
   "metadata": {},
   "outputs": [
    {
     "data": {
      "text/html": [
       "<div>\n",
       "<style scoped>\n",
       "    .dataframe tbody tr th:only-of-type {\n",
       "        vertical-align: middle;\n",
       "    }\n",
       "\n",
       "    .dataframe tbody tr th {\n",
       "        vertical-align: top;\n",
       "    }\n",
       "\n",
       "    .dataframe thead th {\n",
       "        text-align: right;\n",
       "    }\n",
       "</style>\n",
       "<table border=\"1\" class=\"dataframe\">\n",
       "  <thead>\n",
       "    <tr style=\"text-align: right;\">\n",
       "      <th></th>\n",
       "      <th>생산량</th>\n",
       "      <th>갈치</th>\n",
       "      <th>참조기</th>\n",
       "      <th>수입</th>\n",
       "      <th>수출</th>\n",
       "    </tr>\n",
       "    <tr>\n",
       "      <th>date</th>\n",
       "      <th></th>\n",
       "      <th></th>\n",
       "      <th></th>\n",
       "      <th></th>\n",
       "      <th></th>\n",
       "    </tr>\n",
       "  </thead>\n",
       "  <tbody>\n",
       "    <tr>\n",
       "      <th>2023-07-01</th>\n",
       "      <td>1199.000000</td>\n",
       "      <td>2132.947236</td>\n",
       "      <td>11.726685</td>\n",
       "      <td>7340.893197</td>\n",
       "      <td>8178.081052</td>\n",
       "    </tr>\n",
       "    <tr>\n",
       "      <th>2023-08-01</th>\n",
       "      <td>8275.885202</td>\n",
       "      <td>2358.660455</td>\n",
       "      <td>0.000000</td>\n",
       "      <td>10353.117920</td>\n",
       "      <td>8994.719573</td>\n",
       "    </tr>\n",
       "    <tr>\n",
       "      <th>2023-09-01</th>\n",
       "      <td>26877.064905</td>\n",
       "      <td>1790.544876</td>\n",
       "      <td>34.984615</td>\n",
       "      <td>7125.182607</td>\n",
       "      <td>6168.885166</td>\n",
       "    </tr>\n",
       "    <tr>\n",
       "      <th>2023-10-01</th>\n",
       "      <td>34608.912835</td>\n",
       "      <td>1159.622157</td>\n",
       "      <td>12.903990</td>\n",
       "      <td>3759.505482</td>\n",
       "      <td>4294.083087</td>\n",
       "    </tr>\n",
       "    <tr>\n",
       "      <th>2023-11-01</th>\n",
       "      <td>33716.373913</td>\n",
       "      <td>325.399987</td>\n",
       "      <td>0.000000</td>\n",
       "      <td>3734.359067</td>\n",
       "      <td>4379.832152</td>\n",
       "    </tr>\n",
       "    <tr>\n",
       "      <th>2023-12-01</th>\n",
       "      <td>31104.432465</td>\n",
       "      <td>846.746832</td>\n",
       "      <td>0.000000</td>\n",
       "      <td>1828.484694</td>\n",
       "      <td>3494.194524</td>\n",
       "    </tr>\n",
       "    <tr>\n",
       "      <th>2024-01-01</th>\n",
       "      <td>28745.068806</td>\n",
       "      <td>688.993680</td>\n",
       "      <td>1.835948</td>\n",
       "      <td>2828.386894</td>\n",
       "      <td>3087.074468</td>\n",
       "    </tr>\n",
       "    <tr>\n",
       "      <th>2024-02-01</th>\n",
       "      <td>19171.575663</td>\n",
       "      <td>496.917295</td>\n",
       "      <td>33.334560</td>\n",
       "      <td>1908.514481</td>\n",
       "      <td>1620.192152</td>\n",
       "    </tr>\n",
       "    <tr>\n",
       "      <th>2024-03-01</th>\n",
       "      <td>5105.585574</td>\n",
       "      <td>978.409219</td>\n",
       "      <td>27.870409</td>\n",
       "      <td>4371.921894</td>\n",
       "      <td>2233.159343</td>\n",
       "    </tr>\n",
       "    <tr>\n",
       "      <th>2024-04-01</th>\n",
       "      <td>1199.000000</td>\n",
       "      <td>2087.172052</td>\n",
       "      <td>127.987284</td>\n",
       "      <td>1049.595605</td>\n",
       "      <td>2765.918717</td>\n",
       "    </tr>\n",
       "    <tr>\n",
       "      <th>2024-05-01</th>\n",
       "      <td>1199.000000</td>\n",
       "      <td>3081.842867</td>\n",
       "      <td>263.426466</td>\n",
       "      <td>2921.952173</td>\n",
       "      <td>3195.951992</td>\n",
       "    </tr>\n",
       "    <tr>\n",
       "      <th>2024-06-01</th>\n",
       "      <td>1199.000000</td>\n",
       "      <td>2224.480657</td>\n",
       "      <td>180.026960</td>\n",
       "      <td>7781.703096</td>\n",
       "      <td>4955.507842</td>\n",
       "    </tr>\n",
       "  </tbody>\n",
       "</table>\n",
       "</div>"
      ],
      "text/plain": [
       "                     생산량           갈치         참조기            수입           수출\n",
       "date                                                                        \n",
       "2023-07-01   1199.000000  2132.947236   11.726685   7340.893197  8178.081052\n",
       "2023-08-01   8275.885202  2358.660455    0.000000  10353.117920  8994.719573\n",
       "2023-09-01  26877.064905  1790.544876   34.984615   7125.182607  6168.885166\n",
       "2023-10-01  34608.912835  1159.622157   12.903990   3759.505482  4294.083087\n",
       "2023-11-01  33716.373913   325.399987    0.000000   3734.359067  4379.832152\n",
       "2023-12-01  31104.432465   846.746832    0.000000   1828.484694  3494.194524\n",
       "2024-01-01  28745.068806   688.993680    1.835948   2828.386894  3087.074468\n",
       "2024-02-01  19171.575663   496.917295   33.334560   1908.514481  1620.192152\n",
       "2024-03-01   5105.585574   978.409219   27.870409   4371.921894  2233.159343\n",
       "2024-04-01   1199.000000  2087.172052  127.987284   1049.595605  2765.918717\n",
       "2024-05-01   1199.000000  3081.842867  263.426466   2921.952173  3195.951992\n",
       "2024-06-01   1199.000000  2224.480657  180.026960   7781.703096  4955.507842"
      ]
     },
     "execution_count": 26,
     "metadata": {},
     "output_type": "execute_result"
    }
   ],
   "source": [
    "# 데이터 불러오기\n",
    "pred_price=pd.read_csv('../data/merge/price_pred_values.csv')\n",
    "\n",
    "pred_price['date'] = pd.to_datetime(pred_price['date'], format='%Y-%m-%d')\n",
    "\n",
    "# 'date' 열을 인덱스로 설정\n",
    "pred_price.set_index('date', inplace=True)\n",
    "\n",
    "pred_price"
   ]
  },
  {
   "cell_type": "code",
   "execution_count": 27,
   "metadata": {},
   "outputs": [],
   "source": [
    "def build_pred_dataset(time_series, seq_length):\n",
    "    dataX=[]\n",
    "    for i in range(0, len(time_series)-seq_length):\n",
    "        x_=time_series[i:i+seq_length, :]\n",
    "        dataX.append(x_)\n",
    "    return np.array(dataX)"
   ]
  },
  {
   "cell_type": "code",
   "execution_count": 28,
   "metadata": {},
   "outputs": [
    {
     "data": {
      "text/plain": [
       "array([[0.036404  , 0.36433731, 0.01626447, 0.62208621, 0.51549636],\n",
       "       [0.25163119, 0.40351683, 0.        , 0.88620061, 0.56809788],\n",
       "       [0.8173433 , 0.30490277, 0.04852235, 0.60317252, 0.38607956],\n",
       "       [1.05248967, 0.19538659, 0.01789735, 0.30806712, 0.26531936],\n",
       "       [1.02534515, 0.05058149, 0.        , 0.30586226, 0.27084265],\n",
       "       [0.94590896, 0.14107739, 0.        , 0.13875359, 0.21379675],\n",
       "       [0.87415434, 0.11369444, 0.00254639, 0.22642586, 0.18757323],\n",
       "       [0.58299856, 0.08035364, 0.04623379, 0.14577067, 0.09308806],\n",
       "       [0.15521382, 0.16393147, 0.03865521, 0.3617643 , 0.13257065],\n",
       "       [0.036404  , 0.35639161, 0.17751357, 0.07045994, 0.16688687],\n",
       "       [0.036404  , 0.52904754, 0.36536264, 0.23462974, 0.19458628],\n",
       "       [0.036404  , 0.38022577, 0.24969065, 0.66073679, 0.30792321]])"
      ]
     },
     "execution_count": 28,
     "metadata": {},
     "output_type": "execute_result"
    }
   ],
   "source": [
    "#input scale\n",
    "pred_price=scaler_x.transform(pred_price)\n",
    "pred_price"
   ]
  },
  {
   "cell_type": "code",
   "execution_count": 29,
   "metadata": {},
   "outputs": [
    {
     "data": {
      "text/plain": [
       "(9, 3, 5)"
      ]
     },
     "execution_count": 29,
     "metadata": {},
     "output_type": "execute_result"
    }
   ],
   "source": [
    "predX=build_pred_dataset(np.array(pred_price),seq_length)\n",
    "predX.shape"
   ]
  },
  {
   "cell_type": "code",
   "execution_count": 30,
   "metadata": {},
   "outputs": [],
   "source": [
    "predX_tensor=torch.FloatTensor(predX)"
   ]
  },
  {
   "cell_type": "code",
   "execution_count": 31,
   "metadata": {},
   "outputs": [
    {
     "data": {
      "text/plain": [
       "Net(\n",
       "  (lstm): LSTM(6, 12, batch_first=True)\n",
       "  (fc): Linear(in_features=12, out_features=1, bias=True)\n",
       ")"
      ]
     },
     "execution_count": 31,
     "metadata": {},
     "output_type": "execute_result"
    }
   ],
   "source": [
    "model=Net(data_dim, hidden_dim, seq_length, output_dim, 1).to(device)\n",
    "model.load_state_dict(torch.load(path), strict=False)\n",
    "model.eval()"
   ]
  },
  {
   "cell_type": "code",
   "execution_count": 32,
   "metadata": {},
   "outputs": [],
   "source": [
    "with torch.no_grad():\n",
    "    pred=[]\n",
    "    for pr in range(len(predX_tensor)):\n",
    "        model.reset_hidden_state()\n",
    "        predicted=model(torch.unsqueeze(predX_tensor[pr],0))\n",
    "        predicted=torch.flatten(predicted).item()\n",
    "        pred.append(predicted)\n",
    "\n",
    "    pred_inverse=scaler_y.inverse_transform(np.array(pred).reshape(-1, 1))"
   ]
  },
  {
   "cell_type": "code",
   "execution_count": 35,
   "metadata": {},
   "outputs": [],
   "source": [
    "date=['2023-10','2023-11','2023-12',\n",
    "      '2024-01','2024-02', '2024-03','2023-04','2024-05','2024-06',]"
   ]
  },
  {
   "cell_type": "code",
   "execution_count": 36,
   "metadata": {},
   "outputs": [
    {
     "data": {
      "image/png": "[encoded data removed]",
      "text/plain": [
       "<Figure size 2000x1000 with 1 Axes>"
      ]
     },
     "metadata": {},
     "output_type": "display_data"
    }
   ],
   "source": [
    "fig=plt.figure(figsize=(20,10))\n",
    "plt.title('23~24년 고등어 생산량 예측')\n",
    "plt.plot(np.arange(len(pred_inverse)), pred_inverse, label='pred')\n",
    "plt.xlabel('년도')\n",
    "plt.ylabel('가격 (원)')\n",
    "\n",
    "plt.xticks(np.arange(len(pred_inverse)),date)\n",
    "plt.legend()\n",
    "plt.show()"
   ]
  },
  {
   "cell_type": "code",
   "execution_count": 37,
   "metadata": {},
   "outputs": [
    {
     "data": {
      "text/plain": [
       "array([[1881.82807684],\n",
       "       [1589.95839998],\n",
       "       [1621.16892472],\n",
       "       [1480.13484493],\n",
       "       [1672.10006267],\n",
       "       [1959.15782571],\n",
       "       [2217.73237973],\n",
       "       [2712.82878369],\n",
       "       [2525.75252756]])"
      ]
     },
     "execution_count": 37,
     "metadata": {},
     "output_type": "execute_result"
    }
   ],
   "source": [
    "pred_inverse"
   ]
  }
 ],
 "metadata": {
  "kernelspec": {
   "display_name": "Python 3",
   "language": "python",
   "name": "python3"
  },
  "language_info": {
   "codemirror_mode": {
    "name": "ipython",
    "version": 3
   },
   "file_extension": ".py",
   "mimetype": "text/x-python",
   "name": "python",
   "nbconvert_exporter": "python",
   "pygments_lexer": "ipython3",
   "version": "3.12.0"
  }
 },
 "nbformat": 4,
 "nbformat_minor": 2
}
