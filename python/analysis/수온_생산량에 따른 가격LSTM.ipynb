{
 "cells": [
  {
   "cell_type": "code",
   "execution_count": 2375,
   "metadata": {},
   "outputs": [],
   "source": [
    "import pandas as pd\n",
    "import random\n",
    "import matplotlib.pyplot as plt\n",
    "from sklearn.preprocessing import MinMaxScaler"
   ]
  },
  {
   "cell_type": "code",
   "execution_count": 2376,
   "metadata": {},
   "outputs": [],
   "source": [
    "#한글 깨짐 방지\n",
    "from matplotlib import rc, font_manager\n",
    "font_path='../data/fonts/malgun.ttf'\n",
    "font_name=font_manager.FontProperties(fname=font_path).get_name()\n",
    "rc('font',family=font_name)\n",
    "#마이너스 깨짐 방지\n",
    "plt.rcParams['axes.unicode_minus']=False"
   ]
  },
  {
   "cell_type": "code",
   "execution_count": 2377,
   "metadata": {},
   "outputs": [
    {
     "name": "stdout",
     "output_type": "stream",
     "text": [
      "<class 'pandas.core.frame.DataFrame'>\n",
      "DatetimeIndex: 108 entries, 2014-01-01 to 2022-12-01\n",
      "Data columns (total 6 columns):\n",
      " #   Column  Non-Null Count  Dtype  \n",
      "---  ------  --------------  -----  \n",
      " 0   생산량     108 non-null    int64  \n",
      " 1   갈치      108 non-null    int64  \n",
      " 2   참조기     108 non-null    int64  \n",
      " 3   수입      108 non-null    int64  \n",
      " 4   수출      108 non-null    float64\n",
      " 5   가격 (원)  108 non-null    int64  \n",
      "dtypes: float64(1), int64(5)\n",
      "memory usage: 5.9 KB\n"
     ]
    },
    {
     "data": {
      "text/html": [
       "<div>\n",
       "<style scoped>\n",
       "    .dataframe tbody tr th:only-of-type {\n",
       "        vertical-align: middle;\n",
       "    }\n",
       "\n",
       "    .dataframe tbody tr th {\n",
       "        vertical-align: top;\n",
       "    }\n",
       "\n",
       "    .dataframe thead th {\n",
       "        text-align: right;\n",
       "    }\n",
       "</style>\n",
       "<table border=\"1\" class=\"dataframe\">\n",
       "  <thead>\n",
       "    <tr style=\"text-align: right;\">\n",
       "      <th></th>\n",
       "      <th>생산량</th>\n",
       "      <th>갈치</th>\n",
       "      <th>참조기</th>\n",
       "      <th>수입</th>\n",
       "      <th>수출</th>\n",
       "      <th>가격 (원)</th>\n",
       "    </tr>\n",
       "    <tr>\n",
       "      <th>date</th>\n",
       "      <th></th>\n",
       "      <th></th>\n",
       "      <th></th>\n",
       "      <th></th>\n",
       "      <th></th>\n",
       "      <th></th>\n",
       "    </tr>\n",
       "  </thead>\n",
       "  <tbody>\n",
       "    <tr>\n",
       "      <th>2014-01-01</th>\n",
       "      <td>5663</td>\n",
       "      <td>2805</td>\n",
       "      <td>3</td>\n",
       "      <td>3476</td>\n",
       "      <td>4840.0</td>\n",
       "      <td>3422</td>\n",
       "    </tr>\n",
       "    <tr>\n",
       "      <th>2014-02-01</th>\n",
       "      <td>3565</td>\n",
       "      <td>1436</td>\n",
       "      <td>1</td>\n",
       "      <td>1101</td>\n",
       "      <td>3402.0</td>\n",
       "      <td>4073</td>\n",
       "    </tr>\n",
       "    <tr>\n",
       "      <th>2014-03-01</th>\n",
       "      <td>2620</td>\n",
       "      <td>2740</td>\n",
       "      <td>1</td>\n",
       "      <td>2011</td>\n",
       "      <td>2033.0</td>\n",
       "      <td>3891</td>\n",
       "    </tr>\n",
       "    <tr>\n",
       "      <th>2014-04-01</th>\n",
       "      <td>1525</td>\n",
       "      <td>2894</td>\n",
       "      <td>6</td>\n",
       "      <td>2454</td>\n",
       "      <td>2122.0</td>\n",
       "      <td>4259</td>\n",
       "    </tr>\n",
       "    <tr>\n",
       "      <th>2014-05-01</th>\n",
       "      <td>412</td>\n",
       "      <td>908</td>\n",
       "      <td>3</td>\n",
       "      <td>1995</td>\n",
       "      <td>755.0</td>\n",
       "      <td>3512</td>\n",
       "    </tr>\n",
       "    <tr>\n",
       "      <th>...</th>\n",
       "      <td>...</td>\n",
       "      <td>...</td>\n",
       "      <td>...</td>\n",
       "      <td>...</td>\n",
       "      <td>...</td>\n",
       "      <td>...</td>\n",
       "    </tr>\n",
       "    <tr>\n",
       "      <th>2022-08-01</th>\n",
       "      <td>3900</td>\n",
       "      <td>682</td>\n",
       "      <td>28</td>\n",
       "      <td>2056</td>\n",
       "      <td>613.0</td>\n",
       "      <td>3543</td>\n",
       "    </tr>\n",
       "    <tr>\n",
       "      <th>2022-09-01</th>\n",
       "      <td>5494</td>\n",
       "      <td>1809</td>\n",
       "      <td>10</td>\n",
       "      <td>2194</td>\n",
       "      <td>1996.0</td>\n",
       "      <td>3333</td>\n",
       "    </tr>\n",
       "    <tr>\n",
       "      <th>2022-10-01</th>\n",
       "      <td>5339</td>\n",
       "      <td>987</td>\n",
       "      <td>239</td>\n",
       "      <td>679</td>\n",
       "      <td>6242.0</td>\n",
       "      <td>3175</td>\n",
       "    </tr>\n",
       "    <tr>\n",
       "      <th>2022-11-01</th>\n",
       "      <td>12592</td>\n",
       "      <td>2495</td>\n",
       "      <td>612</td>\n",
       "      <td>563</td>\n",
       "      <td>8125.0</td>\n",
       "      <td>3289</td>\n",
       "    </tr>\n",
       "    <tr>\n",
       "      <th>2022-12-01</th>\n",
       "      <td>24533</td>\n",
       "      <td>1178</td>\n",
       "      <td>51</td>\n",
       "      <td>9590</td>\n",
       "      <td>14690.0</td>\n",
       "      <td>3103</td>\n",
       "    </tr>\n",
       "  </tbody>\n",
       "</table>\n",
       "<p>108 rows × 6 columns</p>\n",
       "</div>"
      ],
      "text/plain": [
       "              생산량    갈치  참조기    수입       수출  가격 (원)\n",
       "date                                               \n",
       "2014-01-01   5663  2805    3  3476   4840.0    3422\n",
       "2014-02-01   3565  1436    1  1101   3402.0    4073\n",
       "2014-03-01   2620  2740    1  2011   2033.0    3891\n",
       "2014-04-01   1525  2894    6  2454   2122.0    4259\n",
       "2014-05-01    412   908    3  1995    755.0    3512\n",
       "...           ...   ...  ...   ...      ...     ...\n",
       "2022-08-01   3900   682   28  2056    613.0    3543\n",
       "2022-09-01   5494  1809   10  2194   1996.0    3333\n",
       "2022-10-01   5339   987  239   679   6242.0    3175\n",
       "2022-11-01  12592  2495  612   563   8125.0    3289\n",
       "2022-12-01  24533  1178   51  9590  14690.0    3103\n",
       "\n",
       "[108 rows x 6 columns]"
      ]
     },
     "execution_count": 2377,
     "metadata": {},
     "output_type": "execute_result"
    }
   ],
   "source": [
    "# mackerel=pd.read_csv('../data/merge/mackerel_price.csv')\n",
    "mackerel=pd.read_csv('../data/merge/mackerel_price_trade.csv')\n",
    "\n",
    "# '%Y-%m' 형식으로 변환\n",
    "mackerel['date'] = pd.to_datetime(mackerel['date'], format='%Y-%m-%d')\n",
    "\n",
    "# 'date' 열을 인덱스로 설정\n",
    "mackerel.set_index('date', inplace=True)\n",
    "mackerel=mackerel[['생산량','갈치','참조기','수입','수출','가격 (원)']]\n",
    "# mackerel=mackerel[[,'생산량','가격 (원)']]\n",
    "mackerel.info()\n",
    "mackerel"
   ]
  },
  {
   "cell_type": "code",
   "execution_count": 2378,
   "metadata": {},
   "outputs": [
    {
     "name": "stdout",
     "output_type": "stream",
     "text": [
      "(96, 6) (15, 6)\n"
     ]
    }
   ],
   "source": [
    "seq_length=3 # 3~7사이 값 설정\n",
    "train_size = int(len(mackerel)-12)\n",
    "train_set=mackerel[0:train_size]\n",
    "test_set=mackerel[train_size-seq_length:]\n",
    "print(train_set.shape,test_set.shape)\n"
   ]
  },
  {
   "cell_type": "code",
   "execution_count": 2379,
   "metadata": {},
   "outputs": [
    {
     "data": {
      "text/html": [
       "<div>\n",
       "<style scoped>\n",
       "    .dataframe tbody tr th:only-of-type {\n",
       "        vertical-align: middle;\n",
       "    }\n",
       "\n",
       "    .dataframe tbody tr th {\n",
       "        vertical-align: top;\n",
       "    }\n",
       "\n",
       "    .dataframe thead th {\n",
       "        text-align: right;\n",
       "    }\n",
       "</style>\n",
       "<table border=\"1\" class=\"dataframe\">\n",
       "  <thead>\n",
       "    <tr style=\"text-align: right;\">\n",
       "      <th></th>\n",
       "      <th>생산량</th>\n",
       "      <th>갈치</th>\n",
       "      <th>참조기</th>\n",
       "      <th>수입</th>\n",
       "      <th>수출</th>\n",
       "      <th>가격 (원)</th>\n",
       "    </tr>\n",
       "    <tr>\n",
       "      <th>date</th>\n",
       "      <th></th>\n",
       "      <th></th>\n",
       "      <th></th>\n",
       "      <th></th>\n",
       "      <th></th>\n",
       "      <th></th>\n",
       "    </tr>\n",
       "  </thead>\n",
       "  <tbody>\n",
       "    <tr>\n",
       "      <th>2014-01-01</th>\n",
       "      <td>5663</td>\n",
       "      <td>2805</td>\n",
       "      <td>3</td>\n",
       "      <td>3476</td>\n",
       "      <td>4840.0</td>\n",
       "      <td>3422</td>\n",
       "    </tr>\n",
       "    <tr>\n",
       "      <th>2014-02-01</th>\n",
       "      <td>3565</td>\n",
       "      <td>1436</td>\n",
       "      <td>1</td>\n",
       "      <td>1101</td>\n",
       "      <td>3402.0</td>\n",
       "      <td>4073</td>\n",
       "    </tr>\n",
       "    <tr>\n",
       "      <th>2014-03-01</th>\n",
       "      <td>2620</td>\n",
       "      <td>2740</td>\n",
       "      <td>1</td>\n",
       "      <td>2011</td>\n",
       "      <td>2033.0</td>\n",
       "      <td>3891</td>\n",
       "    </tr>\n",
       "    <tr>\n",
       "      <th>2014-04-01</th>\n",
       "      <td>1525</td>\n",
       "      <td>2894</td>\n",
       "      <td>6</td>\n",
       "      <td>2454</td>\n",
       "      <td>2122.0</td>\n",
       "      <td>4259</td>\n",
       "    </tr>\n",
       "    <tr>\n",
       "      <th>2014-05-01</th>\n",
       "      <td>412</td>\n",
       "      <td>908</td>\n",
       "      <td>3</td>\n",
       "      <td>1995</td>\n",
       "      <td>755.0</td>\n",
       "      <td>3512</td>\n",
       "    </tr>\n",
       "  </tbody>\n",
       "</table>\n",
       "</div>"
      ],
      "text/plain": [
       "             생산량    갈치  참조기    수입      수출  가격 (원)\n",
       "date                                             \n",
       "2014-01-01  5663  2805    3  3476  4840.0    3422\n",
       "2014-02-01  3565  1436    1  1101  3402.0    4073\n",
       "2014-03-01  2620  2740    1  2011  2033.0    3891\n",
       "2014-04-01  1525  2894    6  2454  2122.0    4259\n",
       "2014-05-01   412   908    3  1995   755.0    3512"
      ]
     },
     "execution_count": 2379,
     "metadata": {},
     "output_type": "execute_result"
    }
   ],
   "source": [
    "train_set.head()"
   ]
  },
  {
   "cell_type": "code",
   "execution_count": 2380,
   "metadata": {},
   "outputs": [],
   "source": [
    "#input scale\n",
    "scaler_x=MinMaxScaler()\n",
    "scaler_x.fit(train_set.iloc[:, :-1])\n",
    "\n",
    "train_set.iloc[:, :-1]=scaler_x.transform(train_set.iloc[:, :-1])\n",
    "test_set.iloc[:, :-1]=scaler_x.transform(test_set.iloc[:, :-1])\n",
    "\n",
    "# output scale\n",
    "scaler_y=MinMaxScaler()\n",
    "scaler_y.fit(train_set.iloc[:,[-1]])\n",
    "train_set.iloc[:, -1]=scaler_y.transform(train_set.iloc[:,[-1]])\n",
    "test_set.iloc[:, -1]=scaler_y.transform(test_set.iloc[:,[-1]])"
   ]
  },
  {
   "cell_type": "code",
   "execution_count": 2381,
   "metadata": {},
   "outputs": [
    {
     "data": {
      "text/html": [
       "<div>\n",
       "<style scoped>\n",
       "    .dataframe tbody tr th:only-of-type {\n",
       "        vertical-align: middle;\n",
       "    }\n",
       "\n",
       "    .dataframe tbody tr th {\n",
       "        vertical-align: top;\n",
       "    }\n",
       "\n",
       "    .dataframe thead th {\n",
       "        text-align: right;\n",
       "    }\n",
       "</style>\n",
       "<table border=\"1\" class=\"dataframe\">\n",
       "  <thead>\n",
       "    <tr style=\"text-align: right;\">\n",
       "      <th></th>\n",
       "      <th>생산량</th>\n",
       "      <th>갈치</th>\n",
       "      <th>참조기</th>\n",
       "      <th>수입</th>\n",
       "      <th>수출</th>\n",
       "      <th>가격 (원)</th>\n",
       "    </tr>\n",
       "    <tr>\n",
       "      <th>date</th>\n",
       "      <th></th>\n",
       "      <th></th>\n",
       "      <th></th>\n",
       "      <th></th>\n",
       "      <th></th>\n",
       "      <th></th>\n",
       "    </tr>\n",
       "  </thead>\n",
       "  <tbody>\n",
       "    <tr>\n",
       "      <th>2021-10-01</th>\n",
       "      <td>0.348104</td>\n",
       "      <td>0.316959</td>\n",
       "      <td>0.323162</td>\n",
       "      <td>0.036125</td>\n",
       "      <td>-0.011249</td>\n",
       "      <td>0.429224</td>\n",
       "    </tr>\n",
       "    <tr>\n",
       "      <th>2021-11-01</th>\n",
       "      <td>0.493993</td>\n",
       "      <td>0.491581</td>\n",
       "      <td>0.876560</td>\n",
       "      <td>0.098553</td>\n",
       "      <td>-0.011249</td>\n",
       "      <td>0.463318</td>\n",
       "    </tr>\n",
       "    <tr>\n",
       "      <th>2021-12-01</th>\n",
       "      <td>0.812506</td>\n",
       "      <td>0.530463</td>\n",
       "      <td>0.428571</td>\n",
       "      <td>0.839544</td>\n",
       "      <td>-0.011235</td>\n",
       "      <td>0.407002</td>\n",
       "    </tr>\n",
       "    <tr>\n",
       "      <th>2022-01-01</th>\n",
       "      <td>0.408929</td>\n",
       "      <td>0.353411</td>\n",
       "      <td>0.023578</td>\n",
       "      <td>0.867690</td>\n",
       "      <td>0.863961</td>\n",
       "      <td>0.511111</td>\n",
       "    </tr>\n",
       "    <tr>\n",
       "      <th>2022-02-01</th>\n",
       "      <td>0.065691</td>\n",
       "      <td>0.177226</td>\n",
       "      <td>0.004161</td>\n",
       "      <td>0.746076</td>\n",
       "      <td>0.639871</td>\n",
       "      <td>0.592694</td>\n",
       "    </tr>\n",
       "    <tr>\n",
       "      <th>2022-03-01</th>\n",
       "      <td>0.101518</td>\n",
       "      <td>0.342822</td>\n",
       "      <td>0.012483</td>\n",
       "      <td>0.679000</td>\n",
       "      <td>0.486506</td>\n",
       "      <td>0.595129</td>\n",
       "    </tr>\n",
       "    <tr>\n",
       "      <th>2022-04-01</th>\n",
       "      <td>0.004531</td>\n",
       "      <td>0.224440</td>\n",
       "      <td>0.004161</td>\n",
       "      <td>0.069619</td>\n",
       "      <td>0.165862</td>\n",
       "      <td>0.683714</td>\n",
       "    </tr>\n",
       "    <tr>\n",
       "      <th>2022-05-01</th>\n",
       "      <td>0.006995</td>\n",
       "      <td>0.024996</td>\n",
       "      <td>0.006935</td>\n",
       "      <td>0.312407</td>\n",
       "      <td>0.278905</td>\n",
       "      <td>0.790563</td>\n",
       "    </tr>\n",
       "    <tr>\n",
       "      <th>2022-06-01</th>\n",
       "      <td>0.017731</td>\n",
       "      <td>0.063531</td>\n",
       "      <td>0.004161</td>\n",
       "      <td>0.222885</td>\n",
       "      <td>0.176618</td>\n",
       "      <td>0.833486</td>\n",
       "    </tr>\n",
       "    <tr>\n",
       "      <th>2022-07-01</th>\n",
       "      <td>0.076184</td>\n",
       "      <td>0.074987</td>\n",
       "      <td>0.006935</td>\n",
       "      <td>0.307760</td>\n",
       "      <td>0.166312</td>\n",
       "      <td>0.619787</td>\n",
       "    </tr>\n",
       "    <tr>\n",
       "      <th>2022-08-01</th>\n",
       "      <td>0.118549</td>\n",
       "      <td>0.112480</td>\n",
       "      <td>0.038835</td>\n",
       "      <td>0.158702</td>\n",
       "      <td>0.028213</td>\n",
       "      <td>0.500152</td>\n",
       "    </tr>\n",
       "    <tr>\n",
       "      <th>2022-09-01</th>\n",
       "      <td>0.167027</td>\n",
       "      <td>0.308106</td>\n",
       "      <td>0.013870</td>\n",
       "      <td>0.170802</td>\n",
       "      <td>0.117295</td>\n",
       "      <td>0.436225</td>\n",
       "    </tr>\n",
       "    <tr>\n",
       "      <th>2022-10-01</th>\n",
       "      <td>0.162313</td>\n",
       "      <td>0.165423</td>\n",
       "      <td>0.331484</td>\n",
       "      <td>0.037966</td>\n",
       "      <td>0.390789</td>\n",
       "      <td>0.388128</td>\n",
       "    </tr>\n",
       "    <tr>\n",
       "      <th>2022-11-01</th>\n",
       "      <td>0.382896</td>\n",
       "      <td>0.427183</td>\n",
       "      <td>0.848821</td>\n",
       "      <td>0.027795</td>\n",
       "      <td>0.512077</td>\n",
       "      <td>0.422831</td>\n",
       "    </tr>\n",
       "    <tr>\n",
       "      <th>2022-12-01</th>\n",
       "      <td>0.746054</td>\n",
       "      <td>0.198577</td>\n",
       "      <td>0.070735</td>\n",
       "      <td>0.819290</td>\n",
       "      <td>0.934944</td>\n",
       "      <td>0.366210</td>\n",
       "    </tr>\n",
       "  </tbody>\n",
       "</table>\n",
       "</div>"
      ],
      "text/plain": [
       "                 생산량        갈치       참조기        수입        수출    가격 (원)\n",
       "date                                                                  \n",
       "2021-10-01  0.348104  0.316959  0.323162  0.036125 -0.011249  0.429224\n",
       "2021-11-01  0.493993  0.491581  0.876560  0.098553 -0.011249  0.463318\n",
       "2021-12-01  0.812506  0.530463  0.428571  0.839544 -0.011235  0.407002\n",
       "2022-01-01  0.408929  0.353411  0.023578  0.867690  0.863961  0.511111\n",
       "2022-02-01  0.065691  0.177226  0.004161  0.746076  0.639871  0.592694\n",
       "2022-03-01  0.101518  0.342822  0.012483  0.679000  0.486506  0.595129\n",
       "2022-04-01  0.004531  0.224440  0.004161  0.069619  0.165862  0.683714\n",
       "2022-05-01  0.006995  0.024996  0.006935  0.312407  0.278905  0.790563\n",
       "2022-06-01  0.017731  0.063531  0.004161  0.222885  0.176618  0.833486\n",
       "2022-07-01  0.076184  0.074987  0.006935  0.307760  0.166312  0.619787\n",
       "2022-08-01  0.118549  0.112480  0.038835  0.158702  0.028213  0.500152\n",
       "2022-09-01  0.167027  0.308106  0.013870  0.170802  0.117295  0.436225\n",
       "2022-10-01  0.162313  0.165423  0.331484  0.037966  0.390789  0.388128\n",
       "2022-11-01  0.382896  0.427183  0.848821  0.027795  0.512077  0.422831\n",
       "2022-12-01  0.746054  0.198577  0.070735  0.819290  0.934944  0.366210"
      ]
     },
     "execution_count": 2381,
     "metadata": {},
     "output_type": "execute_result"
    }
   ],
   "source": [
    "test_set[:]"
   ]
  },
  {
   "cell_type": "code",
   "execution_count": 2382,
   "metadata": {},
   "outputs": [],
   "source": [
    "import torch\n",
    "import torch.nn as nn\n",
    "import torch.functional as F\n",
    "import torch.optim as optim\n",
    "from torch.utils.data import TensorDataset # 텐서데이터셋\n",
    "from torch.utils.data import DataLoader # 데이터로더\n",
    "import numpy as np"
   ]
  },
  {
   "cell_type": "code",
   "execution_count": 2383,
   "metadata": {},
   "outputs": [],
   "source": [
    "device = torch.device('cuda:0' if torch.cuda.is_available() else 'cpu')\n",
    "torch.manual_seed(125)\n",
    "if torch.cuda.is_available() :\n",
    "    torch.cuda.manual_seed_all(125)"
   ]
  },
  {
   "cell_type": "code",
   "execution_count": 2384,
   "metadata": {},
   "outputs": [],
   "source": [
    "def build_dataset(time_series, seq_length):\n",
    "    dataX=[]\n",
    "    dataY=[]\n",
    "    for i in range(0, len(time_series)-seq_length):\n",
    "        x_=time_series[i:i+seq_length, :]\n",
    "        y_=time_series[i+seq_length,[5]]\n",
    "        dataX.append(x_)\n",
    "        dataY.append(y_)\n",
    "    return np.array(dataX), np.array(dataY)"
   ]
  },
  {
   "cell_type": "code",
   "execution_count": 2385,
   "metadata": {},
   "outputs": [
    {
     "name": "stdout",
     "output_type": "stream",
     "text": [
      "(93, 3, 6) (93, 1)\n",
      "(12, 3, 6) (12, 1)\n"
     ]
    }
   ],
   "source": [
    "trainX, trainY=build_dataset(np.array(train_set), seq_length)\n",
    "testX, testY=build_dataset(np.array(test_set),seq_length)\n",
    "\n",
    "print(trainX.shape, trainY.shape)\n",
    "print(testX.shape, testY.shape)"
   ]
  },
  {
   "cell_type": "code",
   "execution_count": 2386,
   "metadata": {},
   "outputs": [
    {
     "name": "stdout",
     "output_type": "stream",
     "text": [
      "torch.Size([93, 3, 6]) torch.Size([93, 1])\n",
      "torch.Size([12, 3, 6]) torch.Size([12, 1])\n"
     ]
    }
   ],
   "source": [
    "trainX_tensor=torch.FloatTensor(trainX)\n",
    "trainY_tensor=torch.FloatTensor(trainY)\n",
    "testX_tensor=torch.FloatTensor(testX)\n",
    "testY_tensor=torch.FloatTensor(testY)\n",
    "\n",
    "print(trainX_tensor.size(), trainY_tensor.size())\n",
    "print(testX_tensor.size(), testY_tensor.size())"
   ]
  },
  {
   "cell_type": "code",
   "execution_count": 2387,
   "metadata": {},
   "outputs": [],
   "source": [
    "train_dataset=TensorDataset(trainX_tensor, trainY_tensor)\n",
    "train_loader=DataLoader(train_dataset, shuffle=True,\n",
    "                        drop_last=True)"
   ]
  },
  {
   "cell_type": "code",
   "execution_count": 2388,
   "metadata": {},
   "outputs": [],
   "source": [
    "# 수정 필요\n",
    "\n",
    "data_dim=6\n",
    "hidden_dim=12\n",
    "output_dim=1\n",
    "learning_late=0.01\n",
    "epochs=1000"
   ]
  },
  {
   "cell_type": "code",
   "execution_count": 2389,
   "metadata": {},
   "outputs": [],
   "source": [
    "class Net(nn.Module):\n",
    "  def __init__(self, input_dim, hidden_dim, seq_length, output_dim, layers):\n",
    "    super(Net, self).__init__()\n",
    "    self.hidden_dim=hidden_dim\n",
    "    self.seq_length=seq_length\n",
    "    self.output_dim=output_dim\n",
    "    self.layers=layers\n",
    "\n",
    "    self.lstm=nn.LSTM(input_dim, \n",
    "                      hidden_dim, \n",
    "                      num_layers=layers,\n",
    "                      batch_first=True)\n",
    "    self.fc=nn.Linear(hidden_dim, output_dim, bias=True)\n",
    "\n",
    "  def reset_hidden_state(self):\n",
    "    self.hidden=(\n",
    "      torch.zeros(self.layers, self.seq_length, self.hidden_dim),\n",
    "      torch.zeros(self.layers, self.seq_length, self.hidden_dim)\n",
    "    )\n",
    "  def forward(self, x):\n",
    "    x, _status=self.lstm(x)\n",
    "    x=self.fc(x[:, -1])\n",
    "    return x"
   ]
  },
  {
   "cell_type": "code",
   "execution_count": 2390,
   "metadata": {},
   "outputs": [],
   "source": [
    "def train_model(model, train_df, epochs=None, lr=None, verbos=10, patience=10):\n",
    "  criterion=nn.MSELoss().to(device)\n",
    "  optimizer=optim.Adam(model.parameters(),lr=learning_late)\n",
    "  n_epochs=epochs\n",
    "\n",
    "  train_hist=np.zeros(n_epochs)\n",
    "  for epoch in range(n_epochs):\n",
    "    avg_cost=0\n",
    "    total_batch=len(train_df)\n",
    "\n",
    "    for batch_idxm, sample in enumerate(train_df):\n",
    "      x_train, y_train=sample\n",
    "      model.reset_hidden_state()\n",
    "      output=model(x_train)\n",
    "      loss=criterion(output, y_train)\n",
    "      optimizer.zero_grad()\n",
    "      loss.backward()\n",
    "      optimizer.step()\n",
    "      avg_cost+=loss/total_batch\n",
    "    \n",
    "    train_hist[epoch]=avg_cost\n",
    "\n",
    "    if epoch % verbos==0:\n",
    "      print('Epoch:{}, train_loss:{}'.format(epoch, avg_cost.item()))\n",
    "\n",
    "    if(epoch % patience==0) & (epoch!=0):\n",
    "      if train_hist[epoch-patience] < train_hist[epoch]:\n",
    "        print(\"Early Stopping\")\n",
    "        break\n",
    "  return model.eval(), train_hist\n",
    "\n",
    "# best loss / model 추가"
   ]
  },
  {
   "cell_type": "code",
   "execution_count": 2391,
   "metadata": {},
   "outputs": [],
   "source": [
    "# net=Net(data_dim, hidden_dim, seq_length, output_dim, 1)\n",
    "# model, train_hist=train_model(net, train_loader, epochs=epochs,\n",
    "#                               lr=learning_late, verbos=20, patience=100)"
   ]
  },
  {
   "cell_type": "code",
   "execution_count": 2392,
   "metadata": {},
   "outputs": [],
   "source": [
    "# path=\"../model/price_수입_수출_갈치.pth\"\n",
    "# torch.save(model.state_dict(), path)"
   ]
  },
  {
   "cell_type": "code",
   "execution_count": 2393,
   "metadata": {},
   "outputs": [
    {
     "data": {
      "image/png": "[encoded data removed]",
      "text/plain": [
       "<Figure size 1000x600 with 1 Axes>"
      ]
     },
     "metadata": {},
     "output_type": "display_data"
    }
   ],
   "source": [
    "fig=plt.figure(figsize=(10, 6))\n",
    "plt.plot(train_hist, label='Training loss')\n",
    "plt.legend()\n",
    "plt.show()"
   ]
  },
  {
   "cell_type": "code",
   "execution_count": 2394,
   "metadata": {},
   "outputs": [
    {
     "name": "stdout",
     "output_type": "stream",
     "text": [
      "MAe SCORE: 213.71602077037096\n"
     ]
    }
   ],
   "source": [
    "with torch.no_grad():\n",
    "    pred=[]\n",
    "    for pr in range(len(testX_tensor)):\n",
    "        model.reset_hidden_state()\n",
    "        predicted=model(torch.unsqueeze(testX_tensor[pr],0))\n",
    "        predicted=torch.flatten(predicted).item()\n",
    "        pred.append(predicted)\n",
    "\n",
    "    pred_inverse=scaler_y.inverse_transform(np.array(pred).reshape(-1, 1))\n",
    "    testY_inverse=scaler_y.inverse_transform(testY_tensor)\n",
    "\n",
    "def MAE(true, pred):\n",
    "    return np.mean(np.abs(true-pred))\n",
    "\n",
    "\n",
    "print('MAe SCORE:', MAE(pred_inverse, testY_inverse))"
   ]
  },
  {
   "cell_type": "code",
   "execution_count": 2395,
   "metadata": {},
   "outputs": [
    {
     "data": {
      "text/plain": [
       "DatetimeIndex(['2022-01-01', '2022-02-01', '2022-03-01', '2022-04-01',\n",
       "               '2022-05-01', '2022-06-01', '2022-07-01', '2022-08-01',\n",
       "               '2022-09-01', '2022-10-01', '2022-11-01', '2022-12-01'],\n",
       "              dtype='datetime64[ns]', name='date', freq=None)"
      ]
     },
     "execution_count": 2395,
     "metadata": {},
     "output_type": "execute_result"
    }
   ],
   "source": [
    "test_set.index[seq_length:]"
   ]
  },
  {
   "cell_type": "code",
   "execution_count": 2396,
   "metadata": {},
   "outputs": [],
   "source": [
    "date=['2023-01','2023-02', '2023-03', '2023-04',\n",
    "    '2023-05', '2023-06', '2023-07', '2023-08',\n",
    "    '2023-09', '2023-10', '2023-11', '2023-12']"
   ]
  },
  {
   "cell_type": "code",
   "execution_count": 2397,
   "metadata": {},
   "outputs": [
    {
     "data": {
      "image/png": "[encoded data removed]",
      "text/plain": [
       "<Figure size 1600x600 with 1 Axes>"
      ]
     },
     "metadata": {},
     "output_type": "display_data"
    }
   ],
   "source": [
    "fig=plt.figure(figsize=(16,6))\n",
    "plt.title('생산량 및 수입량에 따른 고등어 가격 예측')\n",
    "plt.plot(np.arange(len(pred_inverse)), pred_inverse, label='pred')\n",
    "plt.plot(np.arange(len(testY_inverse)), testY_inverse, label='true')\n",
    "plt.xlabel('년도')\n",
    "plt.ylabel('가격 (원)')\n",
    "\n",
    "plt.xticks(np.arange(len(pred_inverse)),date)\n",
    "plt.legend()\n",
    "plt.show()"
   ]
  },
  {
   "cell_type": "code",
   "execution_count": 2398,
   "metadata": {},
   "outputs": [
    {
     "data": {
      "text/plain": [
       "array([[3684.97791827],\n",
       "       [3928.15681517],\n",
       "       [3766.33666962],\n",
       "       [3668.32149684],\n",
       "       [3928.32559586],\n",
       "       [4552.68646598],\n",
       "       [3384.95987415],\n",
       "       [3289.72194642],\n",
       "       [3388.16357434],\n",
       "       [3351.17338806],\n",
       "       [3266.71431959],\n",
       "       [3202.18684018]])"
      ]
     },
     "execution_count": 2398,
     "metadata": {},
     "output_type": "execute_result"
    }
   ],
   "source": [
    "pred_inverse"
   ]
  }
 ],
 "metadata": {
  "kernelspec": {
   "display_name": "Python 3",
   "language": "python",
   "name": "python3"
  },
  "language_info": {
   "codemirror_mode": {
    "name": "ipython",
    "version": 3
   },
   "file_extension": ".py",
   "mimetype": "text/x-python",
   "name": "python",
   "nbconvert_exporter": "python",
   "pygments_lexer": "ipython3",
   "version": "3.11.7"
  }
 },
 "nbformat": 4,
 "nbformat_minor": 2
}
