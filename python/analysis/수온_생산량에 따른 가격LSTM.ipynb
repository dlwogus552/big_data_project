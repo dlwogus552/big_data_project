{
 "cells": [
  {
   "cell_type": "code",
   "execution_count": 113,
   "metadata": {},
   "outputs": [],
   "source": [
    "import pandas as pd\n",
    "import random\n",
    "import matplotlib.pyplot as plt\n",
    "from sklearn.preprocessing import MinMaxScaler"
   ]
  },
  {
   "cell_type": "code",
   "execution_count": 114,
   "metadata": {},
   "outputs": [],
   "source": [
    "#한글 깨짐 방지\n",
    "from matplotlib import rc, font_manager\n",
    "font_path='../data/fonts/malgun.ttf'\n",
    "font_name=font_manager.FontProperties(fname=font_path).get_name()\n",
    "rc('font',family=font_name)\n",
    "#마이너스 깨짐 방지\n",
    "plt.rcParams['axes.unicode_minus']=False"
   ]
  },
  {
   "cell_type": "code",
   "execution_count": 136,
   "metadata": {},
   "outputs": [
    {
     "name": "stdout",
     "output_type": "stream",
     "text": [
      "<class 'pandas.core.frame.DataFrame'>\n",
      "DatetimeIndex: 108 entries, 2014-01-01 to 2022-12-01\n",
      "Data columns (total 3 columns):\n",
      " #   Column  Non-Null Count  Dtype\n",
      "---  ------  --------------  -----\n",
      " 0   생산량     108 non-null    int64\n",
      " 1   수입      108 non-null    int64\n",
      " 2   가격 (원)  108 non-null    int64\n",
      "dtypes: int64(3)\n",
      "memory usage: 3.4 KB\n"
     ]
    },
    {
     "data": {
      "text/html": [
       "<div>\n",
       "<style scoped>\n",
       "    .dataframe tbody tr th:only-of-type {\n",
       "        vertical-align: middle;\n",
       "    }\n",
       "\n",
       "    .dataframe tbody tr th {\n",
       "        vertical-align: top;\n",
       "    }\n",
       "\n",
       "    .dataframe thead th {\n",
       "        text-align: right;\n",
       "    }\n",
       "</style>\n",
       "<table border=\"1\" class=\"dataframe\">\n",
       "  <thead>\n",
       "    <tr style=\"text-align: right;\">\n",
       "      <th></th>\n",
       "      <th>생산량</th>\n",
       "      <th>수입</th>\n",
       "      <th>가격 (원)</th>\n",
       "    </tr>\n",
       "    <tr>\n",
       "      <th>date</th>\n",
       "      <th></th>\n",
       "      <th></th>\n",
       "      <th></th>\n",
       "    </tr>\n",
       "  </thead>\n",
       "  <tbody>\n",
       "    <tr>\n",
       "      <th>2014-01-01</th>\n",
       "      <td>5663</td>\n",
       "      <td>3476</td>\n",
       "      <td>3422</td>\n",
       "    </tr>\n",
       "    <tr>\n",
       "      <th>2014-02-01</th>\n",
       "      <td>3565</td>\n",
       "      <td>1101</td>\n",
       "      <td>4073</td>\n",
       "    </tr>\n",
       "    <tr>\n",
       "      <th>2014-03-01</th>\n",
       "      <td>2620</td>\n",
       "      <td>2011</td>\n",
       "      <td>3891</td>\n",
       "    </tr>\n",
       "    <tr>\n",
       "      <th>2014-04-01</th>\n",
       "      <td>1525</td>\n",
       "      <td>2454</td>\n",
       "      <td>4259</td>\n",
       "    </tr>\n",
       "    <tr>\n",
       "      <th>2014-05-01</th>\n",
       "      <td>412</td>\n",
       "      <td>1995</td>\n",
       "      <td>3512</td>\n",
       "    </tr>\n",
       "    <tr>\n",
       "      <th>...</th>\n",
       "      <td>...</td>\n",
       "      <td>...</td>\n",
       "      <td>...</td>\n",
       "    </tr>\n",
       "    <tr>\n",
       "      <th>2022-08-01</th>\n",
       "      <td>3900</td>\n",
       "      <td>2056</td>\n",
       "      <td>3543</td>\n",
       "    </tr>\n",
       "    <tr>\n",
       "      <th>2022-09-01</th>\n",
       "      <td>5494</td>\n",
       "      <td>2194</td>\n",
       "      <td>2733</td>\n",
       "    </tr>\n",
       "    <tr>\n",
       "      <th>2022-10-01</th>\n",
       "      <td>5339</td>\n",
       "      <td>679</td>\n",
       "      <td>2875</td>\n",
       "    </tr>\n",
       "    <tr>\n",
       "      <th>2022-11-01</th>\n",
       "      <td>24533</td>\n",
       "      <td>563</td>\n",
       "      <td>2989</td>\n",
       "    </tr>\n",
       "    <tr>\n",
       "      <th>2022-12-01</th>\n",
       "      <td>16592</td>\n",
       "      <td>9590</td>\n",
       "      <td>3103</td>\n",
       "    </tr>\n",
       "  </tbody>\n",
       "</table>\n",
       "<p>108 rows × 3 columns</p>\n",
       "</div>"
      ],
      "text/plain": [
       "              생산량    수입  가격 (원)\n",
       "date                           \n",
       "2014-01-01   5663  3476    3422\n",
       "2014-02-01   3565  1101    4073\n",
       "2014-03-01   2620  2011    3891\n",
       "2014-04-01   1525  2454    4259\n",
       "2014-05-01    412  1995    3512\n",
       "...           ...   ...     ...\n",
       "2022-08-01   3900  2056    3543\n",
       "2022-09-01   5494  2194    2733\n",
       "2022-10-01   5339   679    2875\n",
       "2022-11-01  24533   563    2989\n",
       "2022-12-01  16592  9590    3103\n",
       "\n",
       "[108 rows x 3 columns]"
      ]
     },
     "execution_count": 136,
     "metadata": {},
     "output_type": "execute_result"
    }
   ],
   "source": [
    "# mackerel=pd.read_csv('../data/merge/mackerel_price.csv',encoding='cp949')\n",
    "mackerel=pd.read_csv('../data/merge/mackerel_price_trade.csv')\n",
    "\n",
    "# '%Y-%m' 형식으로 변환\n",
    "mackerel['date'] = pd.to_datetime(mackerel['date'], format='%Y-%m-%d')\n",
    "\n",
    "# 'date' 열을 인덱스로 설정\n",
    "mackerel.set_index('date', inplace=True)\n",
    "mackerel=mackerel[['생산량','수입','수출','가격 (원)']]\n",
    "# mackerel=mackerel[[,'생산량','가격 (원)']]\n",
    "mackerel.info()\n",
    "mackerel"
   ]
  },
  {
   "cell_type": "code",
   "execution_count": 116,
   "metadata": {},
   "outputs": [
    {
     "name": "stdout",
     "output_type": "stream",
     "text": [
      "(97, 3) (14, 3)\n"
     ]
    }
   ],
   "source": [
    "seq_length=3 # 3~7사이 값 설정\n",
    "train_size = int(len(mackerel)*0.9)\n",
    "train_set=mackerel[0:train_size]\n",
    "test_set=mackerel[train_size-seq_length:]\n",
    "print(train_set.shape,test_set.shape)\n"
   ]
  },
  {
   "cell_type": "code",
   "execution_count": 117,
   "metadata": {},
   "outputs": [
    {
     "data": {
      "text/html": [
       "<div>\n",
       "<style scoped>\n",
       "    .dataframe tbody tr th:only-of-type {\n",
       "        vertical-align: middle;\n",
       "    }\n",
       "\n",
       "    .dataframe tbody tr th {\n",
       "        vertical-align: top;\n",
       "    }\n",
       "\n",
       "    .dataframe thead th {\n",
       "        text-align: right;\n",
       "    }\n",
       "</style>\n",
       "<table border=\"1\" class=\"dataframe\">\n",
       "  <thead>\n",
       "    <tr style=\"text-align: right;\">\n",
       "      <th></th>\n",
       "      <th>생산량</th>\n",
       "      <th>참조기</th>\n",
       "      <th>가격 (원)</th>\n",
       "    </tr>\n",
       "    <tr>\n",
       "      <th>date</th>\n",
       "      <th></th>\n",
       "      <th></th>\n",
       "      <th></th>\n",
       "    </tr>\n",
       "  </thead>\n",
       "  <tbody>\n",
       "    <tr>\n",
       "      <th>2014-01-01</th>\n",
       "      <td>5663</td>\n",
       "      <td>3</td>\n",
       "      <td>3422</td>\n",
       "    </tr>\n",
       "    <tr>\n",
       "      <th>2014-02-01</th>\n",
       "      <td>3565</td>\n",
       "      <td>1</td>\n",
       "      <td>4073</td>\n",
       "    </tr>\n",
       "    <tr>\n",
       "      <th>2014-03-01</th>\n",
       "      <td>2620</td>\n",
       "      <td>1</td>\n",
       "      <td>3891</td>\n",
       "    </tr>\n",
       "    <tr>\n",
       "      <th>2014-04-01</th>\n",
       "      <td>1525</td>\n",
       "      <td>6</td>\n",
       "      <td>4259</td>\n",
       "    </tr>\n",
       "    <tr>\n",
       "      <th>2014-05-01</th>\n",
       "      <td>412</td>\n",
       "      <td>3</td>\n",
       "      <td>3512</td>\n",
       "    </tr>\n",
       "  </tbody>\n",
       "</table>\n",
       "</div>"
      ],
      "text/plain": [
       "             생산량  참조기  가격 (원)\n",
       "date                         \n",
       "2014-01-01  5663    3    3422\n",
       "2014-02-01  3565    1    4073\n",
       "2014-03-01  2620    1    3891\n",
       "2014-04-01  1525    6    4259\n",
       "2014-05-01   412    3    3512"
      ]
     },
     "execution_count": 117,
     "metadata": {},
     "output_type": "execute_result"
    }
   ],
   "source": [
    "train_set.head()"
   ]
  },
  {
   "cell_type": "code",
   "execution_count": 118,
   "metadata": {},
   "outputs": [],
   "source": [
    "#input scale\n",
    "scaler_x=MinMaxScaler()\n",
    "scaler_x.fit(train_set.iloc[:, :-1])\n",
    "\n",
    "train_set.iloc[:, :-1]=scaler_x.transform(train_set.iloc[:, :-1])\n",
    "test_set.iloc[:, :-1]=scaler_x.transform(test_set.iloc[:, :-1])\n",
    "\n",
    "# output scale\n",
    "scaler_y=MinMaxScaler()\n",
    "scaler_y.fit(train_set.iloc[:,[-1]])\n",
    "train_set.iloc[:, -1]=scaler_y.transform(train_set.iloc[:,[-1]])\n",
    "test_set.iloc[:, -1]=scaler_y.transform(test_set.iloc[:,[-1]])"
   ]
  },
  {
   "cell_type": "code",
   "execution_count": 119,
   "metadata": {},
   "outputs": [
    {
     "data": {
      "text/html": [
       "<div>\n",
       "<style scoped>\n",
       "    .dataframe tbody tr th:only-of-type {\n",
       "        vertical-align: middle;\n",
       "    }\n",
       "\n",
       "    .dataframe tbody tr th {\n",
       "        vertical-align: top;\n",
       "    }\n",
       "\n",
       "    .dataframe thead th {\n",
       "        text-align: right;\n",
       "    }\n",
       "</style>\n",
       "<table border=\"1\" class=\"dataframe\">\n",
       "  <thead>\n",
       "    <tr style=\"text-align: right;\">\n",
       "      <th></th>\n",
       "      <th>생산량</th>\n",
       "      <th>참조기</th>\n",
       "      <th>가격 (원)</th>\n",
       "    </tr>\n",
       "    <tr>\n",
       "      <th>date</th>\n",
       "      <th></th>\n",
       "      <th></th>\n",
       "      <th></th>\n",
       "    </tr>\n",
       "  </thead>\n",
       "  <tbody>\n",
       "    <tr>\n",
       "      <th>2021-11-01</th>\n",
       "      <td>0.493993</td>\n",
       "      <td>0.876560</td>\n",
       "      <td>0.463318</td>\n",
       "    </tr>\n",
       "    <tr>\n",
       "      <th>2021-12-01</th>\n",
       "      <td>0.812506</td>\n",
       "      <td>0.428571</td>\n",
       "      <td>0.467884</td>\n",
       "    </tr>\n",
       "    <tr>\n",
       "      <th>2022-01-01</th>\n",
       "      <td>0.408929</td>\n",
       "      <td>0.023578</td>\n",
       "      <td>0.511111</td>\n",
       "    </tr>\n",
       "    <tr>\n",
       "      <th>2022-02-01</th>\n",
       "      <td>0.065691</td>\n",
       "      <td>0.004161</td>\n",
       "      <td>0.592694</td>\n",
       "    </tr>\n",
       "    <tr>\n",
       "      <th>2022-03-01</th>\n",
       "      <td>0.101518</td>\n",
       "      <td>0.005548</td>\n",
       "      <td>0.546423</td>\n",
       "    </tr>\n",
       "    <tr>\n",
       "      <th>2022-04-01</th>\n",
       "      <td>0.004531</td>\n",
       "      <td>0.000000</td>\n",
       "      <td>0.835921</td>\n",
       "    </tr>\n",
       "    <tr>\n",
       "      <th>2022-05-01</th>\n",
       "      <td>0.006995</td>\n",
       "      <td>0.006935</td>\n",
       "      <td>1.125419</td>\n",
       "    </tr>\n",
       "    <tr>\n",
       "      <th>2022-06-01</th>\n",
       "      <td>0.017731</td>\n",
       "      <td>0.004161</td>\n",
       "      <td>0.833486</td>\n",
       "    </tr>\n",
       "    <tr>\n",
       "      <th>2022-07-01</th>\n",
       "      <td>0.076184</td>\n",
       "      <td>0.006935</td>\n",
       "      <td>0.619787</td>\n",
       "    </tr>\n",
       "    <tr>\n",
       "      <th>2022-08-01</th>\n",
       "      <td>0.118549</td>\n",
       "      <td>0.038835</td>\n",
       "      <td>0.500152</td>\n",
       "    </tr>\n",
       "    <tr>\n",
       "      <th>2022-09-01</th>\n",
       "      <td>0.167027</td>\n",
       "      <td>0.013870</td>\n",
       "      <td>0.253577</td>\n",
       "    </tr>\n",
       "    <tr>\n",
       "      <th>2022-10-01</th>\n",
       "      <td>0.162313</td>\n",
       "      <td>0.331484</td>\n",
       "      <td>0.296804</td>\n",
       "    </tr>\n",
       "    <tr>\n",
       "      <th>2022-11-01</th>\n",
       "      <td>0.746054</td>\n",
       "      <td>0.848821</td>\n",
       "      <td>0.331507</td>\n",
       "    </tr>\n",
       "    <tr>\n",
       "      <th>2022-12-01</th>\n",
       "      <td>0.504547</td>\n",
       "      <td>0.070735</td>\n",
       "      <td>0.366210</td>\n",
       "    </tr>\n",
       "  </tbody>\n",
       "</table>\n",
       "</div>"
      ],
      "text/plain": [
       "                 생산량       참조기    가격 (원)\n",
       "date                                    \n",
       "2021-11-01  0.493993  0.876560  0.463318\n",
       "2021-12-01  0.812506  0.428571  0.467884\n",
       "2022-01-01  0.408929  0.023578  0.511111\n",
       "2022-02-01  0.065691  0.004161  0.592694\n",
       "2022-03-01  0.101518  0.005548  0.546423\n",
       "2022-04-01  0.004531  0.000000  0.835921\n",
       "2022-05-01  0.006995  0.006935  1.125419\n",
       "2022-06-01  0.017731  0.004161  0.833486\n",
       "2022-07-01  0.076184  0.006935  0.619787\n",
       "2022-08-01  0.118549  0.038835  0.500152\n",
       "2022-09-01  0.167027  0.013870  0.253577\n",
       "2022-10-01  0.162313  0.331484  0.296804\n",
       "2022-11-01  0.746054  0.848821  0.331507\n",
       "2022-12-01  0.504547  0.070735  0.366210"
      ]
     },
     "execution_count": 119,
     "metadata": {},
     "output_type": "execute_result"
    }
   ],
   "source": [
    "test_set[:]"
   ]
  },
  {
   "cell_type": "code",
   "execution_count": 120,
   "metadata": {},
   "outputs": [],
   "source": [
    "import torch\n",
    "import torch.nn as nn\n",
    "import torch.functional as F\n",
    "import torch.optim as optim\n",
    "from torch.utils.data import TensorDataset # 텐서데이터셋\n",
    "from torch.utils.data import DataLoader # 데이터로더\n",
    "import numpy as np"
   ]
  },
  {
   "cell_type": "code",
   "execution_count": 121,
   "metadata": {},
   "outputs": [],
   "source": [
    "device = torch.device('cuda:0' if torch.cuda.is_available() else 'cpu')\n",
    "torch.manual_seed(125)\n",
    "if torch.cuda.is_available() :\n",
    "    torch.cuda.manual_seed_all(125)"
   ]
  },
  {
   "cell_type": "code",
   "execution_count": 122,
   "metadata": {},
   "outputs": [],
   "source": [
    "def build_dataset(time_series, seq_length):\n",
    "    dataX=[]\n",
    "    dataY=[]\n",
    "    for i in range(0, len(time_series)-seq_length):\n",
    "        x_=time_series[i:i+seq_length, :]\n",
    "        y_=time_series[i+seq_length,[2]]\n",
    "        dataX.append(x_)\n",
    "        dataY.append(y_)\n",
    "    return np.array(dataX), np.array(dataY)"
   ]
  },
  {
   "cell_type": "code",
   "execution_count": 123,
   "metadata": {},
   "outputs": [
    {
     "name": "stdout",
     "output_type": "stream",
     "text": [
      "(94, 3, 3) (94, 1)\n",
      "(11, 3, 3) (11, 1)\n"
     ]
    }
   ],
   "source": [
    "trainX, trainY=build_dataset(np.array(train_set), seq_length)\n",
    "testX, testY=build_dataset(np.array(test_set),seq_length)\n",
    "\n",
    "print(trainX.shape, trainY.shape)\n",
    "print(testX.shape, testY.shape)"
   ]
  },
  {
   "cell_type": "code",
   "execution_count": 124,
   "metadata": {},
   "outputs": [
    {
     "name": "stdout",
     "output_type": "stream",
     "text": [
      "torch.Size([94, 3, 3]) torch.Size([94, 1])\n",
      "torch.Size([11, 3, 3]) torch.Size([11, 1])\n"
     ]
    }
   ],
   "source": [
    "trainX_tensor=torch.FloatTensor(trainX)\n",
    "trainY_tensor=torch.FloatTensor(trainY)\n",
    "testX_tensor=torch.FloatTensor(testX)\n",
    "testY_tensor=torch.FloatTensor(testY)\n",
    "\n",
    "print(trainX_tensor.size(), trainY_tensor.size())\n",
    "print(testX_tensor.size(), testY_tensor.size())"
   ]
  },
  {
   "cell_type": "code",
   "execution_count": 125,
   "metadata": {},
   "outputs": [],
   "source": [
    "train_dataset=TensorDataset(trainX_tensor, trainY_tensor)\n",
    "train_loader=DataLoader(train_dataset, shuffle=True,\n",
    "                        drop_last=True)"
   ]
  },
  {
   "cell_type": "code",
   "execution_count": 126,
   "metadata": {},
   "outputs": [],
   "source": [
    "# 수정 필요\n",
    "\n",
    "data_dim=3\n",
    "hidden_dim=6\n",
    "output_dim=1\n",
    "learning_late=0.01\n",
    "epochs=5000"
   ]
  },
  {
   "cell_type": "code",
   "execution_count": 127,
   "metadata": {},
   "outputs": [],
   "source": [
    "class Net(nn.Module):\n",
    "  def __init__(self, input_dim, hidden_dim, seq_length, output_dim, layers):\n",
    "    super(Net, self).__init__()\n",
    "    self.hidden_dim=hidden_dim\n",
    "    self.seq_length=seq_length\n",
    "    self.output_dim=output_dim\n",
    "    self.layers=layers\n",
    "\n",
    "    self.lstm=nn.LSTM(input_dim, \n",
    "                      hidden_dim, \n",
    "                      num_layers=layers,\n",
    "                      batch_first=True)\n",
    "    self.fc=nn.Linear(hidden_dim, output_dim, bias=True)\n",
    "\n",
    "  def reset_hidden_state(self):\n",
    "    self.hidden=(\n",
    "      torch.zeros(self.layers, self.seq_length, self.hidden_dim),\n",
    "      torch.zeros(self.layers, self.seq_length, self.hidden_dim)\n",
    "    )\n",
    "  def forward(self, x):\n",
    "    x, _status=self.lstm(x)\n",
    "    x=self.fc(x[:, -1])\n",
    "    return x"
   ]
  },
  {
   "cell_type": "code",
   "execution_count": 128,
   "metadata": {},
   "outputs": [],
   "source": [
    "def train_model(model, train_df, epochs=None, lr=None, verbos=10, patience=10):\n",
    "  criterion=nn.MSELoss().to(device)\n",
    "  optimizer=optim.Adam(model.parameters())\n",
    "  n_epochs=epochs\n",
    "\n",
    "  train_hist=np.zeros(n_epochs)\n",
    "  for epoch in range(n_epochs):\n",
    "    avg_cost=0\n",
    "    total_batch=len(train_df)\n",
    "\n",
    "    for batch_idxm, sample in enumerate(train_df):\n",
    "      x_train, y_train=sample\n",
    "      model.reset_hidden_state()\n",
    "      output=model(x_train)\n",
    "      loss=criterion(output, y_train)\n",
    "      optimizer.zero_grad()\n",
    "      loss.backward()\n",
    "      optimizer.step()\n",
    "      avg_cost+=loss/total_batch\n",
    "    \n",
    "    train_hist[epoch]=avg_cost\n",
    "\n",
    "    if epoch % verbos==0:\n",
    "      print('Epoch:{}, train_loss:{}'.format(epoch, avg_cost.item()))\n",
    "\n",
    "    if(epoch % patience==0) & (epoch!=0):\n",
    "      if train_hist[epoch-patience] < train_hist[epoch]:\n",
    "        print(\"Early Stopping\")\n",
    "        break\n",
    "  return model.eval(), train_hist\n",
    "\n",
    "# best loss / model 추가"
   ]
  },
  {
   "cell_type": "code",
   "execution_count": 129,
   "metadata": {},
   "outputs": [
    {
     "name": "stdout",
     "output_type": "stream",
     "text": [
      "Epoch:0, train_loss:0.039529960602521896\n",
      "Epoch:20, train_loss:0.015331221744418144\n",
      "Epoch:40, train_loss:0.013925964944064617\n",
      "Epoch:60, train_loss:0.012704364955425262\n",
      "Epoch:80, train_loss:0.011996174231171608\n",
      "Epoch:100, train_loss:0.011347663588821888\n",
      "Epoch:120, train_loss:0.011465962044894695\n",
      "Epoch:140, train_loss:0.010900577530264854\n",
      "Epoch:160, train_loss:0.010590953752398491\n",
      "Epoch:180, train_loss:0.01057975459843874\n",
      "Epoch:200, train_loss:0.010295034386217594\n",
      "Epoch:220, train_loss:0.010199250653386116\n",
      "Epoch:240, train_loss:0.009891906753182411\n",
      "Epoch:260, train_loss:0.009948010556399822\n",
      "Epoch:280, train_loss:0.009741249494254589\n",
      "Epoch:300, train_loss:0.00960052665323019\n",
      "Epoch:320, train_loss:0.009274526499211788\n",
      "Epoch:340, train_loss:0.009162332862615585\n",
      "Epoch:360, train_loss:0.00894103106111288\n",
      "Epoch:380, train_loss:0.008906117640435696\n",
      "Epoch:400, train_loss:0.008548657409846783\n",
      "Epoch:420, train_loss:0.008315159007906914\n",
      "Epoch:440, train_loss:0.008287875913083553\n",
      "Epoch:460, train_loss:0.008561644703149796\n",
      "Epoch:480, train_loss:0.0077522252686321735\n",
      "Epoch:500, train_loss:0.007877828553318977\n",
      "Epoch:520, train_loss:0.008130433969199657\n",
      "Epoch:540, train_loss:0.0075682965107262135\n",
      "Epoch:560, train_loss:0.007432152051478624\n",
      "Epoch:580, train_loss:0.0075408644042909145\n",
      "Epoch:600, train_loss:0.0072386302053928375\n",
      "Epoch:620, train_loss:0.0072463927790522575\n",
      "Epoch:640, train_loss:0.007397861685603857\n",
      "Epoch:660, train_loss:0.006990350782871246\n",
      "Epoch:680, train_loss:0.007254911120980978\n",
      "Epoch:700, train_loss:0.006710899528115988\n",
      "Epoch:720, train_loss:0.006612834054976702\n",
      "Epoch:740, train_loss:0.006684248801320791\n",
      "Epoch:760, train_loss:0.006631392985582352\n",
      "Epoch:780, train_loss:0.006677532568573952\n",
      "Epoch:800, train_loss:0.0064190467819571495\n",
      "Epoch:820, train_loss:0.006428487133234739\n",
      "Epoch:840, train_loss:0.006316367071121931\n",
      "Epoch:860, train_loss:0.00621705362573266\n",
      "Epoch:880, train_loss:0.006191999651491642\n",
      "Epoch:900, train_loss:0.006163049954921007\n",
      "Epoch:920, train_loss:0.005826698150485754\n",
      "Epoch:940, train_loss:0.006087250541895628\n",
      "Epoch:960, train_loss:0.005752911791205406\n",
      "Epoch:980, train_loss:0.005842347163707018\n",
      "Epoch:1000, train_loss:0.005683963652700186\n",
      "Epoch:1020, train_loss:0.005695506930351257\n",
      "Epoch:1040, train_loss:0.005383106879889965\n",
      "Epoch:1060, train_loss:0.0056220064871013165\n",
      "Epoch:1080, train_loss:0.005343415774405003\n",
      "Epoch:1100, train_loss:0.005079478025436401\n",
      "Epoch:1120, train_loss:0.005004923790693283\n",
      "Epoch:1140, train_loss:0.004978800192475319\n",
      "Epoch:1160, train_loss:0.004956921562552452\n",
      "Epoch:1180, train_loss:0.004667350556701422\n",
      "Epoch:1200, train_loss:0.004907276947051287\n",
      "Epoch:1220, train_loss:0.004590664524585009\n",
      "Epoch:1240, train_loss:0.004565130919218063\n",
      "Epoch:1260, train_loss:0.004528888501226902\n",
      "Epoch:1280, train_loss:0.004411365836858749\n",
      "Epoch:1300, train_loss:0.004552838858217001\n",
      "Epoch:1320, train_loss:0.0044538713991642\n",
      "Epoch:1340, train_loss:0.00420874310657382\n",
      "Epoch:1360, train_loss:0.0041599757969379425\n",
      "Epoch:1380, train_loss:0.004252222832292318\n",
      "Epoch:1400, train_loss:0.004192416090518236\n",
      "Epoch:1420, train_loss:0.004202323034405708\n",
      "Epoch:1440, train_loss:0.003746985225006938\n",
      "Epoch:1460, train_loss:0.0038284100592136383\n",
      "Epoch:1480, train_loss:0.0037896358408033848\n",
      "Epoch:1500, train_loss:0.003664742223918438\n",
      "Epoch:1520, train_loss:0.003801012644544244\n",
      "Epoch:1540, train_loss:0.0036087720654904842\n",
      "Epoch:1560, train_loss:0.0031648126896470785\n",
      "Epoch:1580, train_loss:0.003181325038895011\n",
      "Epoch:1600, train_loss:0.0032521672546863556\n",
      "Epoch:1620, train_loss:0.002985331928357482\n",
      "Epoch:1640, train_loss:0.003288610139861703\n",
      "Epoch:1660, train_loss:0.0028771136421710253\n",
      "Epoch:1680, train_loss:0.0027590985409915447\n",
      "Epoch:1700, train_loss:0.002647931920364499\n",
      "Epoch:1720, train_loss:0.0025225041899830103\n",
      "Epoch:1740, train_loss:0.00260320701636374\n",
      "Epoch:1760, train_loss:0.002695765346288681\n",
      "Epoch:1780, train_loss:0.002324623055756092\n",
      "Epoch:1800, train_loss:0.002646160079166293\n",
      "Epoch:1820, train_loss:0.002101430669426918\n",
      "Epoch:1840, train_loss:0.0020427261479198933\n",
      "Epoch:1860, train_loss:0.001975299557670951\n",
      "Epoch:1880, train_loss:0.0017664417391642928\n",
      "Epoch:1900, train_loss:0.0019701861310750246\n",
      "Epoch:1920, train_loss:0.0019244635477662086\n",
      "Epoch:1940, train_loss:0.001741123734973371\n",
      "Epoch:1960, train_loss:0.0016560627846047282\n",
      "Epoch:1980, train_loss:0.0017312128329649568\n",
      "Epoch:2000, train_loss:0.0012767658336088061\n",
      "Epoch:2020, train_loss:0.0012781014665961266\n",
      "Epoch:2040, train_loss:0.0012846655445173383\n",
      "Epoch:2060, train_loss:0.0012533924309536815\n",
      "Epoch:2080, train_loss:0.0009426475735381246\n",
      "Epoch:2100, train_loss:0.0008468222804367542\n",
      "Epoch:2120, train_loss:0.0008723622886464\n",
      "Epoch:2140, train_loss:0.00069296860601753\n",
      "Epoch:2160, train_loss:0.0007223953143693507\n",
      "Epoch:2180, train_loss:0.0006735556526109576\n",
      "Epoch:2200, train_loss:0.0006619124906137586\n",
      "Epoch:2220, train_loss:0.0006509891827590764\n",
      "Epoch:2240, train_loss:0.0005693765706382692\n",
      "Epoch:2260, train_loss:0.0004789987578988075\n",
      "Epoch:2280, train_loss:0.0004216796951368451\n",
      "Epoch:2300, train_loss:0.00043738941894844174\n",
      "Epoch:2320, train_loss:0.0004941829247400165\n",
      "Epoch:2340, train_loss:0.00039446353912353516\n",
      "Epoch:2360, train_loss:0.0002912496274802834\n",
      "Epoch:2380, train_loss:0.00038376112934201956\n",
      "Epoch:2400, train_loss:0.0002142610464943573\n",
      "Epoch:2420, train_loss:0.0004452543507795781\n",
      "Epoch:2440, train_loss:0.0003384813608136028\n",
      "Epoch:2460, train_loss:0.0001766684144968167\n",
      "Epoch:2480, train_loss:0.0002457893278915435\n",
      "Epoch:2500, train_loss:0.00022706843446940184\n",
      "Early Stopping\n"
     ]
    }
   ],
   "source": [
    "net=Net(data_dim, hidden_dim, seq_length, output_dim, 1)\n",
    "model, train_hist=train_model(net, train_loader, epochs=epochs,\n",
    "                              lr=learning_late, verbos=20, patience=100)"
   ]
  },
  {
   "cell_type": "code",
   "execution_count": 130,
   "metadata": {},
   "outputs": [],
   "source": [
    "path=\"../model/price_수입.pth\"\n",
    "torch.save(model.state_dict(), path)"
   ]
  },
  {
   "cell_type": "code",
   "execution_count": 131,
   "metadata": {},
   "outputs": [
    {
     "data": {
      "image/png": "[encoded data removed]",
      "text/plain": [
       "<Figure size 1000x600 with 1 Axes>"
      ]
     },
     "metadata": {},
     "output_type": "display_data"
    }
   ],
   "source": [
    "fig=plt.figure(figsize=(10, 6))\n",
    "plt.plot(train_hist, label='Training loss')\n",
    "plt.legend()\n",
    "plt.show()"
   ]
  },
  {
   "cell_type": "code",
   "execution_count": 132,
   "metadata": {},
   "outputs": [
    {
     "name": "stdout",
     "output_type": "stream",
     "text": [
      "MAe SCORE: 867.7543296055359\n"
     ]
    }
   ],
   "source": [
    "with torch.no_grad():\n",
    "    pred=[]\n",
    "    for pr in range(len(testX_tensor)):\n",
    "        model.reset_hidden_state()\n",
    "        predicted=model(torch.unsqueeze(testX_tensor[pr],0))\n",
    "        predicted=torch.flatten(predicted).item()\n",
    "        pred.append(predicted)\n",
    "\n",
    "    pred_inverse=scaler_y.inverse_transform(np.array(pred).reshape(-1, 1))\n",
    "    testY_inverse=scaler_y.inverse_transform(testY_tensor)\n",
    "\n",
    "def MAE(true, pred):\n",
    "    return np.mean(np.abs(true-pred))\n",
    "\n",
    "\n",
    "print('MAe SCORE:', MAE(pred_inverse, testY_inverse))"
   ]
  },
  {
   "cell_type": "code",
   "execution_count": 133,
   "metadata": {},
   "outputs": [
    {
     "data": {
      "text/plain": [
       "DatetimeIndex(['2022-02-01', '2022-03-01', '2022-04-01', '2022-05-01',\n",
       "               '2022-06-01', '2022-07-01', '2022-08-01', '2022-09-01',\n",
       "               '2022-10-01', '2022-11-01', '2022-12-01'],\n",
       "              dtype='datetime64[ns]', name='date', freq=None)"
      ]
     },
     "execution_count": 133,
     "metadata": {},
     "output_type": "execute_result"
    }
   ],
   "source": [
    "test_set.index[seq_length:]"
   ]
  },
  {
   "cell_type": "code",
   "execution_count": 134,
   "metadata": {},
   "outputs": [],
   "source": [
    "date=['2023-02', '2023-03', '2023-04',\n",
    "               '2023-05', '2023-06', '2023-07', '2023-08',\n",
    "               '2023-09', '2023-10', '2023-11', '2023-12']"
   ]
  },
  {
   "cell_type": "code",
   "execution_count": 135,
   "metadata": {},
   "outputs": [
    {
     "data": {
      "image/png": "[encoded data removed]",
      "text/plain": [
       "<Figure size 1600x600 with 1 Axes>"
      ]
     },
     "metadata": {},
     "output_type": "display_data"
    }
   ],
   "source": [
    "fig=plt.figure(figsize=(16,6))\n",
    "plt.title('생산량 및 수입량에 따른 고등어 가격 예측')\n",
    "plt.plot(np.arange(len(pred_inverse)), pred_inverse, label='pred')\n",
    "plt.plot(np.arange(len(testY_inverse)), testY_inverse, label='true')\n",
    "plt.xlabel('년도')\n",
    "plt.ylabel('가격 (원)')\n",
    "\n",
    "plt.xticks(np.arange(len(pred_inverse)),date)\n",
    "plt.legend()\n",
    "plt.show()"
   ]
  }
 ],
 "metadata": {
  "kernelspec": {
   "display_name": "Python 3",
   "language": "python",
   "name": "python3"
  },
  "language_info": {
   "codemirror_mode": {
    "name": "ipython",
    "version": 3
   },
   "file_extension": ".py",
   "mimetype": "text/x-python",
   "name": "python",
   "nbconvert_exporter": "python",
   "pygments_lexer": "ipython3",
   "version": "3.12.0"
  }
 },
 "nbformat": 4,
 "nbformat_minor": 2
}
