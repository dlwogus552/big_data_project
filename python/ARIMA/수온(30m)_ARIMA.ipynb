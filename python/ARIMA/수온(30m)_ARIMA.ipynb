{
 "cells": [
  {
   "cell_type": "code",
   "execution_count": 16,
   "metadata": {},
   "outputs": [],
   "source": [
    "import pandas as pd\n",
    "import numpy as np\n",
    "import statsmodels.api as sm\n",
    "from matplotlib import rc\n",
    "import matplotlib.pyplot as plt\n",
    "from sklearn.metrics import mean_squared_error,mean_absolute_error"
   ]
  },
  {
   "cell_type": "code",
   "execution_count": 3,
   "metadata": {},
   "outputs": [],
   "source": [
    "#한글 깨짐 방지\n",
    "from matplotlib import rc, font_manager\n",
    "font_path='../data/fonts/malgun.ttf'\n",
    "font_name=font_manager.FontProperties(fname=font_path).get_name()\n",
    "rc('font',family=font_name)\n",
    "#마이너스 깨짐 방지\n",
    "plt.rcParams['axes.unicode_minus']=False"
   ]
  },
  {
   "cell_type": "code",
   "execution_count": 4,
   "metadata": {},
   "outputs": [
    {
     "data": {
      "text/html": [
       "<div>\n",
       "<style scoped>\n",
       "    .dataframe tbody tr th:only-of-type {\n",
       "        vertical-align: middle;\n",
       "    }\n",
       "\n",
       "    .dataframe tbody tr th {\n",
       "        vertical-align: top;\n",
       "    }\n",
       "\n",
       "    .dataframe thead th {\n",
       "        text-align: right;\n",
       "    }\n",
       "</style>\n",
       "<table border=\"1\" class=\"dataframe\">\n",
       "  <thead>\n",
       "    <tr style=\"text-align: right;\">\n",
       "      <th></th>\n",
       "      <th>수온(30m)</th>\n",
       "      <th>염분(30m)</th>\n",
       "      <th>용존산소(30m)</th>\n",
       "      <th>수온(50m)</th>\n",
       "      <th>염분(50m)</th>\n",
       "      <th>용존산소(50m)</th>\n",
       "      <th>생산량</th>\n",
       "    </tr>\n",
       "    <tr>\n",
       "      <th>date</th>\n",
       "      <th></th>\n",
       "      <th></th>\n",
       "      <th></th>\n",
       "      <th></th>\n",
       "      <th></th>\n",
       "      <th></th>\n",
       "      <th></th>\n",
       "    </tr>\n",
       "  </thead>\n",
       "  <tbody>\n",
       "    <tr>\n",
       "      <th>2008-01-01</th>\n",
       "      <td>15.75</td>\n",
       "      <td>33.650</td>\n",
       "      <td>5.52000</td>\n",
       "      <td>15.00</td>\n",
       "      <td>33.610</td>\n",
       "      <td>5.075</td>\n",
       "      <td>7994</td>\n",
       "    </tr>\n",
       "    <tr>\n",
       "      <th>2008-02-01</th>\n",
       "      <td>14.80</td>\n",
       "      <td>34.010</td>\n",
       "      <td>5.82000</td>\n",
       "      <td>14.40</td>\n",
       "      <td>33.990</td>\n",
       "      <td>5.420</td>\n",
       "      <td>1430</td>\n",
       "    </tr>\n",
       "    <tr>\n",
       "      <th>2008-03-01</th>\n",
       "      <td>14.30</td>\n",
       "      <td>33.985</td>\n",
       "      <td>5.74000</td>\n",
       "      <td>13.30</td>\n",
       "      <td>33.950</td>\n",
       "      <td>5.460</td>\n",
       "      <td>3001</td>\n",
       "    </tr>\n",
       "    <tr>\n",
       "      <th>2008-04-01</th>\n",
       "      <td>13.80</td>\n",
       "      <td>33.960</td>\n",
       "      <td>5.65000</td>\n",
       "      <td>12.20</td>\n",
       "      <td>33.910</td>\n",
       "      <td>5.500</td>\n",
       "      <td>1385</td>\n",
       "    </tr>\n",
       "    <tr>\n",
       "      <th>2008-05-01</th>\n",
       "      <td>14.35</td>\n",
       "      <td>34.070</td>\n",
       "      <td>5.24000</td>\n",
       "      <td>13.15</td>\n",
       "      <td>34.105</td>\n",
       "      <td>4.935</td>\n",
       "      <td>582</td>\n",
       "    </tr>\n",
       "    <tr>\n",
       "      <th>...</th>\n",
       "      <td>...</td>\n",
       "      <td>...</td>\n",
       "      <td>...</td>\n",
       "      <td>...</td>\n",
       "      <td>...</td>\n",
       "      <td>...</td>\n",
       "      <td>...</td>\n",
       "    </tr>\n",
       "    <tr>\n",
       "      <th>2022-08-01</th>\n",
       "      <td>20.00</td>\n",
       "      <td>32.820</td>\n",
       "      <td>3.87140</td>\n",
       "      <td>19.50</td>\n",
       "      <td>34.340</td>\n",
       "      <td>3.700</td>\n",
       "      <td>3900</td>\n",
       "    </tr>\n",
       "    <tr>\n",
       "      <th>2022-09-01</th>\n",
       "      <td>21.35</td>\n",
       "      <td>34.325</td>\n",
       "      <td>4.01425</td>\n",
       "      <td>20.90</td>\n",
       "      <td>34.145</td>\n",
       "      <td>4.400</td>\n",
       "      <td>5494</td>\n",
       "    </tr>\n",
       "    <tr>\n",
       "      <th>2022-10-01</th>\n",
       "      <td>21.70</td>\n",
       "      <td>33.030</td>\n",
       "      <td>4.45710</td>\n",
       "      <td>22.30</td>\n",
       "      <td>33.550</td>\n",
       "      <td>3.700</td>\n",
       "      <td>5339</td>\n",
       "    </tr>\n",
       "    <tr>\n",
       "      <th>2022-11-01</th>\n",
       "      <td>19.55</td>\n",
       "      <td>32.755</td>\n",
       "      <td>4.81425</td>\n",
       "      <td>19.00</td>\n",
       "      <td>32.755</td>\n",
       "      <td>4.300</td>\n",
       "      <td>12592</td>\n",
       "    </tr>\n",
       "    <tr>\n",
       "      <th>2022-12-01</th>\n",
       "      <td>16.40</td>\n",
       "      <td>33.128</td>\n",
       "      <td>4.17140</td>\n",
       "      <td>15.70</td>\n",
       "      <td>34.160</td>\n",
       "      <td>4.200</td>\n",
       "      <td>24533</td>\n",
       "    </tr>\n",
       "  </tbody>\n",
       "</table>\n",
       "<p>180 rows × 7 columns</p>\n",
       "</div>"
      ],
      "text/plain": [
       "            수온(30m)  염분(30m)  용존산소(30m)  수온(50m)  염분(50m)  용존산소(50m)    생산량\n",
       "date                                                                       \n",
       "2008-01-01    15.75   33.650    5.52000    15.00   33.610      5.075   7994\n",
       "2008-02-01    14.80   34.010    5.82000    14.40   33.990      5.420   1430\n",
       "2008-03-01    14.30   33.985    5.74000    13.30   33.950      5.460   3001\n",
       "2008-04-01    13.80   33.960    5.65000    12.20   33.910      5.500   1385\n",
       "2008-05-01    14.35   34.070    5.24000    13.15   34.105      4.935    582\n",
       "...             ...      ...        ...      ...      ...        ...    ...\n",
       "2022-08-01    20.00   32.820    3.87140    19.50   34.340      3.700   3900\n",
       "2022-09-01    21.35   34.325    4.01425    20.90   34.145      4.400   5494\n",
       "2022-10-01    21.70   33.030    4.45710    22.30   33.550      3.700   5339\n",
       "2022-11-01    19.55   32.755    4.81425    19.00   32.755      4.300  12592\n",
       "2022-12-01    16.40   33.128    4.17140    15.70   34.160      4.200  24533\n",
       "\n",
       "[180 rows x 7 columns]"
      ]
     },
     "execution_count": 4,
     "metadata": {},
     "output_type": "execute_result"
    }
   ],
   "source": [
    "# 데이터 불러오기\n",
    "data = pd.read_csv('../data/merge/207_mackerel_product.csv')\n",
    "# '%Y-%m' 형식으로 변환\n",
    "data['date'] = pd.to_datetime(data['date'], format='%Y-%m-%d')\n",
    "data.set_index('date',inplace=True)\n",
    "data"
   ]
  },
  {
   "cell_type": "code",
   "execution_count": 8,
   "metadata": {},
   "outputs": [
    {
     "name": "stderr",
     "output_type": "stream",
     "text": [
      "c:\\workspace\\Python\\Python312\\Lib\\site-packages\\statsmodels\\tsa\\base\\tsa_model.py:473: ValueWarning: No frequency information was provided, so inferred frequency MS will be used.\n",
      "  self._init_dates(dates, freq)\n",
      "c:\\workspace\\Python\\Python312\\Lib\\site-packages\\statsmodels\\tsa\\base\\tsa_model.py:473: ValueWarning: No frequency information was provided, so inferred frequency MS will be used.\n",
      "  self._init_dates(dates, freq)\n",
      "c:\\workspace\\Python\\Python312\\Lib\\site-packages\\statsmodels\\tsa\\base\\tsa_model.py:473: ValueWarning: No frequency information was provided, so inferred frequency MS will be used.\n",
      "  self._init_dates(dates, freq)\n",
      "c:\\workspace\\Python\\Python312\\Lib\\site-packages\\statsmodels\\tsa\\statespace\\sarimax.py:966: UserWarning: Non-stationary starting autoregressive parameters found. Using zeros as starting parameters.\n",
      "  warn('Non-stationary starting autoregressive parameters'\n",
      "c:\\workspace\\Python\\Python312\\Lib\\site-packages\\statsmodels\\base\\model.py:607: ConvergenceWarning: Maximum Likelihood optimization failed to converge. Check mle_retvals\n",
      "  warnings.warn(\"Maximum Likelihood optimization failed to \"\n"
     ]
    }
   ],
   "source": [
    "# 시계열 데이터 선택\n",
    "ts_data = data['수온(30m)']\n",
    "\n",
    "# ARIMA 모델 학습\n",
    "model = sm.tsa.ARIMA(ts_data, order=(50, 1, 0))  # ARIMA(p, d, q)의 각 매개변수 설정\n",
    "results = model.fit()"
   ]
  },
  {
   "cell_type": "code",
   "execution_count": 11,
   "metadata": {},
   "outputs": [],
   "source": [
    "# 미래 값 예측\n",
    "forecast_steps = 24  # 2024년 1월부터 12월까지의 예측\n",
    "forecast = results.forecast(steps=forecast_steps)"
   ]
  },
  {
   "cell_type": "code",
   "execution_count": 12,
   "metadata": {},
   "outputs": [
    {
     "data": {
      "image/png": "[encoded data removed]",
      "text/plain": [
       "<Figure size 640x480 with 1 Axes>"
      ]
     },
     "metadata": {},
     "output_type": "display_data"
    }
   ],
   "source": [
    "# 예측 결과 시각화\n",
    "plt.plot(ts_data.index, ts_data, label='실제 데이터')\n",
    "forecast_index = pd.date_range(start='2023-01-01', periods=forecast_steps, freq='M')\n",
    "plt.plot(forecast_index, forecast, label='예측 데이터', color='red')\n",
    "plt.legend()\n",
    "plt.xlabel('년도')\n",
    "plt.ylabel('수온(30m)')\n",
    "plt.show()"
   ]
  },
  {
   "cell_type": "code",
   "execution_count": 19,
   "metadata": {},
   "outputs": [
    {
     "name": "stdout",
     "output_type": "stream",
     "text": [
      "Mean Squared Error (MSE): 4.6759368812186795\n",
      "Mean Absolute Error (MAE): 1.7276893413961705\n",
      "Root Mean Squared Error (RMSE): 2.162391472703007\n"
     ]
    }
   ],
   "source": [
    "mse = mean_squared_error(ts_data[-forecast_steps:], forecast)\n",
    "mae = mean_absolute_error(ts_data[-forecast_steps:], forecast)\n",
    "rmse = np.sqrt(mse)\n",
    "\n",
    "print('Mean Squared Error (MSE):', mse)\n",
    "print('Mean Absolute Error (MAE):', mae)\n",
    "print('Root Mean Squared Error (RMSE):', rmse)"
   ]
  },
  {
   "cell_type": "code",
   "execution_count": 16,
   "metadata": {},
   "outputs": [
    {
     "name": "stdout",
     "output_type": "stream",
     "text": [
      "2023~24년 예상 수온(30m) : 2023-01-01    14.511343\n",
      "2023-02-01    14.040472\n",
      "2023-03-01    15.218406\n",
      "2023-04-01    15.915558\n",
      "2023-05-01    16.578329\n",
      "2023-06-01    17.507408\n",
      "2023-07-01    18.548673\n",
      "2023-08-01    19.038191\n",
      "2023-09-01    19.747150\n",
      "2023-10-01    20.798988\n",
      "2023-11-01    19.373635\n",
      "2023-12-01    18.191672\n",
      "2024-01-01    16.847143\n",
      "2024-02-01    15.351883\n",
      "2024-03-01    16.113682\n",
      "2024-04-01    16.752039\n",
      "2024-05-01    17.279622\n",
      "2024-06-01    17.150006\n",
      "2024-07-01    18.218405\n",
      "2024-08-01    19.224562\n",
      "2024-09-01    19.656216\n",
      "2024-10-01    21.594169\n",
      "2024-11-01    19.967610\n",
      "2024-12-01    17.769799\n",
      "Freq: MS, Name: predicted_mean, dtype: float64\n"
     ]
    }
   ],
   "source": [
    "# 2024년 예측값 출력\n",
    "print(\"2023~24년 예상 수온(30m) :\", forecast)\n",
    "pd.DataFrame(forecast).rename(columns={'predicted_mean':'수온(30m)'}).to_csv('../data/pred/predicted_values.csv',encoding='utf-8-sig')"
   ]
  }
 ],
 "metadata": {
  "kernelspec": {
   "display_name": "base",
   "language": "python",
   "name": "python3"
  },
  "language_info": {
   "codemirror_mode": {
    "name": "ipython",
    "version": 3
   },
   "file_extension": ".py",
   "mimetype": "text/x-python",
   "name": "python",
   "nbconvert_exporter": "python",
   "pygments_lexer": "ipython3",
   "version": "3.12.0"
  }
 },
 "nbformat": 4,
 "nbformat_minor": 2
}
