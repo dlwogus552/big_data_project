{
 "cells": [
  {
   "cell_type": "code",
   "execution_count": 136,
   "metadata": {},
   "outputs": [],
   "source": [
    "import pandas as pd\n",
    "import random\n",
    "import matplotlib.pyplot as plt\n",
    "from sklearn.preprocessing import MinMaxScaler"
   ]
  },
  {
   "cell_type": "code",
   "execution_count": 137,
   "metadata": {},
   "outputs": [],
   "source": [
    "#한글 깨짐 방지\n",
    "from matplotlib import rc, font_manager\n",
    "font_path='data/fonts/malgun.ttf'\n",
    "font_name=font_manager.FontProperties(fname=font_path).get_name()\n",
    "rc('font',family=font_name)\n",
    "#마이너스 깨짐 방지\n",
    "plt.rcParams['axes.unicode_minus']=False"
   ]
  },
  {
   "cell_type": "code",
   "execution_count": 96,
   "metadata": {},
   "outputs": [],
   "source": [
    "temperature207=pd.read_csv('./data/temperature/207정선_월별.csv')\n",
    "temperature208=pd.read_csv('./data/temperature/208정선_월별.csv',encoding='cp949')\n",
    "mackerel=pd.read_csv('./data/mackerel/부산_고등어_생산량(선어).csv',encoding='cp949')\n",
    "\n",
    "df=pd.merge(temperature207,mackerel,on=['년도','월'])\n",
    "# df.to_csv('data/merge/207_mackerel_product.csv',index=False,encoding='utf-8-sig')\n",
    "df=pd.merge(temperature208,mackerel,on=['년도','월'])\n",
    "# df.to_csv('data/merge/208_mackerel_product.csv',index=False,encoding='utf-8-sig')"
   ]
  },
  {
   "cell_type": "code",
   "execution_count": 192,
   "metadata": {},
   "outputs": [
    {
     "name": "stdout",
     "output_type": "stream",
     "text": [
      "<class 'pandas.core.frame.DataFrame'>\n",
      "DatetimeIndex: 180 entries, 2008-01-01 to 2022-12-01\n",
      "Data columns (total 4 columns):\n",
      " #   Column  Non-Null Count  Dtype  \n",
      "---  ------  --------------  -----  \n",
      " 0   수온      180 non-null    float64\n",
      " 1   염분      180 non-null    float64\n",
      " 2   용존산소    180 non-null    float64\n",
      " 3   생산량     180 non-null    int64  \n",
      "dtypes: float64(3), int64(1)\n",
      "memory usage: 7.0 KB\n"
     ]
    },
    {
     "data": {
      "text/html": [
       "<div>\n",
       "<style scoped>\n",
       "    .dataframe tbody tr th:only-of-type {\n",
       "        vertical-align: middle;\n",
       "    }\n",
       "\n",
       "    .dataframe tbody tr th {\n",
       "        vertical-align: top;\n",
       "    }\n",
       "\n",
       "    .dataframe thead th {\n",
       "        text-align: right;\n",
       "    }\n",
       "</style>\n",
       "<table border=\"1\" class=\"dataframe\">\n",
       "  <thead>\n",
       "    <tr style=\"text-align: right;\">\n",
       "      <th></th>\n",
       "      <th>수온</th>\n",
       "      <th>염분</th>\n",
       "      <th>용존산소</th>\n",
       "      <th>생산량</th>\n",
       "    </tr>\n",
       "    <tr>\n",
       "      <th>date</th>\n",
       "      <th></th>\n",
       "      <th></th>\n",
       "      <th></th>\n",
       "      <th></th>\n",
       "    </tr>\n",
       "  </thead>\n",
       "  <tbody>\n",
       "    <tr>\n",
       "      <th>2008-01-01</th>\n",
       "      <td>15.75</td>\n",
       "      <td>33.650</td>\n",
       "      <td>5.51500</td>\n",
       "      <td>7994</td>\n",
       "    </tr>\n",
       "    <tr>\n",
       "      <th>2008-02-01</th>\n",
       "      <td>14.80</td>\n",
       "      <td>34.010</td>\n",
       "      <td>5.82000</td>\n",
       "      <td>1430</td>\n",
       "    </tr>\n",
       "    <tr>\n",
       "      <th>2008-03-01</th>\n",
       "      <td>14.30</td>\n",
       "      <td>33.985</td>\n",
       "      <td>5.73500</td>\n",
       "      <td>3001</td>\n",
       "    </tr>\n",
       "    <tr>\n",
       "      <th>2008-04-01</th>\n",
       "      <td>13.80</td>\n",
       "      <td>33.960</td>\n",
       "      <td>5.65000</td>\n",
       "      <td>1385</td>\n",
       "    </tr>\n",
       "    <tr>\n",
       "      <th>2008-05-01</th>\n",
       "      <td>14.35</td>\n",
       "      <td>34.070</td>\n",
       "      <td>5.23500</td>\n",
       "      <td>582</td>\n",
       "    </tr>\n",
       "    <tr>\n",
       "      <th>...</th>\n",
       "      <td>...</td>\n",
       "      <td>...</td>\n",
       "      <td>...</td>\n",
       "      <td>...</td>\n",
       "    </tr>\n",
       "    <tr>\n",
       "      <th>2022-08-01</th>\n",
       "      <td>20.00</td>\n",
       "      <td>32.820</td>\n",
       "      <td>3.97140</td>\n",
       "      <td>3900</td>\n",
       "    </tr>\n",
       "    <tr>\n",
       "      <th>2022-09-01</th>\n",
       "      <td>21.35</td>\n",
       "      <td>33.425</td>\n",
       "      <td>4.41425</td>\n",
       "      <td>5494</td>\n",
       "    </tr>\n",
       "    <tr>\n",
       "      <th>2022-10-01</th>\n",
       "      <td>22.70</td>\n",
       "      <td>34.030</td>\n",
       "      <td>4.85710</td>\n",
       "      <td>5339</td>\n",
       "    </tr>\n",
       "    <tr>\n",
       "      <th>2022-11-01</th>\n",
       "      <td>19.55</td>\n",
       "      <td>34.155</td>\n",
       "      <td>4.91425</td>\n",
       "      <td>24533</td>\n",
       "    </tr>\n",
       "    <tr>\n",
       "      <th>2022-12-01</th>\n",
       "      <td>16.40</td>\n",
       "      <td>34.280</td>\n",
       "      <td>4.97140</td>\n",
       "      <td>16592</td>\n",
       "    </tr>\n",
       "  </tbody>\n",
       "</table>\n",
       "<p>180 rows × 4 columns</p>\n",
       "</div>"
      ],
      "text/plain": [
       "               수온      염분     용존산소    생산량\n",
       "date                                     \n",
       "2008-01-01  15.75  33.650  5.51500   7994\n",
       "2008-02-01  14.80  34.010  5.82000   1430\n",
       "2008-03-01  14.30  33.985  5.73500   3001\n",
       "2008-04-01  13.80  33.960  5.65000   1385\n",
       "2008-05-01  14.35  34.070  5.23500    582\n",
       "...           ...     ...      ...    ...\n",
       "2022-08-01  20.00  32.820  3.97140   3900\n",
       "2022-09-01  21.35  33.425  4.41425   5494\n",
       "2022-10-01  22.70  34.030  4.85710   5339\n",
       "2022-11-01  19.55  34.155  4.91425  24533\n",
       "2022-12-01  16.40  34.280  4.97140  16592\n",
       "\n",
       "[180 rows x 4 columns]"
      ]
     },
     "execution_count": 192,
     "metadata": {},
     "output_type": "execute_result"
    }
   ],
   "source": [
    "merge_207=pd.read_csv('./data/merge/207_mackerel_product.csv',encoding='cp949')\n",
    "\n",
    "# '%Y-%m' 형식으로 변환\n",
    "merge_207['date'] = pd.to_datetime(merge_207['date'], format='%Y-%m-%d')\n",
    "\n",
    "# 'date' 열을 인덱스로 설정\n",
    "merge_207.set_index('date', inplace=True)\n",
    "\n",
    "merge_207=merge_207[['수온','염분','용존산소','생산량']]\n",
    "merge_207.info()\n",
    "merge_207"
   ]
  },
  {
   "cell_type": "code",
   "execution_count": 193,
   "metadata": {},
   "outputs": [
    {
     "name": "stdout",
     "output_type": "stream",
     "text": [
      "(162, 4) (21, 4)\n"
     ]
    }
   ],
   "source": [
    "seq_length=3 # 3~7사이 값 설정\n",
    "train_size = int(len(merge_207)*0.90)\n",
    "train_set=merge_207[0:train_size]\n",
    "test_set=merge_207[train_size-seq_length:]\n",
    "print(train_set.shape,test_set.shape)\n"
   ]
  },
  {
   "cell_type": "code",
   "execution_count": 194,
   "metadata": {},
   "outputs": [
    {
     "data": {
      "text/html": [
       "<div>\n",
       "<style scoped>\n",
       "    .dataframe tbody tr th:only-of-type {\n",
       "        vertical-align: middle;\n",
       "    }\n",
       "\n",
       "    .dataframe tbody tr th {\n",
       "        vertical-align: top;\n",
       "    }\n",
       "\n",
       "    .dataframe thead th {\n",
       "        text-align: right;\n",
       "    }\n",
       "</style>\n",
       "<table border=\"1\" class=\"dataframe\">\n",
       "  <thead>\n",
       "    <tr style=\"text-align: right;\">\n",
       "      <th></th>\n",
       "      <th>수온</th>\n",
       "      <th>염분</th>\n",
       "      <th>용존산소</th>\n",
       "      <th>생산량</th>\n",
       "    </tr>\n",
       "    <tr>\n",
       "      <th>date</th>\n",
       "      <th></th>\n",
       "      <th></th>\n",
       "      <th></th>\n",
       "      <th></th>\n",
       "    </tr>\n",
       "  </thead>\n",
       "  <tbody>\n",
       "    <tr>\n",
       "      <th>2008-01-01</th>\n",
       "      <td>15.75</td>\n",
       "      <td>33.650</td>\n",
       "      <td>5.515</td>\n",
       "      <td>7994</td>\n",
       "    </tr>\n",
       "    <tr>\n",
       "      <th>2008-02-01</th>\n",
       "      <td>14.80</td>\n",
       "      <td>34.010</td>\n",
       "      <td>5.820</td>\n",
       "      <td>1430</td>\n",
       "    </tr>\n",
       "    <tr>\n",
       "      <th>2008-03-01</th>\n",
       "      <td>14.30</td>\n",
       "      <td>33.985</td>\n",
       "      <td>5.735</td>\n",
       "      <td>3001</td>\n",
       "    </tr>\n",
       "    <tr>\n",
       "      <th>2008-04-01</th>\n",
       "      <td>13.80</td>\n",
       "      <td>33.960</td>\n",
       "      <td>5.650</td>\n",
       "      <td>1385</td>\n",
       "    </tr>\n",
       "    <tr>\n",
       "      <th>2008-05-01</th>\n",
       "      <td>14.35</td>\n",
       "      <td>34.070</td>\n",
       "      <td>5.235</td>\n",
       "      <td>582</td>\n",
       "    </tr>\n",
       "  </tbody>\n",
       "</table>\n",
       "</div>"
      ],
      "text/plain": [
       "               수온      염분   용존산소   생산량\n",
       "date                                  \n",
       "2008-01-01  15.75  33.650  5.515  7994\n",
       "2008-02-01  14.80  34.010  5.820  1430\n",
       "2008-03-01  14.30  33.985  5.735  3001\n",
       "2008-04-01  13.80  33.960  5.650  1385\n",
       "2008-05-01  14.35  34.070  5.235   582"
      ]
     },
     "execution_count": 194,
     "metadata": {},
     "output_type": "execute_result"
    }
   ],
   "source": [
    "train_set.head()\n"
   ]
  },
  {
   "cell_type": "code",
   "execution_count": 195,
   "metadata": {},
   "outputs": [],
   "source": [
    "#input scale\n",
    "scaler_x=MinMaxScaler()\n",
    "scaler_x.fit(train_set.iloc[:, :-1])\n",
    "\n",
    "train_set.iloc[:, :-1]=scaler_x.transform(train_set.iloc[:, :-1])\n",
    "test_set.iloc[:, :-1]=scaler_x.transform(test_set.iloc[:, :-1])\n",
    "\n",
    "# output scale\n",
    "scaler_y=MinMaxScaler()\n",
    "scaler_y.fit(train_set.iloc[:,[-1]])\n",
    "train_set.iloc[:, -1]=scaler_y.transform(train_set.iloc[:,[-1]])\n",
    "test_set.iloc[:, -1]=scaler_y.transform(test_set.iloc[:,[-1]])"
   ]
  },
  {
   "cell_type": "code",
   "execution_count": 196,
   "metadata": {},
   "outputs": [
    {
     "data": {
      "text/html": [
       "<div>\n",
       "<style scoped>\n",
       "    .dataframe tbody tr th:only-of-type {\n",
       "        vertical-align: middle;\n",
       "    }\n",
       "\n",
       "    .dataframe tbody tr th {\n",
       "        vertical-align: top;\n",
       "    }\n",
       "\n",
       "    .dataframe thead th {\n",
       "        text-align: right;\n",
       "    }\n",
       "</style>\n",
       "<table border=\"1\" class=\"dataframe\">\n",
       "  <thead>\n",
       "    <tr style=\"text-align: right;\">\n",
       "      <th></th>\n",
       "      <th>수온</th>\n",
       "      <th>염분</th>\n",
       "      <th>용존산소</th>\n",
       "      <th>생산량</th>\n",
       "    </tr>\n",
       "    <tr>\n",
       "      <th>date</th>\n",
       "      <th></th>\n",
       "      <th></th>\n",
       "      <th></th>\n",
       "      <th></th>\n",
       "    </tr>\n",
       "  </thead>\n",
       "  <tbody>\n",
       "    <tr>\n",
       "      <th>2021-04-01</th>\n",
       "      <td>-0.825777</td>\n",
       "      <td>-10.676201</td>\n",
       "      <td>-1.169752</td>\n",
       "      <td>0.051640</td>\n",
       "    </tr>\n",
       "    <tr>\n",
       "      <th>2021-05-01</th>\n",
       "      <td>-0.823645</td>\n",
       "      <td>-10.697753</td>\n",
       "      <td>-1.160281</td>\n",
       "      <td>0.001904</td>\n",
       "    </tr>\n",
       "    <tr>\n",
       "      <th>2021-06-01</th>\n",
       "      <td>-0.821514</td>\n",
       "      <td>-10.719304</td>\n",
       "      <td>-1.150811</td>\n",
       "      <td>0.003699</td>\n",
       "    </tr>\n",
       "    <tr>\n",
       "      <th>2021-07-01</th>\n",
       "      <td>0.481752</td>\n",
       "      <td>0.570934</td>\n",
       "      <td>0.330924</td>\n",
       "      <td>0.056521</td>\n",
       "    </tr>\n",
       "    <tr>\n",
       "      <th>2021-08-01</th>\n",
       "      <td>0.518248</td>\n",
       "      <td>0.290657</td>\n",
       "      <td>-0.012455</td>\n",
       "      <td>0.127052</td>\n",
       "    </tr>\n",
       "    <tr>\n",
       "      <th>2021-09-01</th>\n",
       "      <td>0.678832</td>\n",
       "      <td>0.486159</td>\n",
       "      <td>0.143619</td>\n",
       "      <td>0.297469</td>\n",
       "    </tr>\n",
       "    <tr>\n",
       "      <th>2021-10-01</th>\n",
       "      <td>0.839416</td>\n",
       "      <td>0.681661</td>\n",
       "      <td>0.299694</td>\n",
       "      <td>0.250558</td>\n",
       "    </tr>\n",
       "    <tr>\n",
       "      <th>2021-11-01</th>\n",
       "      <td>0.620438</td>\n",
       "      <td>0.747405</td>\n",
       "      <td>0.382949</td>\n",
       "      <td>0.355567</td>\n",
       "    </tr>\n",
       "    <tr>\n",
       "      <th>2021-12-01</th>\n",
       "      <td>0.401460</td>\n",
       "      <td>0.813149</td>\n",
       "      <td>0.466203</td>\n",
       "      <td>0.584826</td>\n",
       "    </tr>\n",
       "    <tr>\n",
       "      <th>2022-01-01</th>\n",
       "      <td>0.288321</td>\n",
       "      <td>0.858131</td>\n",
       "      <td>0.591066</td>\n",
       "      <td>0.294339</td>\n",
       "    </tr>\n",
       "    <tr>\n",
       "      <th>2022-02-01</th>\n",
       "      <td>0.175182</td>\n",
       "      <td>0.903114</td>\n",
       "      <td>0.715930</td>\n",
       "      <td>0.047283</td>\n",
       "    </tr>\n",
       "    <tr>\n",
       "      <th>2022-03-01</th>\n",
       "      <td>0.218978</td>\n",
       "      <td>0.885813</td>\n",
       "      <td>0.721138</td>\n",
       "      <td>0.073070</td>\n",
       "    </tr>\n",
       "    <tr>\n",
       "      <th>2022-04-01</th>\n",
       "      <td>0.262774</td>\n",
       "      <td>0.868512</td>\n",
       "      <td>0.726346</td>\n",
       "      <td>0.003262</td>\n",
       "    </tr>\n",
       "    <tr>\n",
       "      <th>2022-05-01</th>\n",
       "      <td>0.383212</td>\n",
       "      <td>0.799308</td>\n",
       "      <td>0.700324</td>\n",
       "      <td>0.005035</td>\n",
       "    </tr>\n",
       "    <tr>\n",
       "      <th>2022-06-01</th>\n",
       "      <td>0.503650</td>\n",
       "      <td>0.730104</td>\n",
       "      <td>0.674303</td>\n",
       "      <td>0.012762</td>\n",
       "    </tr>\n",
       "    <tr>\n",
       "      <th>2022-07-01</th>\n",
       "      <td>0.554745</td>\n",
       "      <td>0.536332</td>\n",
       "      <td>0.362135</td>\n",
       "      <td>0.054836</td>\n",
       "    </tr>\n",
       "    <tr>\n",
       "      <th>2022-08-01</th>\n",
       "      <td>0.605839</td>\n",
       "      <td>0.342561</td>\n",
       "      <td>0.049967</td>\n",
       "      <td>0.085329</td>\n",
       "    </tr>\n",
       "    <tr>\n",
       "      <th>2022-09-01</th>\n",
       "      <td>0.704380</td>\n",
       "      <td>0.551903</td>\n",
       "      <td>0.211250</td>\n",
       "      <td>0.120222</td>\n",
       "    </tr>\n",
       "    <tr>\n",
       "      <th>2022-10-01</th>\n",
       "      <td>0.802920</td>\n",
       "      <td>0.761246</td>\n",
       "      <td>0.372533</td>\n",
       "      <td>0.116829</td>\n",
       "    </tr>\n",
       "    <tr>\n",
       "      <th>2022-11-01</th>\n",
       "      <td>0.572993</td>\n",
       "      <td>0.804498</td>\n",
       "      <td>0.393346</td>\n",
       "      <td>0.536995</td>\n",
       "    </tr>\n",
       "    <tr>\n",
       "      <th>2022-12-01</th>\n",
       "      <td>0.343066</td>\n",
       "      <td>0.847751</td>\n",
       "      <td>0.414160</td>\n",
       "      <td>0.363163</td>\n",
       "    </tr>\n",
       "  </tbody>\n",
       "</table>\n",
       "</div>"
      ],
      "text/plain": [
       "                  수온         염분      용존산소       생산량\n",
       "date                                               \n",
       "2021-04-01 -0.825777 -10.676201 -1.169752  0.051640\n",
       "2021-05-01 -0.823645 -10.697753 -1.160281  0.001904\n",
       "2021-06-01 -0.821514 -10.719304 -1.150811  0.003699\n",
       "2021-07-01  0.481752   0.570934  0.330924  0.056521\n",
       "2021-08-01  0.518248   0.290657 -0.012455  0.127052\n",
       "2021-09-01  0.678832   0.486159  0.143619  0.297469\n",
       "2021-10-01  0.839416   0.681661  0.299694  0.250558\n",
       "2021-11-01  0.620438   0.747405  0.382949  0.355567\n",
       "2021-12-01  0.401460   0.813149  0.466203  0.584826\n",
       "2022-01-01  0.288321   0.858131  0.591066  0.294339\n",
       "2022-02-01  0.175182   0.903114  0.715930  0.047283\n",
       "2022-03-01  0.218978   0.885813  0.721138  0.073070\n",
       "2022-04-01  0.262774   0.868512  0.726346  0.003262\n",
       "2022-05-01  0.383212   0.799308  0.700324  0.005035\n",
       "2022-06-01  0.503650   0.730104  0.674303  0.012762\n",
       "2022-07-01  0.554745   0.536332  0.362135  0.054836\n",
       "2022-08-01  0.605839   0.342561  0.049967  0.085329\n",
       "2022-09-01  0.704380   0.551903  0.211250  0.120222\n",
       "2022-10-01  0.802920   0.761246  0.372533  0.116829\n",
       "2022-11-01  0.572993   0.804498  0.393346  0.536995\n",
       "2022-12-01  0.343066   0.847751  0.414160  0.363163"
      ]
     },
     "execution_count": 196,
     "metadata": {},
     "output_type": "execute_result"
    }
   ],
   "source": [
    "test_set[:]"
   ]
  },
  {
   "cell_type": "code",
   "execution_count": 197,
   "metadata": {},
   "outputs": [],
   "source": [
    "import torch\n",
    "import torch.nn as nn\n",
    "import torch.functional as F\n",
    "import torch.optim as optim\n",
    "from torch.utils.data import TensorDataset # 텐서데이터셋\n",
    "from torch.utils.data import DataLoader # 데이터로더\n",
    "import numpy as np"
   ]
  },
  {
   "cell_type": "code",
   "execution_count": 198,
   "metadata": {},
   "outputs": [],
   "source": [
    "device = torch.device('cuda:0' if torch.cuda.is_available() else 'cpu')\n",
    "torch.manual_seed(125)\n",
    "if torch.cuda.is_available() :\n",
    "    torch.cuda.manual_seed_all(125)"
   ]
  },
  {
   "cell_type": "code",
   "execution_count": 199,
   "metadata": {},
   "outputs": [],
   "source": [
    "def build_dataset(time_series, seq_length):\n",
    "    dataX=[]\n",
    "    dataY=[]\n",
    "    for i in range(0, len(time_series)-seq_length):\n",
    "        x_=time_series[i:i+seq_length, :]\n",
    "        y_=time_series[i+seq_length,[2]]\n",
    "        dataX.append(x_)\n",
    "        dataY.append(y_)\n",
    "    return np.array(dataX), np.array(dataY)"
   ]
  },
  {
   "cell_type": "code",
   "execution_count": 200,
   "metadata": {},
   "outputs": [
    {
     "name": "stdout",
     "output_type": "stream",
     "text": [
      "(159, 3, 4) (159, 1)\n",
      "(18, 3, 4) (18, 1)\n"
     ]
    }
   ],
   "source": [
    "trainX, trainY=build_dataset(np.array(train_set), seq_length)\n",
    "testX, testY=build_dataset(np.array(test_set),seq_length)\n",
    "\n",
    "print(trainX.shape, trainY.shape)\n",
    "print(testX.shape, testY.shape)"
   ]
  },
  {
   "cell_type": "code",
   "execution_count": 201,
   "metadata": {},
   "outputs": [
    {
     "name": "stdout",
     "output_type": "stream",
     "text": [
      "torch.Size([159, 3, 4]) torch.Size([159, 1])\n",
      "torch.Size([18, 3, 4]) torch.Size([18, 1])\n"
     ]
    }
   ],
   "source": [
    "trainX_tensor=torch.FloatTensor(trainX)\n",
    "trainY_tensor=torch.FloatTensor(trainY)\n",
    "testX_tensor=torch.FloatTensor(testX)\n",
    "testY_tensor=torch.FloatTensor(testY)\n",
    "\n",
    "print(trainX_tensor.size(), trainY_tensor.size())\n",
    "print(testX_tensor.size(), testY_tensor.size())"
   ]
  },
  {
   "cell_type": "code",
   "execution_count": 202,
   "metadata": {},
   "outputs": [],
   "source": [
    "train_dataset=TensorDataset(trainX_tensor, trainY_tensor)\n",
    "train_loader=DataLoader(train_dataset, shuffle=True,\n",
    "                        drop_last=True)"
   ]
  },
  {
   "cell_type": "code",
   "execution_count": 203,
   "metadata": {},
   "outputs": [],
   "source": [
    "# 수정 필요\n",
    "\n",
    "data_dim=4\n",
    "hidden_dim=8\n",
    "output_dim=1\n",
    "learning_late=0.01\n",
    "epochs=1000"
   ]
  },
  {
   "cell_type": "code",
   "execution_count": 204,
   "metadata": {},
   "outputs": [],
   "source": [
    "class Net(nn.Module):\n",
    "  def __init__(self, input_dim, hidden_dim, seq_length, output_dim, layers):\n",
    "    super(Net, self).__init__()\n",
    "    self.hidden_dim=hidden_dim\n",
    "    self.seq_length=seq_length\n",
    "    self.output_dim=output_dim\n",
    "    self.layers=layers\n",
    "\n",
    "    self.lstm=nn.LSTM(input_dim, \n",
    "                      hidden_dim, \n",
    "                      num_layers=layers,\n",
    "                      batch_first=True)\n",
    "    \n",
    "    self.fc=nn.Linear(hidden_dim, output_dim, bias=True)\n",
    "\n",
    "  def reset_hidden_state(self):\n",
    "    self.hidden=(\n",
    "      torch.zeros(self.layers, self.seq_length, self.hidden_dim),\n",
    "      torch.zeros(self.layers, self.seq_length, self.hidden_dim)\n",
    "    )\n",
    "  def forward(self, x):\n",
    "    x, _status=self.lstm(x)\n",
    "    x=self.fc(x[:, -1])\n",
    "    return x"
   ]
  },
  {
   "cell_type": "code",
   "execution_count": 205,
   "metadata": {},
   "outputs": [],
   "source": [
    "def train_model(model, train_df, epochs=None, lr=None, verbos=10, patience=10):\n",
    "  criterion=nn.MSELoss().to(device)\n",
    "  optimizer=optim.Adam(model.parameters(), lr=learning_late)\n",
    "  n_epochs=epochs\n",
    "\n",
    "  train_hist=np.zeros(n_epochs)\n",
    "  for epoch in range(n_epochs):\n",
    "    avg_cost=0\n",
    "    total_batch=len(train_df)\n",
    "\n",
    "    for batch_idxm, sample in enumerate(train_df):\n",
    "      x_train, y_train=sample\n",
    "      model.reset_hidden_state()\n",
    "      output=model(x_train)\n",
    "      loss=criterion(output, y_train)\n",
    "      optimizer.zero_grad()\n",
    "      loss.backward()\n",
    "      optimizer.step()\n",
    "      avg_cost+=loss/total_batch\n",
    "    \n",
    "    train_hist[epoch]=avg_cost\n",
    "\n",
    "    if epoch % verbos==0:\n",
    "      print('Epoch:{}, train_loss:{}'.format(epoch, avg_cost.item()))\n",
    "\n",
    "    if(epoch % patience==0) & (epoch!=0):\n",
    "      if train_hist[epoch-patience] < train_hist[epoch]:\n",
    "        print(\"Early Stopping\")\n",
    "        break\n",
    "  return model.eval(), train_hist\n",
    "\n",
    "# best loss / model 추가"
   ]
  },
  {
   "cell_type": "code",
   "execution_count": 206,
   "metadata": {},
   "outputs": [
    {
     "name": "stdout",
     "output_type": "stream",
     "text": [
      "Epoch:0, train_loss:0.07633904367685318\n",
      "Epoch:20, train_loss:0.029363298788666725\n",
      "Epoch:40, train_loss:0.02894134260714054\n",
      "Epoch:60, train_loss:0.026643387973308563\n",
      "Epoch:80, train_loss:0.027230430394411087\n",
      "Epoch:100, train_loss:0.025850169360637665\n",
      "Epoch:120, train_loss:0.022313574329018593\n",
      "Epoch:140, train_loss:0.015675807371735573\n",
      "Epoch:160, train_loss:0.022876078262925148\n",
      "Epoch:180, train_loss:0.020331554114818573\n",
      "Epoch:200, train_loss:0.005977799650281668\n",
      "Epoch:220, train_loss:0.005480966530740261\n",
      "Epoch:240, train_loss:0.0036888171453028917\n",
      "Epoch:260, train_loss:0.003615656867623329\n",
      "Epoch:280, train_loss:0.018355168402194977\n",
      "Epoch:300, train_loss:0.00311302556656301\n",
      "Epoch:320, train_loss:0.0028020599856972694\n",
      "Epoch:340, train_loss:0.0022890171967446804\n",
      "Epoch:360, train_loss:0.032787106931209564\n",
      "Epoch:380, train_loss:0.002601020270958543\n",
      "Epoch:400, train_loss:0.0031893306877464056\n",
      "Early Stopping\n"
     ]
    }
   ],
   "source": [
    "net=Net(data_dim, hidden_dim, seq_length, output_dim, 1)\n",
    "model, train_hist=train_model(net, train_loader, epochs=epochs,\n",
    "                              lr=learning_late, verbos=20, patience=100)"
   ]
  },
  {
   "cell_type": "code",
   "execution_count": 170,
   "metadata": {},
   "outputs": [
    {
     "data": {
      "image/png": "[encoded data removed]",
      "text/plain": [
       "<Figure size 1000x600 with 1 Axes>"
      ]
     },
     "metadata": {},
     "output_type": "display_data"
    }
   ],
   "source": [
    "fig=plt.figure(figsize=(10, 6))\n",
    "plt.plot(train_hist, label='Training loss')\n",
    "plt.legend()\n",
    "plt.show()"
   ]
  },
  {
   "cell_type": "code",
   "execution_count": 183,
   "metadata": {},
   "outputs": [
    {
     "name": "stdout",
     "output_type": "stream",
     "text": [
      "MAe SCORE: 6277.666042166633\n"
     ]
    }
   ],
   "source": [
    "with torch.no_grad():\n",
    "    pred=[]\n",
    "    for pr in range(len(testX_tensor)):\n",
    "        model.reset_hidden_state()\n",
    "        predicted=model(torch.unsqueeze(testX_tensor[pr],0))\n",
    "        predicted=torch.flatten(predicted).item()\n",
    "        pred.append(predicted)\n",
    "\n",
    "    pred_inverse=scaler_y.inverse_transform(np.array(pred).reshape(-1, 1))\n",
    "    testY_inverse=scaler_y.inverse_transform(testY_tensor)\n",
    "\n",
    "def MAE(true, pred):\n",
    "    return np.mean(np.abs(true-pred))\n",
    "\n",
    "\n",
    "print('MAe SCORE:', MAE(pred_inverse, testY_inverse))"
   ]
  },
  {
   "cell_type": "code",
   "execution_count": 188,
   "metadata": {},
   "outputs": [],
   "source": [
    "date=['2021-07',\n",
    "               '2021-08', '2021-09', '2021-10', '2021-11',\n",
    "               '2021-12', '2022-01', '2022-02', '2022-03',\n",
    "               '2022-04', '2022-05', '2022-06', '2022-07',\n",
    "               '2022-08', '2022-09', '2022-10', '2022-11',\n",
    "               '2022-12']"
   ]
  },
  {
   "cell_type": "code",
   "execution_count": 191,
   "metadata": {},
   "outputs": [
    {
     "data": {
      "image/png": "[encoded data removed]",
      "text/plain": [
       "<Figure size 1600x600 with 1 Axes>"
      ]
     },
     "metadata": {},
     "output_type": "display_data"
    }
   ],
   "source": [
    "fig=plt.figure(figsize=(16,6))\n",
    "plt.title('수온, 용존산소에 따른 고등어 생산량 예측')\n",
    "plt.plot(np.arange(len(pred_inverse)), pred_inverse, label='pred')\n",
    "plt.plot(np.arange(len(testY_inverse)), testY_inverse, label='true')\n",
    "plt.xlabel('년도')\n",
    "\n",
    "plt.xticks(np.arange(len(pred_inverse)),date)\n",
    "plt.legend()\n",
    "plt.show()"
   ]
  },
  {
   "cell_type": "code",
   "execution_count": 190,
   "metadata": {},
   "outputs": [
    {
     "data": {
      "text/plain": [
       "DatetimeIndex(['2021-04-01', '2021-05-01', '2021-06-01', '2021-07-01',\n",
       "               '2021-08-01', '2021-09-01', '2021-10-01', '2021-11-01',\n",
       "               '2021-12-01', '2022-01-01', '2022-02-01', '2022-03-01',\n",
       "               '2022-04-01', '2022-05-01', '2022-06-01', '2022-07-01',\n",
       "               '2022-08-01', '2022-09-01', '2022-10-01', '2022-11-01',\n",
       "               '2022-12-01'],\n",
       "              dtype='datetime64[ns]', name='date', freq=None)"
      ]
     },
     "execution_count": 190,
     "metadata": {},
     "output_type": "execute_result"
    }
   ],
   "source": [
    "test_set.index"
   ]
  }
 ],
 "metadata": {
  "kernelspec": {
   "display_name": "Python 3",
   "language": "python",
   "name": "python3"
  },
  "language_info": {
   "codemirror_mode": {
    "name": "ipython",
    "version": 3
   },
   "file_extension": ".py",
   "mimetype": "text/x-python",
   "name": "python",
   "nbconvert_exporter": "python",
   "pygments_lexer": "ipython3",
   "version": "3.12.0"
  }
 },
 "nbformat": 4,
 "nbformat_minor": 2
}
