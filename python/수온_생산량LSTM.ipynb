{
 "cells": [
  {
   "cell_type": "code",
   "execution_count": 269,
   "metadata": {},
   "outputs": [],
   "source": [
    "import pandas as pd\n",
    "import random\n",
    "import matplotlib.pyplot as plt\n",
    "from sklearn.preprocessing import MinMaxScaler"
   ]
  },
  {
   "cell_type": "code",
   "execution_count": 270,
   "metadata": {},
   "outputs": [],
   "source": [
    "#한글 깨짐 방지\n",
    "from matplotlib import rc, font_manager\n",
    "font_path='data/fonts/malgun.ttf'\n",
    "font_name=font_manager.FontProperties(fname=font_path).get_name()\n",
    "rc('font',family=font_name)\n",
    "#마이너스 깨짐 방지\n",
    "plt.rcParams['axes.unicode_minus']=False"
   ]
  },
  {
   "cell_type": "code",
   "execution_count": 271,
   "metadata": {},
   "outputs": [],
   "source": [
    "temperature207=pd.read_csv('./data/temperature/207정선_월별.csv')\n",
    "mackerel=pd.read_csv('./data/mackerel/부산_고등어_생산량(선어).csv',encoding='cp949')\n",
    "\n",
    "df=pd.merge(temperature207,mackerel,on=['년도','월'])\n",
    "# df.to_csv('data/merge/207_mackerel_product.csv',index=False,encoding='utf-8-sig')"
   ]
  },
  {
   "cell_type": "code",
   "execution_count": 272,
   "metadata": {},
   "outputs": [
    {
     "name": "stdout",
     "output_type": "stream",
     "text": [
      "<class 'pandas.core.frame.DataFrame'>\n",
      "DatetimeIndex: 138 entries, 2008-01-01 to 2022-12-01\n",
      "Data columns (total 4 columns):\n",
      " #   Column  Non-Null Count  Dtype  \n",
      "---  ------  --------------  -----  \n",
      " 0   수온      138 non-null    float64\n",
      " 1   염분      138 non-null    float64\n",
      " 2   용존산소    138 non-null    float64\n",
      " 3   생산량     138 non-null    int64  \n",
      "dtypes: float64(3), int64(1)\n",
      "memory usage: 5.4 KB\n"
     ]
    },
    {
     "data": {
      "text/html": [
       "<div>\n",
       "<style scoped>\n",
       "    .dataframe tbody tr th:only-of-type {\n",
       "        vertical-align: middle;\n",
       "    }\n",
       "\n",
       "    .dataframe tbody tr th {\n",
       "        vertical-align: top;\n",
       "    }\n",
       "\n",
       "    .dataframe thead th {\n",
       "        text-align: right;\n",
       "    }\n",
       "</style>\n",
       "<table border=\"1\" class=\"dataframe\">\n",
       "  <thead>\n",
       "    <tr style=\"text-align: right;\">\n",
       "      <th></th>\n",
       "      <th>수온</th>\n",
       "      <th>염분</th>\n",
       "      <th>용존산소</th>\n",
       "      <th>생산량</th>\n",
       "    </tr>\n",
       "    <tr>\n",
       "      <th>date</th>\n",
       "      <th></th>\n",
       "      <th></th>\n",
       "      <th></th>\n",
       "      <th></th>\n",
       "    </tr>\n",
       "  </thead>\n",
       "  <tbody>\n",
       "    <tr>\n",
       "      <th>2008-01-01</th>\n",
       "      <td>15.75</td>\n",
       "      <td>33.650</td>\n",
       "      <td>5.52</td>\n",
       "      <td>7994</td>\n",
       "    </tr>\n",
       "    <tr>\n",
       "      <th>2008-02-01</th>\n",
       "      <td>14.80</td>\n",
       "      <td>34.010</td>\n",
       "      <td>5.82</td>\n",
       "      <td>1430</td>\n",
       "    </tr>\n",
       "    <tr>\n",
       "      <th>2008-03-01</th>\n",
       "      <td>14.30</td>\n",
       "      <td>33.985</td>\n",
       "      <td>5.74</td>\n",
       "      <td>3001</td>\n",
       "    </tr>\n",
       "    <tr>\n",
       "      <th>2008-07-01</th>\n",
       "      <td>15.10</td>\n",
       "      <td>33.940</td>\n",
       "      <td>5.13</td>\n",
       "      <td>3946</td>\n",
       "    </tr>\n",
       "    <tr>\n",
       "      <th>2008-08-01</th>\n",
       "      <td>15.30</td>\n",
       "      <td>33.700</td>\n",
       "      <td>5.44</td>\n",
       "      <td>7535</td>\n",
       "    </tr>\n",
       "    <tr>\n",
       "      <th>...</th>\n",
       "      <td>...</td>\n",
       "      <td>...</td>\n",
       "      <td>...</td>\n",
       "      <td>...</td>\n",
       "    </tr>\n",
       "    <tr>\n",
       "      <th>2022-08-01</th>\n",
       "      <td>20.00</td>\n",
       "      <td>32.820</td>\n",
       "      <td>3.97</td>\n",
       "      <td>3900</td>\n",
       "    </tr>\n",
       "    <tr>\n",
       "      <th>2022-09-01</th>\n",
       "      <td>21.35</td>\n",
       "      <td>33.800</td>\n",
       "      <td>4.12</td>\n",
       "      <td>5494</td>\n",
       "    </tr>\n",
       "    <tr>\n",
       "      <th>2022-10-01</th>\n",
       "      <td>22.70</td>\n",
       "      <td>34.030</td>\n",
       "      <td>4.86</td>\n",
       "      <td>5339</td>\n",
       "    </tr>\n",
       "    <tr>\n",
       "      <th>2022-11-01</th>\n",
       "      <td>18.60</td>\n",
       "      <td>34.180</td>\n",
       "      <td>5.41</td>\n",
       "      <td>16592</td>\n",
       "    </tr>\n",
       "    <tr>\n",
       "      <th>2022-12-01</th>\n",
       "      <td>17.60</td>\n",
       "      <td>34.500</td>\n",
       "      <td>4.41</td>\n",
       "      <td>24533</td>\n",
       "    </tr>\n",
       "  </tbody>\n",
       "</table>\n",
       "<p>138 rows × 4 columns</p>\n",
       "</div>"
      ],
      "text/plain": [
       "               수온      염분  용존산소    생산량\n",
       "date                                  \n",
       "2008-01-01  15.75  33.650  5.52   7994\n",
       "2008-02-01  14.80  34.010  5.82   1430\n",
       "2008-03-01  14.30  33.985  5.74   3001\n",
       "2008-07-01  15.10  33.940  5.13   3946\n",
       "2008-08-01  15.30  33.700  5.44   7535\n",
       "...           ...     ...   ...    ...\n",
       "2022-08-01  20.00  32.820  3.97   3900\n",
       "2022-09-01  21.35  33.800  4.12   5494\n",
       "2022-10-01  22.70  34.030  4.86   5339\n",
       "2022-11-01  18.60  34.180  5.41  16592\n",
       "2022-12-01  17.60  34.500  4.41  24533\n",
       "\n",
       "[138 rows x 4 columns]"
      ]
     },
     "execution_count": 272,
     "metadata": {},
     "output_type": "execute_result"
    }
   ],
   "source": [
    "merge_207=pd.read_csv('./data/merge/207_mackerel_product3.csv')\n",
    "\n",
    "# '%Y-%m' 형식으로 변환\n",
    "merge_207['date'] = pd.to_datetime(merge_207['date'], format='%Y-%m-%d')\n",
    "\n",
    "# 'date' 열을 인덱스로 설정\n",
    "merge_207.set_index('date', inplace=True)\n",
    "\n",
    "merge_207=merge_207[['수온','염분','용존산소','생산량']]\n",
    "merge_207=merge_207.dropna()\n",
    "merge_207.info()\n",
    "merge_207"
   ]
  },
  {
   "cell_type": "code",
   "execution_count": 273,
   "metadata": {},
   "outputs": [
    {
     "name": "stdout",
     "output_type": "stream",
     "text": [
      "(129, 4) (12, 4)\n"
     ]
    }
   ],
   "source": [
    "seq_length=3 # 3~7사이 값 설정\n",
    "train_size = int(len(merge_207)*0.94)\n",
    "train_set=merge_207[0:train_size]\n",
    "test_set=merge_207[train_size-seq_length:]\n",
    "print(train_set.shape,test_set.shape)\n"
   ]
  },
  {
   "cell_type": "code",
   "execution_count": 274,
   "metadata": {},
   "outputs": [
    {
     "data": {
      "text/html": [
       "<div>\n",
       "<style scoped>\n",
       "    .dataframe tbody tr th:only-of-type {\n",
       "        vertical-align: middle;\n",
       "    }\n",
       "\n",
       "    .dataframe tbody tr th {\n",
       "        vertical-align: top;\n",
       "    }\n",
       "\n",
       "    .dataframe thead th {\n",
       "        text-align: right;\n",
       "    }\n",
       "</style>\n",
       "<table border=\"1\" class=\"dataframe\">\n",
       "  <thead>\n",
       "    <tr style=\"text-align: right;\">\n",
       "      <th></th>\n",
       "      <th>수온</th>\n",
       "      <th>염분</th>\n",
       "      <th>용존산소</th>\n",
       "      <th>생산량</th>\n",
       "    </tr>\n",
       "    <tr>\n",
       "      <th>date</th>\n",
       "      <th></th>\n",
       "      <th></th>\n",
       "      <th></th>\n",
       "      <th></th>\n",
       "    </tr>\n",
       "  </thead>\n",
       "  <tbody>\n",
       "    <tr>\n",
       "      <th>2008-01-01</th>\n",
       "      <td>15.75</td>\n",
       "      <td>33.650</td>\n",
       "      <td>5.52</td>\n",
       "      <td>7994</td>\n",
       "    </tr>\n",
       "    <tr>\n",
       "      <th>2008-02-01</th>\n",
       "      <td>14.80</td>\n",
       "      <td>34.010</td>\n",
       "      <td>5.82</td>\n",
       "      <td>1430</td>\n",
       "    </tr>\n",
       "    <tr>\n",
       "      <th>2008-03-01</th>\n",
       "      <td>14.30</td>\n",
       "      <td>33.985</td>\n",
       "      <td>5.74</td>\n",
       "      <td>3001</td>\n",
       "    </tr>\n",
       "    <tr>\n",
       "      <th>2008-07-01</th>\n",
       "      <td>15.10</td>\n",
       "      <td>33.940</td>\n",
       "      <td>5.13</td>\n",
       "      <td>3946</td>\n",
       "    </tr>\n",
       "    <tr>\n",
       "      <th>2008-08-01</th>\n",
       "      <td>15.30</td>\n",
       "      <td>33.700</td>\n",
       "      <td>5.44</td>\n",
       "      <td>7535</td>\n",
       "    </tr>\n",
       "  </tbody>\n",
       "</table>\n",
       "</div>"
      ],
      "text/plain": [
       "               수온      염분  용존산소   생산량\n",
       "date                                 \n",
       "2008-01-01  15.75  33.650  5.52  7994\n",
       "2008-02-01  14.80  34.010  5.82  1430\n",
       "2008-03-01  14.30  33.985  5.74  3001\n",
       "2008-07-01  15.10  33.940  5.13  3946\n",
       "2008-08-01  15.30  33.700  5.44  7535"
      ]
     },
     "execution_count": 274,
     "metadata": {},
     "output_type": "execute_result"
    }
   ],
   "source": [
    "train_set.head()\n"
   ]
  },
  {
   "cell_type": "code",
   "execution_count": 275,
   "metadata": {},
   "outputs": [],
   "source": [
    "#input scale\n",
    "scaler_x=MinMaxScaler()\n",
    "scaler_x.fit(train_set.iloc[:, :-1])\n",
    "\n",
    "train_set.iloc[:, :-1]=scaler_x.transform(train_set.iloc[:, :-1])\n",
    "test_set.iloc[:, :-1]=scaler_x.transform(test_set.iloc[:, :-1])\n",
    "\n",
    "# output scale\n",
    "scaler_y=MinMaxScaler()\n",
    "scaler_y.fit(train_set.iloc[:,[-1]])\n",
    "train_set.iloc[:, -1]=scaler_y.transform(train_set.iloc[:,[-1]])\n",
    "test_set.iloc[:, -1]=scaler_y.transform(test_set.iloc[:,[-1]])"
   ]
  },
  {
   "cell_type": "code",
   "execution_count": 276,
   "metadata": {},
   "outputs": [
    {
     "data": {
      "text/html": [
       "<div>\n",
       "<style scoped>\n",
       "    .dataframe tbody tr th:only-of-type {\n",
       "        vertical-align: middle;\n",
       "    }\n",
       "\n",
       "    .dataframe tbody tr th {\n",
       "        vertical-align: top;\n",
       "    }\n",
       "\n",
       "    .dataframe thead th {\n",
       "        text-align: right;\n",
       "    }\n",
       "</style>\n",
       "<table border=\"1\" class=\"dataframe\">\n",
       "  <thead>\n",
       "    <tr style=\"text-align: right;\">\n",
       "      <th></th>\n",
       "      <th>수온</th>\n",
       "      <th>염분</th>\n",
       "      <th>용존산소</th>\n",
       "      <th>생산량</th>\n",
       "    </tr>\n",
       "    <tr>\n",
       "      <th>date</th>\n",
       "      <th></th>\n",
       "      <th></th>\n",
       "      <th></th>\n",
       "      <th></th>\n",
       "    </tr>\n",
       "  </thead>\n",
       "  <tbody>\n",
       "    <tr>\n",
       "      <th>2021-10-01</th>\n",
       "      <td>-0.792743</td>\n",
       "      <td>-10.777972</td>\n",
       "      <td>-1.446308</td>\n",
       "      <td>0.097876</td>\n",
       "    </tr>\n",
       "    <tr>\n",
       "      <th>2021-11-01</th>\n",
       "      <td>-0.808727</td>\n",
       "      <td>-10.755223</td>\n",
       "      <td>-1.406708</td>\n",
       "      <td>0.097921</td>\n",
       "    </tr>\n",
       "    <tr>\n",
       "      <th>2021-12-01</th>\n",
       "      <td>-0.824711</td>\n",
       "      <td>-10.732474</td>\n",
       "      <td>-1.368830</td>\n",
       "      <td>0.097921</td>\n",
       "    </tr>\n",
       "    <tr>\n",
       "      <th>2022-01-01</th>\n",
       "      <td>0.288321</td>\n",
       "      <td>0.858131</td>\n",
       "      <td>0.535270</td>\n",
       "      <td>0.275351</td>\n",
       "    </tr>\n",
       "    <tr>\n",
       "      <th>2022-02-01</th>\n",
       "      <td>0.248175</td>\n",
       "      <td>0.903114</td>\n",
       "      <td>0.070539</td>\n",
       "      <td>0.021648</td>\n",
       "    </tr>\n",
       "    <tr>\n",
       "      <th>2022-03-01</th>\n",
       "      <td>0.218978</td>\n",
       "      <td>0.885813</td>\n",
       "      <td>0.821577</td>\n",
       "      <td>0.048129</td>\n",
       "    </tr>\n",
       "    <tr>\n",
       "      <th>2022-07-01</th>\n",
       "      <td>0.554745</td>\n",
       "      <td>0.536332</td>\n",
       "      <td>0.414938</td>\n",
       "      <td>0.029403</td>\n",
       "    </tr>\n",
       "    <tr>\n",
       "      <th>2022-08-01</th>\n",
       "      <td>0.605839</td>\n",
       "      <td>0.342561</td>\n",
       "      <td>0.058091</td>\n",
       "      <td>0.060717</td>\n",
       "    </tr>\n",
       "    <tr>\n",
       "      <th>2022-09-01</th>\n",
       "      <td>0.704380</td>\n",
       "      <td>0.681661</td>\n",
       "      <td>0.120332</td>\n",
       "      <td>0.096549</td>\n",
       "    </tr>\n",
       "    <tr>\n",
       "      <th>2022-10-01</th>\n",
       "      <td>0.802920</td>\n",
       "      <td>0.761246</td>\n",
       "      <td>0.427386</td>\n",
       "      <td>0.093065</td>\n",
       "    </tr>\n",
       "    <tr>\n",
       "      <th>2022-11-01</th>\n",
       "      <td>0.503650</td>\n",
       "      <td>0.813149</td>\n",
       "      <td>0.655602</td>\n",
       "      <td>0.346027</td>\n",
       "    </tr>\n",
       "    <tr>\n",
       "      <th>2022-12-01</th>\n",
       "      <td>0.430657</td>\n",
       "      <td>0.923875</td>\n",
       "      <td>0.240664</td>\n",
       "      <td>0.524536</td>\n",
       "    </tr>\n",
       "  </tbody>\n",
       "</table>\n",
       "</div>"
      ],
      "text/plain": [
       "                  수온         염분      용존산소       생산량\n",
       "date                                               \n",
       "2021-10-01 -0.792743 -10.777972 -1.446308  0.097876\n",
       "2021-11-01 -0.808727 -10.755223 -1.406708  0.097921\n",
       "2021-12-01 -0.824711 -10.732474 -1.368830  0.097921\n",
       "2022-01-01  0.288321   0.858131  0.535270  0.275351\n",
       "2022-02-01  0.248175   0.903114  0.070539  0.021648\n",
       "2022-03-01  0.218978   0.885813  0.821577  0.048129\n",
       "2022-07-01  0.554745   0.536332  0.414938  0.029403\n",
       "2022-08-01  0.605839   0.342561  0.058091  0.060717\n",
       "2022-09-01  0.704380   0.681661  0.120332  0.096549\n",
       "2022-10-01  0.802920   0.761246  0.427386  0.093065\n",
       "2022-11-01  0.503650   0.813149  0.655602  0.346027\n",
       "2022-12-01  0.430657   0.923875  0.240664  0.524536"
      ]
     },
     "execution_count": 276,
     "metadata": {},
     "output_type": "execute_result"
    }
   ],
   "source": [
    "test_set[:]"
   ]
  },
  {
   "cell_type": "code",
   "execution_count": 277,
   "metadata": {},
   "outputs": [],
   "source": [
    "import torch\n",
    "import torch.nn as nn\n",
    "import torch.functional as F\n",
    "import torch.optim as optim\n",
    "from torch.utils.data import TensorDataset # 텐서데이터셋\n",
    "from torch.utils.data import DataLoader # 데이터로더\n",
    "import numpy as np"
   ]
  },
  {
   "cell_type": "code",
   "execution_count": 278,
   "metadata": {},
   "outputs": [],
   "source": [
    "device = torch.device('cuda:0' if torch.cuda.is_available() else 'cpu')\n",
    "torch.manual_seed(125)\n",
    "if torch.cuda.is_available() :\n",
    "    torch.cuda.manual_seed_all(125)"
   ]
  },
  {
   "cell_type": "code",
   "execution_count": 279,
   "metadata": {},
   "outputs": [
    {
     "data": {
      "text/plain": [
       "array([[0.09787569],\n",
       "       [0.09792065],\n",
       "       [0.09792065],\n",
       "       [0.27535124],\n",
       "       [0.02164775],\n",
       "       [0.04812858],\n",
       "       [0.02940317],\n",
       "       [0.0607171 ],\n",
       "       [0.0965494 ],\n",
       "       [0.09306508],\n",
       "       [0.34602675],\n",
       "       [0.52453636]])"
      ]
     },
     "execution_count": 279,
     "metadata": {},
     "output_type": "execute_result"
    }
   ],
   "source": [
    "np.array(test_set)[:,[3]]"
   ]
  },
  {
   "cell_type": "code",
   "execution_count": 280,
   "metadata": {},
   "outputs": [],
   "source": [
    "def build_dataset(time_series, seq_length):\n",
    "    dataX=[]\n",
    "    dataY=[]\n",
    "    for i in range(0, len(time_series)-seq_length):\n",
    "        x_=time_series[i:i+seq_length, :]\n",
    "        y_=time_series[i+seq_length,[3]]\n",
    "        dataX.append(x_)\n",
    "        dataY.append(y_)\n",
    "    return np.array(dataX), np.array(dataY)"
   ]
  },
  {
   "cell_type": "code",
   "execution_count": 281,
   "metadata": {},
   "outputs": [
    {
     "name": "stdout",
     "output_type": "stream",
     "text": [
      "(126, 3, 4) (126, 1)\n",
      "(9, 3, 4) (9, 1)\n"
     ]
    }
   ],
   "source": [
    "trainX, trainY=build_dataset(np.array(train_set), seq_length)\n",
    "testX, testY=build_dataset(np.array(test_set),seq_length)\n",
    "\n",
    "print(trainX.shape, trainY.shape)\n",
    "print(testX.shape, testY.shape)"
   ]
  },
  {
   "cell_type": "code",
   "execution_count": 282,
   "metadata": {},
   "outputs": [
    {
     "name": "stdout",
     "output_type": "stream",
     "text": [
      "torch.Size([126, 3, 4]) torch.Size([126, 1])\n",
      "torch.Size([9, 3, 4]) torch.Size([9, 1])\n"
     ]
    }
   ],
   "source": [
    "trainX_tensor=torch.FloatTensor(trainX)\n",
    "trainY_tensor=torch.FloatTensor(trainY)\n",
    "testX_tensor=torch.FloatTensor(testX)\n",
    "testY_tensor=torch.FloatTensor(testY)\n",
    "\n",
    "print(trainX_tensor.size(), trainY_tensor.size())\n",
    "print(testX_tensor.size(), testY_tensor.size())"
   ]
  },
  {
   "cell_type": "code",
   "execution_count": 283,
   "metadata": {},
   "outputs": [],
   "source": [
    "train_dataset=TensorDataset(trainX_tensor, trainY_tensor)\n",
    "train_loader=DataLoader(train_dataset, shuffle=True,\n",
    "                        drop_last=True)"
   ]
  },
  {
   "cell_type": "code",
   "execution_count": 284,
   "metadata": {},
   "outputs": [],
   "source": [
    "# 수정 필요\n",
    "\n",
    "data_dim=4\n",
    "hidden_dim=8\n",
    "output_dim=1\n",
    "learning_late=0.01\n",
    "epochs=1000"
   ]
  },
  {
   "cell_type": "code",
   "execution_count": 285,
   "metadata": {},
   "outputs": [],
   "source": [
    "class Net(nn.Module):\n",
    "  def __init__(self, input_dim, hidden_dim, seq_length, output_dim, layers):\n",
    "    super(Net, self).__init__()\n",
    "    self.hidden_dim=hidden_dim\n",
    "    self.seq_length=seq_length\n",
    "    self.output_dim=output_dim\n",
    "    self.layers=layers\n",
    "\n",
    "    self.lstm=nn.LSTM(input_dim, \n",
    "                      hidden_dim, \n",
    "                      num_layers=layers,\n",
    "                      batch_first=True)\n",
    "    \n",
    "    self.fc=nn.Linear(hidden_dim, output_dim, bias=True)\n",
    "\n",
    "  def reset_hidden_state(self):\n",
    "    self.hidden=(\n",
    "      torch.zeros(self.layers, self.seq_length, self.hidden_dim),\n",
    "      torch.zeros(self.layers, self.seq_length, self.hidden_dim)\n",
    "    )\n",
    "  def forward(self, x):\n",
    "    x, _status=self.lstm(x)\n",
    "    x=self.fc(x[:, -1])\n",
    "    return x"
   ]
  },
  {
   "cell_type": "code",
   "execution_count": 286,
   "metadata": {},
   "outputs": [],
   "source": [
    "def train_model(model, train_df, epochs=None, lr=None, verbos=10, patience=10):\n",
    "  criterion=nn.MSELoss().to(device)\n",
    "  optimizer=optim.Adam(model.parameters(),lr=learning_late)\n",
    "  n_epochs=epochs\n",
    "\n",
    "  train_hist=np.zeros(n_epochs)\n",
    "  for epoch in range(n_epochs):\n",
    "    avg_cost=0\n",
    "    total_batch=len(train_df)\n",
    "\n",
    "    for batch_idxm, sample in enumerate(train_df):\n",
    "      x_train, y_train=sample\n",
    "      model.reset_hidden_state()\n",
    "      output=model(x_train)\n",
    "      loss=criterion(output, y_train)\n",
    "      optimizer.zero_grad()\n",
    "      loss.backward()\n",
    "      optimizer.step()\n",
    "      avg_cost+=loss/total_batch\n",
    "    \n",
    "    train_hist[epoch]=avg_cost\n",
    "\n",
    "    if epoch % verbos==0:\n",
    "      print('Epoch:{}, train_loss:{}'.format(epoch, avg_cost.item()))\n",
    "\n",
    "    if(epoch % patience==0) & (epoch!=0):\n",
    "      if train_hist[epoch-patience] < train_hist[epoch]:\n",
    "        print(\"Early Stopping\")\n",
    "        break\n",
    "  return model.eval(), train_hist\n",
    "\n",
    "# best loss / model 추가"
   ]
  },
  {
   "cell_type": "code",
   "execution_count": 287,
   "metadata": {},
   "outputs": [
    {
     "name": "stdout",
     "output_type": "stream",
     "text": [
      "Epoch:0, train_loss:0.04384349286556244\n",
      "Epoch:20, train_loss:0.023455176502466202\n",
      "Epoch:40, train_loss:0.022367479279637337\n",
      "Epoch:60, train_loss:0.020327605307102203\n",
      "Epoch:80, train_loss:0.017927272245287895\n",
      "Epoch:100, train_loss:0.014639557339251041\n",
      "Epoch:120, train_loss:0.012082148343324661\n",
      "Epoch:140, train_loss:0.008981069549918175\n",
      "Epoch:160, train_loss:0.005795072298496962\n",
      "Epoch:180, train_loss:0.004930491093546152\n",
      "Epoch:200, train_loss:0.00430566119030118\n",
      "Epoch:220, train_loss:0.002850526012480259\n",
      "Epoch:240, train_loss:0.002722545526921749\n",
      "Epoch:260, train_loss:0.001856606570072472\n",
      "Epoch:280, train_loss:0.005480482243001461\n",
      "Epoch:300, train_loss:0.0028721445705741644\n",
      "Epoch:320, train_loss:0.002081914572045207\n",
      "Epoch:340, train_loss:0.0013586776331067085\n",
      "Epoch:360, train_loss:0.0031851206440478563\n",
      "Epoch:380, train_loss:0.0011035840725526214\n",
      "Epoch:400, train_loss:0.001255023293197155\n",
      "Epoch:420, train_loss:0.0018801491241902113\n",
      "Epoch:440, train_loss:0.0015468504279851913\n",
      "Epoch:460, train_loss:0.003890122752636671\n",
      "Epoch:480, train_loss:0.0021937035489827394\n",
      "Epoch:500, train_loss:0.0019122285302728415\n",
      "Early Stopping\n"
     ]
    }
   ],
   "source": [
    "net=Net(data_dim, hidden_dim, seq_length, output_dim, 1)\n",
    "model, train_hist=train_model(net, train_loader, epochs=epochs,\n",
    "                              lr=learning_late, verbos=20, patience=100)"
   ]
  },
  {
   "cell_type": "code",
   "execution_count": 288,
   "metadata": {},
   "outputs": [
    {
     "data": {
      "image/png": "[encoded data removed]",
      "text/plain": [
       "<Figure size 1000x600 with 1 Axes>"
      ]
     },
     "metadata": {},
     "output_type": "display_data"
    }
   ],
   "source": [
    "fig=plt.figure(figsize=(10, 6))\n",
    "plt.plot(train_hist, label='Training loss')\n",
    "plt.legend()\n",
    "plt.show()"
   ]
  },
  {
   "cell_type": "code",
   "execution_count": 289,
   "metadata": {},
   "outputs": [
    {
     "name": "stdout",
     "output_type": "stream",
     "text": [
      "MAe SCORE: 7863.850345821637\n"
     ]
    }
   ],
   "source": [
    "with torch.no_grad():\n",
    "    pred=[]\n",
    "    for pr in range(len(testX_tensor)):\n",
    "        model.reset_hidden_state()\n",
    "        predicted=model(torch.unsqueeze(testX_tensor[pr],0))\n",
    "        predicted=torch.flatten(predicted).item()\n",
    "        pred.append(predicted)\n",
    "\n",
    "    pred_inverse=scaler_y.inverse_transform(np.array(pred).reshape(-1, 1))\n",
    "    testY_inverse=scaler_y.inverse_transform(testY_tensor)\n",
    "\n",
    "def MAE(true, pred):\n",
    "    return np.mean(np.abs(true-pred))\n",
    "\n",
    "\n",
    "print('MAe SCORE:', MAE(pred_inverse, testY_inverse))"
   ]
  },
  {
   "cell_type": "code",
   "execution_count": 290,
   "metadata": {},
   "outputs": [
    {
     "data": {
      "text/plain": [
       "DatetimeIndex(['2022-01-01', '2022-02-01', '2022-03-01', '2022-07-01',\n",
       "               '2022-08-01', '2022-09-01', '2022-10-01', '2022-11-01',\n",
       "               '2022-12-01'],\n",
       "              dtype='datetime64[ns]', name='date', freq=None)"
      ]
     },
     "execution_count": 290,
     "metadata": {},
     "output_type": "execute_result"
    }
   ],
   "source": [
    "test_set.index[seq_length:]"
   ]
  },
  {
   "cell_type": "code",
   "execution_count": 291,
   "metadata": {},
   "outputs": [],
   "source": [
    "# date=['2021-07','2021-08', '2021-09', '2021-10', '2021-11',\n",
    "#                '2021-12', '2022-01', '2022-02', '2022-03',\n",
    "#                '2022-04', '2022-05', '2022-06', '2022-07',\n",
    "#                '2022-08', '2022-09', '2022-10', '2022-11',\n",
    "#                '2022-12']\n",
    "date=['2022-01', '2022-02', '2022-03','2022-07','2022-08', \n",
    "      '2022-09', '2022-10', '2022-11','2022-12']"
   ]
  },
  {
   "cell_type": "code",
   "execution_count": 292,
   "metadata": {},
   "outputs": [
    {
     "data": {
      "image/png": "[encoded data removed]",
      "text/plain": [
       "<Figure size 1600x600 with 1 Axes>"
      ]
     },
     "metadata": {},
     "output_type": "display_data"
    }
   ],
   "source": [
    "fig=plt.figure(figsize=(16,6))\n",
    "plt.title('수온,염분, 용존산소에 따른 고등어 생산량 예측')\n",
    "plt.plot(np.arange(len(pred_inverse)), pred_inverse, label='pred')\n",
    "plt.plot(np.arange(len(testY_inverse)), testY_inverse, label='true')\n",
    "plt.xlabel('년도')\n",
    "plt.ylabel('생산량')\n",
    "\n",
    "plt.xticks(np.arange(len(pred_inverse)),date)\n",
    "plt.legend()\n",
    "plt.show()"
   ]
  },
  {
   "cell_type": "code",
   "execution_count": null,
   "metadata": {},
   "outputs": [],
   "source": []
  },
  {
   "cell_type": "code",
   "execution_count": null,
   "metadata": {},
   "outputs": [],
   "source": []
  }
 ],
 "metadata": {
  "kernelspec": {
   "display_name": "Python 3",
   "language": "python",
   "name": "python3"
  },
  "language_info": {
   "codemirror_mode": {
    "name": "ipython",
    "version": 3
   },
   "file_extension": ".py",
   "mimetype": "text/x-python",
   "name": "python",
   "nbconvert_exporter": "python",
   "pygments_lexer": "ipython3",
   "version": "3.11.7"
  }
 },
 "nbformat": 4,
 "nbformat_minor": 2
}
